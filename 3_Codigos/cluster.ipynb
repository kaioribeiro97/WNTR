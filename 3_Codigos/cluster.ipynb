{
 "cells": [
  {
   "attachments": {},
   "cell_type": "markdown",
   "metadata": {},
   "source": [
    "# Preparando os dados"
   ]
  },
  {
   "cell_type": "code",
   "execution_count": 1,
   "metadata": {},
   "outputs": [],
   "source": [
    "import wntr\n",
    "import folium\n",
    "import numpy as np\n",
    "import pandas as pd\n",
    "from pyproj import Proj\n",
    "from datetime import date\n",
    "from sklearn.cluster import KMeans\n",
    "from sklearn.preprocessing import StandardScaler"
   ]
  },
  {
   "cell_type": "code",
   "execution_count": 2,
   "metadata": {},
   "outputs": [],
   "source": [
    "#Obtem os dados de diametro, tamanho e rugosidade do arquivo:\n",
    "def Description_pipe(inp_file):\n",
    "    network = wntr.network.WaterNetworkModel(inp_file)\n",
    "    pipe_data = {}\n",
    "    for link_name, link in network.links():\n",
    "        if isinstance(link, wntr.network.elements.Pipe):\n",
    "            length = link.length\n",
    "            diameter = link.diameter\n",
    "            roughness = link.roughness\n",
    "            pipe_data[link_name] = {\n",
    "                \"Length (m)\": length,\n",
    "                \"Diameter (m)\": diameter #,\n",
    "                # \"Roughness (m)\": roughness\n",
    "            }\n",
    "    pipe_table = pd.DataFrame(pipe_data).T\n",
    "    return pipe_table\n",
    "\n",
    "#Substituir valores da coluna material (kmeans permite apenas valores numericos)\n",
    "def mapear_valores(valor):\n",
    "    if valor == 'PVC':\n",
    "        return 1\n",
    "    elif valor == 'PVC DEFOFO':\n",
    "        return 2\n",
    "    elif valor == 'PEAD':\n",
    "        return 3\n",
    "    elif valor == 'FF':\n",
    "        return 4\n",
    "    else:\n",
    "        return None\n",
    "    \n",
    "#  Realiza o processo de ETL inicial:\n",
    "def etl_inp(pipe_data):\n",
    "    pipe_data = pipe_data.reset_index()\n",
    "    pipe_data.rename(columns={'index': 'ID'}, inplace=True) \n",
    "    pipe_data['ID'] = pipe_data['ID'].str.replace('P', '999')\n",
    "    pipe_data['ID'] = pipe_data['ID'].astype(int)\n",
    "    return pipe_data\n",
    "\n",
    "# Função para unir os dois dataframes (informações do pipe + idade e material de cada pipe)\n",
    "def merged(pipe_description_ETL,df_descricao_pipes):\n",
    "    merged_df = pd.merge(pipe_description_ETL, df_descricao_pipes, on='ID', how='left')\n",
    "    merged_df = merged_df.set_index('ID')\n",
    "    merged_df.to_excel('C:/Users/kaiorodrigues/Desktop/WNTR/1_Data/Materiais/test.xlsx',index=False)\n",
    "    # substitui os valores NAN por valores especificos\n",
    "    merged_df['DATA_IMPLA'].fillna(value='1996-03-06', inplace=True)\n",
    "    merged_df['MATERIAL'].fillna(value='PVC', inplace=True)\n",
    "    # Converta a coluna 'Data de Nascimento' para datetime\n",
    "    merged_df['DATA_IMPLA'] = pd.to_datetime(merged_df['DATA_IMPLA'])\n",
    "    today = date.today()\n",
    "    merged_df['Idade'] = today.year - merged_df['DATA_IMPLA'].dt.year\n",
    "    merged_df['Idade'] = merged_df['Idade'].fillna(0).astype(int)\n",
    "    merged_df['Material'] = merged_df['MATERIAL'].apply(mapear_valores)\n",
    "    merged_df = merged_df.drop(['DATA_IMPLA', 'MATERIAL'], axis=1)\n",
    "    return merged_df\n"
   ]
  },
  {
   "cell_type": "code",
   "execution_count": 3,
   "metadata": {},
   "outputs": [],
   "source": [
    "# Arquivo Com a simulação\n",
    "inp_file = \"C:\\\\Users\\\\kaiorodrigues\\\\Desktop\\\\WNTR\\\\1_Data\\\\Vale_do_Amanhecer-Modelo_Final(Demanda_Nova).inp\""
   ]
  },
  {
   "cell_type": "code",
   "execution_count": 4,
   "metadata": {},
   "outputs": [
    {
     "name": "stderr",
     "output_type": "stream",
     "text": [
      "c:\\Users\\kaiorodrigues\\Anaconda3\\lib\\site-packages\\openpyxl\\worksheet\\header_footer.py:48: UserWarning: Cannot parse header or footer so it will be ignored\n",
      "  warn(\"\"\"Cannot parse header or footer so it will be ignored\"\"\")\n"
     ]
    }
   ],
   "source": [
    "pipe_description = Description_pipe(inp_file)\n",
    "pipe_description_ETL = etl_inp(pipe_description)\n",
    "Description_material = pd.read_excel(\"C:/Users/kaiorodrigues/Desktop/WNTR/1_Data/Materiais/Rede_VAM.xlsx\")\n",
    "df_descricao_pipes = Description_material.loc[:, ['ID','DATA_IMPLA','MATERIAL']]\n",
    "merged_df = merged(pipe_description_ETL,df_descricao_pipes)"
   ]
  },
  {
   "cell_type": "code",
   "execution_count": null,
   "metadata": {},
   "outputs": [],
   "source": []
  },
  {
   "cell_type": "code",
   "execution_count": 5,
   "metadata": {},
   "outputs": [],
   "source": [
    "#  Removemos a linha com id 45 pq vem da capitação (pois importa apenas oque vai após o reservatório)\n",
    "capitacao = 45\n",
    "merged_df = merged_df.drop(capitacao)"
   ]
  },
  {
   "attachments": {},
   "cell_type": "markdown",
   "metadata": {},
   "source": [
    "# Utilizando o método Kmeans"
   ]
  },
  {
   "cell_type": "code",
   "execution_count": 6,
   "metadata": {},
   "outputs": [],
   "source": [
    "def cluster(df,n_clusters):\n",
    "    # criar um objeto KMeans e ajustá-lo ao df_descricao_pipes\n",
    "    kmeans = KMeans(n_clusters=n_clusters).fit(df)\n",
    "    # obter as etiquetas de cluster para cada registro\n",
    "    labels = kmeans.labels_\n",
    "    # obter os centróides de cada cluster\n",
    "    centroids = kmeans.cluster_centers_\n",
    "    # Acesse os rótulos dos clusters atribuídos a cada amostra\n",
    "    rotulos = kmeans.labels_\n",
    "    df['Grupo'] = labels\n",
    "    return df"
   ]
  },
  {
   "cell_type": "code",
   "execution_count": 7,
   "metadata": {},
   "outputs": [],
   "source": [
    "df = cluster(merged_df,5)\n",
    "df = df.reset_index()\n",
    "df['ID'] = df['ID'].astype(str).str.replace('999', 'P')\n",
    "df = df.set_index('ID')"
   ]
  },
  {
   "cell_type": "code",
   "execution_count": 8,
   "metadata": {},
   "outputs": [
    {
     "data": {
      "text/html": [
       "<div>\n",
       "<style scoped>\n",
       "    .dataframe tbody tr th:only-of-type {\n",
       "        vertical-align: middle;\n",
       "    }\n",
       "\n",
       "    .dataframe tbody tr th {\n",
       "        vertical-align: top;\n",
       "    }\n",
       "\n",
       "    .dataframe thead th {\n",
       "        text-align: right;\n",
       "    }\n",
       "</style>\n",
       "<table border=\"1\" class=\"dataframe\">\n",
       "  <thead>\n",
       "    <tr style=\"text-align: right;\">\n",
       "      <th></th>\n",
       "      <th>Length (m)</th>\n",
       "      <th>Diameter (m)</th>\n",
       "      <th>Idade</th>\n",
       "      <th>Material</th>\n",
       "      <th>Grupo</th>\n",
       "    </tr>\n",
       "    <tr>\n",
       "      <th>ID</th>\n",
       "      <th></th>\n",
       "      <th></th>\n",
       "      <th></th>\n",
       "      <th></th>\n",
       "      <th></th>\n",
       "    </tr>\n",
       "  </thead>\n",
       "  <tbody>\n",
       "    <tr>\n",
       "      <th>0</th>\n",
       "      <td>0.812481</td>\n",
       "      <td>0.25</td>\n",
       "      <td>27</td>\n",
       "      <td>1</td>\n",
       "      <td>1</td>\n",
       "    </tr>\n",
       "    <tr>\n",
       "      <th>1</th>\n",
       "      <td>6.294194</td>\n",
       "      <td>0.30</td>\n",
       "      <td>27</td>\n",
       "      <td>2</td>\n",
       "      <td>1</td>\n",
       "    </tr>\n",
       "    <tr>\n",
       "      <th>10</th>\n",
       "      <td>226.210125</td>\n",
       "      <td>0.11</td>\n",
       "      <td>27</td>\n",
       "      <td>1</td>\n",
       "      <td>4</td>\n",
       "    </tr>\n",
       "    <tr>\n",
       "      <th>100</th>\n",
       "      <td>14.673712</td>\n",
       "      <td>0.06</td>\n",
       "      <td>27</td>\n",
       "      <td>1</td>\n",
       "      <td>1</td>\n",
       "    </tr>\n",
       "    <tr>\n",
       "      <th>101</th>\n",
       "      <td>49.187364</td>\n",
       "      <td>0.06</td>\n",
       "      <td>27</td>\n",
       "      <td>1</td>\n",
       "      <td>3</td>\n",
       "    </tr>\n",
       "    <tr>\n",
       "      <th>...</th>\n",
       "      <td>...</td>\n",
       "      <td>...</td>\n",
       "      <td>...</td>\n",
       "      <td>...</td>\n",
       "      <td>...</td>\n",
       "    </tr>\n",
       "    <tr>\n",
       "      <th>P43</th>\n",
       "      <td>8.220000</td>\n",
       "      <td>0.25</td>\n",
       "      <td>27</td>\n",
       "      <td>1</td>\n",
       "      <td>1</td>\n",
       "    </tr>\n",
       "    <tr>\n",
       "      <th>P45</th>\n",
       "      <td>9.280000</td>\n",
       "      <td>0.25</td>\n",
       "      <td>27</td>\n",
       "      <td>1</td>\n",
       "      <td>1</td>\n",
       "    </tr>\n",
       "    <tr>\n",
       "      <th>P47</th>\n",
       "      <td>10.100000</td>\n",
       "      <td>0.25</td>\n",
       "      <td>27</td>\n",
       "      <td>1</td>\n",
       "      <td>1</td>\n",
       "    </tr>\n",
       "    <tr>\n",
       "      <th>P49</th>\n",
       "      <td>8.220000</td>\n",
       "      <td>0.30</td>\n",
       "      <td>27</td>\n",
       "      <td>1</td>\n",
       "      <td>1</td>\n",
       "    </tr>\n",
       "    <tr>\n",
       "      <th>P51</th>\n",
       "      <td>7.550000</td>\n",
       "      <td>0.30</td>\n",
       "      <td>27</td>\n",
       "      <td>1</td>\n",
       "      <td>1</td>\n",
       "    </tr>\n",
       "  </tbody>\n",
       "</table>\n",
       "<p>589 rows × 5 columns</p>\n",
       "</div>"
      ],
      "text/plain": [
       "     Length (m)  Diameter (m)  Idade  Material  Grupo\n",
       "ID                                                   \n",
       "0      0.812481          0.25     27         1      1\n",
       "1      6.294194          0.30     27         2      1\n",
       "10   226.210125          0.11     27         1      4\n",
       "100   14.673712          0.06     27         1      1\n",
       "101   49.187364          0.06     27         1      3\n",
       "..          ...           ...    ...       ...    ...\n",
       "P43    8.220000          0.25     27         1      1\n",
       "P45    9.280000          0.25     27         1      1\n",
       "P47   10.100000          0.25     27         1      1\n",
       "P49    8.220000          0.30     27         1      1\n",
       "P51    7.550000          0.30     27         1      1\n",
       "\n",
       "[589 rows x 5 columns]"
      ]
     },
     "execution_count": 8,
     "metadata": {},
     "output_type": "execute_result"
    }
   ],
   "source": [
    "df"
   ]
  },
  {
   "cell_type": "code",
   "execution_count": 9,
   "metadata": {},
   "outputs": [],
   "source": [
    "df.to_excel(\"C:\\\\Users\\\\kaiorodrigues\\\\Desktop\\\\WNTR\\\\cluster_Vale_do_amanhecer.xlsx\")"
   ]
  },
  {
   "cell_type": "code",
   "execution_count": 10,
   "metadata": {},
   "outputs": [
    {
     "name": "stdout",
     "output_type": "stream",
     "text": [
      "1    359\n",
      "3    149\n",
      "0     54\n",
      "4     24\n",
      "2      3\n",
      "Name: Grupo, dtype: int64\n"
     ]
    }
   ],
   "source": [
    "contagem = df['Grupo'].value_counts()\n",
    "\n",
    "# Exibir a contagem\n",
    "print(contagem)\n"
   ]
  }
 ],
 "metadata": {
  "kernelspec": {
   "display_name": "base",
   "language": "python",
   "name": "python3"
  },
  "language_info": {
   "codemirror_mode": {
    "name": "ipython",
    "version": 3
   },
   "file_extension": ".py",
   "mimetype": "text/x-python",
   "name": "python",
   "nbconvert_exporter": "python",
   "pygments_lexer": "ipython3",
   "version": "3.9.13"
  },
  "orig_nbformat": 4
 },
 "nbformat": 4,
 "nbformat_minor": 2
}
