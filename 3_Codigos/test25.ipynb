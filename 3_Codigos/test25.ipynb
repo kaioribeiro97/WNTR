{
 "cells": [
  {
   "cell_type": "code",
   "execution_count": 54,
   "metadata": {},
   "outputs": [],
   "source": [
    "import wntr\n",
    "import pandas as pd\n",
    "from datetime import date\n",
    "import folium\n",
    "import pandas as pd\n",
    "from pyproj import Proj"
   ]
  },
  {
   "cell_type": "code",
   "execution_count": 55,
   "metadata": {},
   "outputs": [],
   "source": [
    "inp_file = \"C:\\\\Users\\\\kaiorodrigues\\\\Desktop\\\\WNTR\\\\1_Data\\\\Vale_do_Amanhecer-Modelo_Final(Demanda_Nova).inp\"\n"
   ]
  },
  {
   "cell_type": "code",
   "execution_count": 56,
   "metadata": {},
   "outputs": [],
   "source": [
    "#Obtem os dados de diametro, tamanho e rugosidade do arquivo:\n",
    "def Description_pipe(inp_file):\n",
    "    network = wntr.network.WaterNetworkModel(inp_file)\n",
    "    pipe_data = {}\n",
    "    for link_name, link in network.links():\n",
    "        if isinstance(link, wntr.network.elements.Pipe):\n",
    "            length = link.length\n",
    "            diameter = link.diameter\n",
    "            roughness = link.roughness\n",
    "            pipe_data[link_name] = {\n",
    "                \"Length (m)\": length,\n",
    "                \"Diameter (m)\": diameter,\n",
    "                \"Roughness (m)\": roughness\n",
    "            }\n",
    "    pipe_table = pd.DataFrame(pipe_data).T\n",
    "    return pipe_table\n",
    "#  Realiza o processo de ETL inicial:\n",
    "def etl_inp(pipe_data):\n",
    "    pipe_data = pipe_data.reset_index()\n",
    "    pipe_data.rename(columns={'index': 'ID'}, inplace=True) \n",
    "    return pipe_data\n",
    "\n",
    "#Substituir valores da coluna material (kmeans permite apenas valores numericos)\n",
    "def mapear_valores(valor):\n",
    "    if valor == 'PVC':\n",
    "        return 1\n",
    "    elif valor == 'PVC DEFOFO':\n",
    "        return 2\n",
    "    elif valor == 'PEAD':\n",
    "        return 3\n",
    "    elif valor == 'FF':\n",
    "        return 4\n",
    "    else:\n",
    "        return None\n",
    "\n"
   ]
  },
  {
   "cell_type": "code",
   "execution_count": 57,
   "metadata": {},
   "outputs": [
    {
     "name": "stderr",
     "output_type": "stream",
     "text": [
      "c:\\Users\\kaiorodrigues\\Anaconda3\\lib\\site-packages\\openpyxl\\worksheet\\header_footer.py:48: UserWarning: Cannot parse header or footer so it will be ignored\n",
      "  warn(\"\"\"Cannot parse header or footer so it will be ignored\"\"\")\n"
     ]
    }
   ],
   "source": [
    "pipe_description = Description_pipe(inp_file)\n",
    "pipe_description_ETL = etl_inp(pipe_description)\n",
    "Description_material = pd.read_excel(\"C:/Users/kaiorodrigues/Desktop/WNTR/1_Data/Materiais/Rede_VAM.xlsx\")\n",
    "df_descricao_pipes = Description_material.loc[:, ['ID','DATA_IMPLA','MATERIAL']]\n",
    "pipe_description_ETL['ID'] = pipe_description_ETL['ID'].str.replace('P', '999')\n",
    "pipe_description_ETL['ID'] = pipe_description_ETL['ID'].astype(int)\n",
    "merged_df = pd.merge(pipe_description_ETL, df_descricao_pipes, on='ID', how='left')\n",
    "merged_df = merged_df.set_index('ID')\n",
    "merged_df.to_excel('C:/Users/kaiorodrigues/Desktop/WNTR/1_Data/Materiais/test.xlsx',index=False)\n",
    "# substitui os valores NAN por valores especificos\n",
    "merged_df['DATA_IMPLA'].fillna(value='1996-03-06', inplace=True)\n",
    "merged_df['MATERIAL'].fillna(value='PVC', inplace=True)\n",
    "# Converta a coluna 'Data de Nascimento' para datetime\n",
    "merged_df['DATA_IMPLA'] = pd.to_datetime(merged_df['DATA_IMPLA'])\n",
    "today = date.today()\n",
    "merged_df['Idade'] = today.year - merged_df['DATA_IMPLA'].dt.year\n",
    "merged_df['Idade'] = merged_df['Idade'].fillna(0).astype(int)\n",
    "merged_df['Material'] = merged_df['MATERIAL'].apply(mapear_valores)\n",
    "merged_df = merged_df.drop(['DATA_IMPLA', 'MATERIAL'], axis=1)"
   ]
  },
  {
   "attachments": {},
   "cell_type": "markdown",
   "metadata": {},
   "source": [
    "# Utilizando o método kmeans"
   ]
  },
  {
   "cell_type": "code",
   "execution_count": 58,
   "metadata": {},
   "outputs": [],
   "source": [
    "#  Removemos a linha com id 45 pq vem da capitação (pois importa apenas oque vai após o reservatório)\n",
    "capitacao = 45\n",
    "merged_df = merged_df.drop(capitacao)"
   ]
  },
  {
   "cell_type": "code",
   "execution_count": 59,
   "metadata": {},
   "outputs": [
    {
     "data": {
      "text/html": [
       "<div>\n",
       "<style scoped>\n",
       "    .dataframe tbody tr th:only-of-type {\n",
       "        vertical-align: middle;\n",
       "    }\n",
       "\n",
       "    .dataframe tbody tr th {\n",
       "        vertical-align: top;\n",
       "    }\n",
       "\n",
       "    .dataframe thead th {\n",
       "        text-align: right;\n",
       "    }\n",
       "</style>\n",
       "<table border=\"1\" class=\"dataframe\">\n",
       "  <thead>\n",
       "    <tr style=\"text-align: right;\">\n",
       "      <th></th>\n",
       "      <th>Length (m)</th>\n",
       "      <th>Diameter (m)</th>\n",
       "      <th>Roughness (m)</th>\n",
       "      <th>Idade</th>\n",
       "      <th>Material</th>\n",
       "    </tr>\n",
       "    <tr>\n",
       "      <th>ID</th>\n",
       "      <th></th>\n",
       "      <th></th>\n",
       "      <th></th>\n",
       "      <th></th>\n",
       "      <th></th>\n",
       "    </tr>\n",
       "  </thead>\n",
       "  <tbody>\n",
       "    <tr>\n",
       "      <th>0</th>\n",
       "      <td>0.812481</td>\n",
       "      <td>0.25</td>\n",
       "      <td>135.0</td>\n",
       "      <td>27</td>\n",
       "      <td>1</td>\n",
       "    </tr>\n",
       "    <tr>\n",
       "      <th>1</th>\n",
       "      <td>6.294194</td>\n",
       "      <td>0.30</td>\n",
       "      <td>135.0</td>\n",
       "      <td>27</td>\n",
       "      <td>2</td>\n",
       "    </tr>\n",
       "    <tr>\n",
       "      <th>10</th>\n",
       "      <td>226.210125</td>\n",
       "      <td>0.11</td>\n",
       "      <td>132.5</td>\n",
       "      <td>27</td>\n",
       "      <td>1</td>\n",
       "    </tr>\n",
       "    <tr>\n",
       "      <th>100</th>\n",
       "      <td>14.673712</td>\n",
       "      <td>0.06</td>\n",
       "      <td>132.5</td>\n",
       "      <td>27</td>\n",
       "      <td>1</td>\n",
       "    </tr>\n",
       "    <tr>\n",
       "      <th>101</th>\n",
       "      <td>49.187364</td>\n",
       "      <td>0.06</td>\n",
       "      <td>132.5</td>\n",
       "      <td>27</td>\n",
       "      <td>1</td>\n",
       "    </tr>\n",
       "    <tr>\n",
       "      <th>...</th>\n",
       "      <td>...</td>\n",
       "      <td>...</td>\n",
       "      <td>...</td>\n",
       "      <td>...</td>\n",
       "      <td>...</td>\n",
       "    </tr>\n",
       "    <tr>\n",
       "      <th>99943</th>\n",
       "      <td>8.220000</td>\n",
       "      <td>0.25</td>\n",
       "      <td>135.0</td>\n",
       "      <td>27</td>\n",
       "      <td>1</td>\n",
       "    </tr>\n",
       "    <tr>\n",
       "      <th>99945</th>\n",
       "      <td>9.280000</td>\n",
       "      <td>0.25</td>\n",
       "      <td>135.0</td>\n",
       "      <td>27</td>\n",
       "      <td>1</td>\n",
       "    </tr>\n",
       "    <tr>\n",
       "      <th>99947</th>\n",
       "      <td>10.100000</td>\n",
       "      <td>0.25</td>\n",
       "      <td>135.0</td>\n",
       "      <td>27</td>\n",
       "      <td>1</td>\n",
       "    </tr>\n",
       "    <tr>\n",
       "      <th>99949</th>\n",
       "      <td>8.220000</td>\n",
       "      <td>0.30</td>\n",
       "      <td>135.0</td>\n",
       "      <td>27</td>\n",
       "      <td>1</td>\n",
       "    </tr>\n",
       "    <tr>\n",
       "      <th>99951</th>\n",
       "      <td>7.550000</td>\n",
       "      <td>0.30</td>\n",
       "      <td>135.0</td>\n",
       "      <td>27</td>\n",
       "      <td>1</td>\n",
       "    </tr>\n",
       "  </tbody>\n",
       "</table>\n",
       "<p>589 rows × 5 columns</p>\n",
       "</div>"
      ],
      "text/plain": [
       "       Length (m)  Diameter (m)  Roughness (m)  Idade  Material\n",
       "ID                                                             \n",
       "0        0.812481          0.25          135.0     27         1\n",
       "1        6.294194          0.30          135.0     27         2\n",
       "10     226.210125          0.11          132.5     27         1\n",
       "100     14.673712          0.06          132.5     27         1\n",
       "101     49.187364          0.06          132.5     27         1\n",
       "...           ...           ...            ...    ...       ...\n",
       "99943    8.220000          0.25          135.0     27         1\n",
       "99945    9.280000          0.25          135.0     27         1\n",
       "99947   10.100000          0.25          135.0     27         1\n",
       "99949    8.220000          0.30          135.0     27         1\n",
       "99951    7.550000          0.30          135.0     27         1\n",
       "\n",
       "[589 rows x 5 columns]"
      ]
     },
     "execution_count": 59,
     "metadata": {},
     "output_type": "execute_result"
    }
   ],
   "source": [
    "merged_df"
   ]
  },
  {
   "cell_type": "code",
   "execution_count": 60,
   "metadata": {},
   "outputs": [
    {
     "name": "stdout",
     "output_type": "stream",
     "text": [
      "Centroides:\n",
      "[[1.198e+02 7.304e-02 1.325e+02 2.692e+01 1.458e+00]\n",
      " [6.279e+00 9.703e-02 1.338e+02 2.532e+01 1.839e+00]\n",
      " [2.119e+02 6.495e-02 1.329e+02 2.700e+01 1.211e+00]\n",
      " [6.251e+01 8.724e-02 1.334e+02 2.677e+01 1.375e+00]\n",
      " [4.208e+02 6.000e-02 1.325e+02 2.700e+01 1.000e+00]\n",
      " [3.864e+01 5.701e-02 1.337e+02 2.551e+01 1.841e+00]\n",
      " [1.512e+02 9.873e-02 1.333e+02 2.700e+01 1.100e+00]\n",
      " [2.667e+02 7.000e-02 1.325e+02 2.700e+01 1.000e+00]\n",
      " [8.810e+01 8.776e-02 1.331e+02 2.691e+01 1.133e+00]\n",
      " [2.109e+01 8.920e-02 1.338e+02 2.609e+01 1.721e+00]]\n",
      "Rótulos dos clusters:\n",
      "[1 1 2 9 5 1 6 1 1 1 1 1 1 1 3 8 1 1 1 1 1 1 1 1 1 1 1 1 1 1 1 1 1 1 1 6 1 1 5 1 9 5 5 5 1 1 5 9 9 9 1 1 9 9 5 5 5 9 9 5 5 5 9 1 1 3 5 5 9 5 9 9 1 5 5 9 5 5 1 1 9 1 1 1 5 9 1 1 9 9 1 3 5 1 5 1 1 1 3 1 5 9 5 1 9 1 1 1 3 9 9 8 9 9 3 5 5 5 5 9 9 5 9 3 8 8 5 3 1 6 8 5 9 9 9 5 5 8 8 8 8 8 5 1 3 3 5 2 1\n",
      " 5 2 6 7 8 9 8 3 1 9 6 3 0 0 9 8 8 8 8 1 6 3 6 9 0 5 1 2 3 3 1 3 3 1 7 9 1 9 1 9 2 9 4 2 2 2 2 2 2 2 2 2 9 2 3 9 6 3 6 9 0 0 0 5 0 1 1 3 8 1 1 1 1 9 0 3 9 3 3 3 3 1 0 1 6 6 9 5 4 3 8 3 3 3 3 3 3 5 3 8 3 3 8 8 8 3 8 8 9 3 0 3 7 1 2 6 3 6 9 8 8 1 8 5 3 9 9 3 2 4 1 7 3 8 3 0 8 3 3 8 3 1 0 3 3 7 6 3 6\n",
      " 8 6 0 5 8 0 9 8 8 3 1 8 0 1 3 0 5 5 3 3 8 1 3 1 3 3 5 1 8 0 3 3 0 8 5 8 3 3 1 1 0 1 5 8 9 9 9 1 3 9 9 1 1 1 8 8 6 9 9 1 9 1 1 5 1 9 1 1 1 1 9 1 5 0 1 9 5 1 6 1 1 1 3 1 6 5 9 5 1 5 1 9 5 9 9 1 9 9 1 3 1 1 1 0 8 2 2 9 9 9 9 9 9 9 9 9 5 9 5 8 9 5 1 1 9 5 1 1 1 1 9 1 9 1 1 1 1 9 1 1 3 6 5 1 1 1 1 1 1\n",
      " 1 1 5 1 1 1 1 1 1 1 1 6 1 1 1 3 9 1 1 3 9 9 6 9 9 9 1 1 5 5 9 1 9 6 1 1 1 1 1 1 9 9 9 6 9 9 9 9 9 9 9 9 9 9 6 1 1 1 1 9 9 9 1 9 9 6 9 1 1 1 1 1 1 1 1 1 6 9 9 9 9 1 5 5 5 5 6 0 9 9 1 1 9 9 9 1 1 1 1 1 1 8 1 1 9 9 9 1 1 9 3 3 1 3 3 3 3 3 3 3 3 3 3 1 1 5 6 6 5 3 3 9 0 0 1 1 9 1 1 1 1 1]\n"
     ]
    }
   ],
   "source": [
    "import pandas as pd\n",
    "import numpy as np\n",
    "from sklearn.cluster import KMeans\n",
    "from sklearn.preprocessing import StandardScaler\n",
    "\n",
    "\n",
    "\n",
    "# Realizar a padronização dos dados utilizando o StandardScaler\n",
    "n_clusters = 10\n",
    "\n",
    "# criar um objeto KMeans e ajustá-lo ao df_descricao_pipes\n",
    "kmeans = KMeans(n_clusters=n_clusters).fit(merged_df)\n",
    "\n",
    "# obter as etiquetas de cluster para cada registro\n",
    "labels = kmeans.labels_\n",
    "\n",
    "# obter os centróides de cada cluster\n",
    "centroids = kmeans.cluster_centers_\n",
    "\n",
    "# imprimir as etiquetas de cluster e os centróides\n",
    "centroides = kmeans.cluster_centers_\n",
    "\n",
    "# Acesse os rótulos dos clusters atribuídos a cada amostra\n",
    "rotulos = kmeans.labels_\n",
    "\n",
    "# Exiba os resultados\n",
    "print(\"Centroides:\")\n",
    "print(centroides)\n",
    "print(\"Rótulos dos clusters:\")\n",
    "print(rotulos)"
   ]
  },
  {
   "cell_type": "code",
   "execution_count": 61,
   "metadata": {},
   "outputs": [],
   "source": [
    "merged_df['Grupo'] = labels"
   ]
  },
  {
   "cell_type": "code",
   "execution_count": 63,
   "metadata": {},
   "outputs": [],
   "source": [
    "merged_df.to_excel(\"Cluster.xlsx\")"
   ]
  },
  {
   "attachments": {},
   "cell_type": "markdown",
   "metadata": {},
   "source": [
    "# Testando pelo método de plotar apartir do trecho\n",
    "\n",
    "Este método consiste em pegar o nó inicial de cada trecho, juntar o grupo + trecho + nó em um unico dataframe, depois criar um Series apenas com o nó e o grupo, em seguida plotar no mapa"
   ]
  },
  {
   "cell_type": "code",
   "execution_count": 64,
   "metadata": {},
   "outputs": [
    {
     "name": "stdout",
     "output_type": "stream",
     "text": [
      "['0', '1', '10', '100', '101', '102', '103', '104', '105', '106', '107', '108', '109', '11', '110', '111', '112', '113', '114', '115', '116', '117', '118', '119', '12', '120', '121', '122', '123', '124', '125', '126', '127', '128', '129', '13', '130', '131', '132', '133', '134', '135', '136', '137', '138', '139', '14', '140', '141', '142', '143', '144', '145', '146', '147', '148', '149', '15', '150', '151', '152', '153', '154', '155', '156', '157', '158', '159', '16', '160', '161', '162', '163', '164', '165', '166', '167', '168', '169', '17', '170', '171', '172', '173', '174', '175', '176', '177', '178', '179', '18', '180', '181', '182', '183', '184', '185', '186', '187', '188', '189', '19', '190', '191', '192', '193', '194', '195', '196', '197', '198', '199', '2', '20', '200', '201', '202', '203', '204', '205', '206', '207', '208', '209', '21', '210', '211', '212', '213', '214', '215', '216', '217', '218', '219', '22', '220', '221', '222', '223', '224', '225', '226', '227', '228', '229', '23', '230', '231', '232', '233', '234', '235', '236', '237', '238', '239', '24', '240', '241', '242', '243', '244', '245', '246', '247', '248', '249', '25', '250', '251', '252', '253', '254', '255', '256', '257', '258', '259', '26', '260', '261', '262', '263', '264', '265', '266', '267', '268', '269', '27', '270', '271', '272', '273', '274', '275', '276', '277', '278', '279', '28', '280', '281', '282', '283', '284', '285', '286', '287', '288', '289', '29', '290', '291', '292', '293', '294', '295', '296', '297', '298', '299', '3', '30', '300', '301', '302', '303', '304', '305', '306', '307', '308', '309', '31', '310', '311', '312', '313', '314', '315', '316', '317', '318', '319', '32', '320', '321', '322', '323', '324', '325', '326', '327', '328', '329', '33', '330', '331', '332', '333', '334', '335', '336', '337', '338', '339', '34', '340', '341', '342', '343', '344', '345', '346', '347', '348', '349', '35', '350', '351', '352', '353', '354', '355', '356', '357', '358', '359', '36', '360', '361', '362', '363', '364', '365', '366', '367', '368', '369', '37', '370', '371', '372', '373', '374', '375', '376', '377', '378', '379', '38', '380', '381', '382', '383', '384', '385', '386', '387', '388', '389', '39', '390', '391', '392', '393', '394', '395', '396', '397', '398', '399', '4', '40', '400', '401', '402', '403', '404', '405', '406', '407', '408', '409', '41', '410', '411', '413', '415', '416', '417', '418', '419', '42', '420', '421', '423', '424', '425', '426', '427', '428', '429', '43', '430', '431', '432', '433', '434', '435', '436', '437', '438', '439', '44', '440', '441', '442', '443', '444', '445', '446', '447', '448', '449', '450', '451', '452', '453', '454', '455', '456', '457', '458', '459', '460', '461', '462', '463', '464', '465', '466', '467', '468', '469', '470', '471', '472', '473', '474', '475', '476', '477', '478', '479', '48', '480', '481', '482', '483', '484', '485', '486', '487', '488', '489', '49', '490', '491', '492', '493', '494', '495', '496', '497', '498', '499', '5', '50', '500', '501', '502', '503', '504', '505', '508', '509', '51', '510', '513', '514', '515', '516', '517', '518', '519', '52', '520', '521', '522', '523', '524', '525', '526', '527', '528', '529', '53', '530', '531', '532', '533', '534', '535', '536', '537', '538', '539', '54', '540', '541', '543', '544', '545', '546', '547', '548', '549', '55', '550', '551', '552', '553', '554', '555', '556', '557', '558', '559', '56', '560', '561', '562', '563', '564', '565', '566', '567', '568', '569', '57', '570', '571', '572', '573', '574', '575', '576', '577', '578', '579', '58', '588', '589', '59', '590', '591', '592', '593', '594', '595', '6', '60', '604', '605', '606', '607', '61', '62', '63', '64', '65', '66', '67', '68', '69', '7', '70', '71', '72', '73', '74', '75', '76', '77', '78', '79', '8', '80', '81', '82', '83', '84', '85', '86', '87', '88', '89', '9', '90', '91', '92', '93', '94', '95', '96', '97', '98', '99', 'P21', 'P35', 'P37', 'P43', 'P45', 'P47', 'P49', 'P51', '45']\n",
      "        ID                       nó\n",
      "0        0                      J10\n",
      "1        1                      J14\n",
      "2       10                      J38\n",
      "3      100                      J22\n",
      "4      101                     J274\n",
      "..     ...                      ...\n",
      "585  99945                    J1112\n",
      "586  99947                    J1112\n",
      "587  99949  RAP.VAM.001.LIT.001.000\n",
      "588  99951  RAP.VAM.001.LIT.002.000\n",
      "589     45              CAR.CQZ.001\n",
      "\n",
      "[590 rows x 2 columns]\n"
     ]
    }
   ],
   "source": [
    "import wntr\n",
    "\n",
    "# Carregar o modelo da rede de água\n",
    "wn = wntr.network.WaterNetworkModel(inp_file)\n",
    "pipe_ids = wn.pipe_name_list\n",
    "\n",
    "# Imprimir os IDs dos nós\n",
    "print(pipe_ids)\n",
    "data = []\n",
    "for i in pipe_ids:\n",
    "    node_name = wn.get_link(i).start_node_name\n",
    "    data.append({'ID': i, 'nó': node_name})\n",
    "\n",
    "df = pd.DataFrame(data)\n",
    "df['ID'] = df['ID'].str.replace('P', '999')\n",
    "print(df)"
   ]
  },
  {
   "cell_type": "code",
   "execution_count": 65,
   "metadata": {},
   "outputs": [
    {
     "data": {
      "text/html": [
       "<div>\n",
       "<style scoped>\n",
       "    .dataframe tbody tr th:only-of-type {\n",
       "        vertical-align: middle;\n",
       "    }\n",
       "\n",
       "    .dataframe tbody tr th {\n",
       "        vertical-align: top;\n",
       "    }\n",
       "\n",
       "    .dataframe thead th {\n",
       "        text-align: right;\n",
       "    }\n",
       "</style>\n",
       "<table border=\"1\" class=\"dataframe\">\n",
       "  <thead>\n",
       "    <tr style=\"text-align: right;\">\n",
       "      <th></th>\n",
       "      <th>ID</th>\n",
       "      <th>nó</th>\n",
       "    </tr>\n",
       "  </thead>\n",
       "  <tbody>\n",
       "    <tr>\n",
       "      <th>0</th>\n",
       "      <td>0</td>\n",
       "      <td>J10</td>\n",
       "    </tr>\n",
       "    <tr>\n",
       "      <th>1</th>\n",
       "      <td>1</td>\n",
       "      <td>J14</td>\n",
       "    </tr>\n",
       "    <tr>\n",
       "      <th>2</th>\n",
       "      <td>10</td>\n",
       "      <td>J38</td>\n",
       "    </tr>\n",
       "    <tr>\n",
       "      <th>3</th>\n",
       "      <td>100</td>\n",
       "      <td>J22</td>\n",
       "    </tr>\n",
       "    <tr>\n",
       "      <th>4</th>\n",
       "      <td>101</td>\n",
       "      <td>J274</td>\n",
       "    </tr>\n",
       "    <tr>\n",
       "      <th>...</th>\n",
       "      <td>...</td>\n",
       "      <td>...</td>\n",
       "    </tr>\n",
       "    <tr>\n",
       "      <th>585</th>\n",
       "      <td>99945</td>\n",
       "      <td>J1112</td>\n",
       "    </tr>\n",
       "    <tr>\n",
       "      <th>586</th>\n",
       "      <td>99947</td>\n",
       "      <td>J1112</td>\n",
       "    </tr>\n",
       "    <tr>\n",
       "      <th>587</th>\n",
       "      <td>99949</td>\n",
       "      <td>RAP.VAM.001.LIT.001.000</td>\n",
       "    </tr>\n",
       "    <tr>\n",
       "      <th>588</th>\n",
       "      <td>99951</td>\n",
       "      <td>RAP.VAM.001.LIT.002.000</td>\n",
       "    </tr>\n",
       "    <tr>\n",
       "      <th>589</th>\n",
       "      <td>45</td>\n",
       "      <td>CAR.CQZ.001</td>\n",
       "    </tr>\n",
       "  </tbody>\n",
       "</table>\n",
       "<p>590 rows × 2 columns</p>\n",
       "</div>"
      ],
      "text/plain": [
       "        ID                       nó\n",
       "0        0                      J10\n",
       "1        1                      J14\n",
       "2       10                      J38\n",
       "3      100                      J22\n",
       "4      101                     J274\n",
       "..     ...                      ...\n",
       "585  99945                    J1112\n",
       "586  99947                    J1112\n",
       "587  99949  RAP.VAM.001.LIT.001.000\n",
       "588  99951  RAP.VAM.001.LIT.002.000\n",
       "589     45              CAR.CQZ.001\n",
       "\n",
       "[590 rows x 2 columns]"
      ]
     },
     "execution_count": 65,
     "metadata": {},
     "output_type": "execute_result"
    }
   ],
   "source": [
    "df"
   ]
  },
  {
   "cell_type": "code",
   "execution_count": 66,
   "metadata": {},
   "outputs": [],
   "source": [
    "merged_df = merged_df.reset_index()\n",
    "df['ID'] = df['ID'].astype(int)\n",
    "df_final = pd.merge(merged_df, df, on='ID', how='left')\n",
    "df_final = df_final.set_index('ID')\n"
   ]
  },
  {
   "cell_type": "code",
   "execution_count": 67,
   "metadata": {},
   "outputs": [],
   "source": [
    "df_pop = df_final[['nó' , 'Grupo']]\n",
    "df_pop = df_pop.drop_duplicates(subset=['nó'])\n",
    "df_pop = df_pop.set_index('nó',drop=True)\n",
    "df_pop.index.name = None"
   ]
  },
  {
   "cell_type": "code",
   "execution_count": null,
   "metadata": {},
   "outputs": [],
   "source": []
  },
  {
   "cell_type": "code",
   "execution_count": 68,
   "metadata": {},
   "outputs": [
    {
     "name": "stdout",
     "output_type": "stream",
     "text": [
      "J10                        1\n",
      "J14                        1\n",
      "J38                        2\n",
      "J22                        9\n",
      "J274                       5\n",
      "                          ..\n",
      "V8002_ND                   9\n",
      "J1110                      1\n",
      "J1112                      1\n",
      "RAP.VAM.001.LIT.001.000    1\n",
      "RAP.VAM.001.LIT.002.000    1\n",
      "Name: Grupo, Length: 443, dtype: int32\n",
      "<class 'pandas.core.series.Series'>\n"
     ]
    }
   ],
   "source": [
    "series = df_pop['Grupo']\n",
    "print(series)\n",
    "print(type(series))"
   ]
  },
  {
   "cell_type": "code",
   "execution_count": 69,
   "metadata": {},
   "outputs": [
    {
     "data": {
      "text/html": [
       "<div>\n",
       "<style scoped>\n",
       "    .dataframe tbody tr th:only-of-type {\n",
       "        vertical-align: middle;\n",
       "    }\n",
       "\n",
       "    .dataframe tbody tr th {\n",
       "        vertical-align: top;\n",
       "    }\n",
       "\n",
       "    .dataframe thead th {\n",
       "        text-align: right;\n",
       "    }\n",
       "</style>\n",
       "<table border=\"1\" class=\"dataframe\">\n",
       "  <thead>\n",
       "    <tr style=\"text-align: right;\">\n",
       "      <th></th>\n",
       "      <th>Nó</th>\n",
       "      <th>coordenada_x</th>\n",
       "      <th>coordenada_y</th>\n",
       "      <th>Long</th>\n",
       "      <th>lat</th>\n",
       "    </tr>\n",
       "  </thead>\n",
       "  <tbody>\n",
       "    <tr>\n",
       "      <th>0</th>\n",
       "      <td>J10</td>\n",
       "      <td>215665.95</td>\n",
       "      <td>8264835.29</td>\n",
       "      <td>-47.652522</td>\n",
       "      <td>-15.678607</td>\n",
       "    </tr>\n",
       "    <tr>\n",
       "      <th>1</th>\n",
       "      <td>RAP.VAM.001.LIT.001.000</td>\n",
       "      <td>215438.59</td>\n",
       "      <td>8264758.98</td>\n",
       "      <td>-47.654650</td>\n",
       "      <td>-15.679270</td>\n",
       "    </tr>\n",
       "  </tbody>\n",
       "</table>\n",
       "</div>"
      ],
      "text/plain": [
       "                        Nó  coordenada_x  coordenada_y       Long        lat\n",
       "0                      J10     215665.95    8264835.29 -47.652522 -15.678607\n",
       "1  RAP.VAM.001.LIT.001.000     215438.59    8264758.98 -47.654650 -15.679270"
      ]
     },
     "execution_count": 69,
     "metadata": {},
     "output_type": "execute_result"
    }
   ],
   "source": [
    "df= [['J10',215665.95, 8264835.29],['RAP.VAM.001.LIT.001.000', 215438.59, 8264758.98]]\n",
    "df = pd.DataFrame (df, columns = ['Nó','coordenada_x','coordenada_y'])\n",
    "myproj = Proj('+proj=utm + zone=23 + south + ellps = WGS84', preserve_units = False)\n",
    "df['Long'],df['lat'] = myproj(df['coordenada_x'].values,df['coordenada_y'].values,inverse=True)\n",
    "df"
   ]
  },
  {
   "cell_type": "code",
   "execution_count": 70,
   "metadata": {},
   "outputs": [],
   "source": [
    "longlat_map = {'J10':(-47.652522,-15.678607),'RAP.VAM.001.LIT.001.000':(-47.654650,-15.679270)}\n",
    "wn2 = wntr.morph.convert_node_coordinates_to_longlat(wn, longlat_map)\n",
    "length = wn2.query_link_attribute('length')\n",
    "wntr.graphics.plot_leaflet_network(wn2, node_attribute=series, node_size=4,link_width=1,node_range=[0,4], filename='length1.html')"
   ]
  },
  {
   "attachments": {},
   "cell_type": "markdown",
   "metadata": {},
   "source": [
    "# Testando pelo método de plotar apartir do nó\n"
   ]
  },
  {
   "cell_type": "code",
   "execution_count": 15,
   "metadata": {},
   "outputs": [],
   "source": [
    "import wntr\n",
    "import pandas as pd\n",
    "from datetime import date\n",
    "from sklearn.cluster import KMeans\n",
    "import folium\n",
    "import matplotlib.pyplot as plt\n",
    "import seaborn as sns\n",
    "%matplotlib inline"
   ]
  },
  {
   "cell_type": "code",
   "execution_count": 16,
   "metadata": {},
   "outputs": [
    {
     "data": {
      "text/html": [
       "<div>\n",
       "<style scoped>\n",
       "    .dataframe tbody tr th:only-of-type {\n",
       "        vertical-align: middle;\n",
       "    }\n",
       "\n",
       "    .dataframe tbody tr th {\n",
       "        vertical-align: top;\n",
       "    }\n",
       "\n",
       "    .dataframe thead th {\n",
       "        text-align: right;\n",
       "    }\n",
       "</style>\n",
       "<table border=\"1\" class=\"dataframe\">\n",
       "  <thead>\n",
       "    <tr style=\"text-align: right;\">\n",
       "      <th></th>\n",
       "      <th>Nó</th>\n",
       "      <th>Long</th>\n",
       "      <th>lat</th>\n",
       "    </tr>\n",
       "  </thead>\n",
       "  <tbody>\n",
       "    <tr>\n",
       "      <th>0</th>\n",
       "      <td>J10</td>\n",
       "      <td>-47.652522</td>\n",
       "      <td>-15.678607</td>\n",
       "    </tr>\n",
       "    <tr>\n",
       "      <th>1</th>\n",
       "      <td>J100</td>\n",
       "      <td>-47.658211</td>\n",
       "      <td>-15.680257</td>\n",
       "    </tr>\n",
       "    <tr>\n",
       "      <th>2</th>\n",
       "      <td>J1000</td>\n",
       "      <td>-47.647968</td>\n",
       "      <td>-15.671222</td>\n",
       "    </tr>\n",
       "    <tr>\n",
       "      <th>3</th>\n",
       "      <td>J1002</td>\n",
       "      <td>-47.648220</td>\n",
       "      <td>-15.672854</td>\n",
       "    </tr>\n",
       "    <tr>\n",
       "      <th>4</th>\n",
       "      <td>J1004</td>\n",
       "      <td>-47.646978</td>\n",
       "      <td>-15.673864</td>\n",
       "    </tr>\n",
       "    <tr>\n",
       "      <th>...</th>\n",
       "      <td>...</td>\n",
       "      <td>...</td>\n",
       "      <td>...</td>\n",
       "    </tr>\n",
       "    <tr>\n",
       "      <th>518</th>\n",
       "      <td>J998</td>\n",
       "      <td>-47.651128</td>\n",
       "      <td>-15.672340</td>\n",
       "    </tr>\n",
       "    <tr>\n",
       "      <th>519</th>\n",
       "      <td>V8002_NU</td>\n",
       "      <td>-47.653317</td>\n",
       "      <td>-15.676426</td>\n",
       "    </tr>\n",
       "    <tr>\n",
       "      <th>520</th>\n",
       "      <td>V8002_ND</td>\n",
       "      <td>-47.653226</td>\n",
       "      <td>-15.676390</td>\n",
       "    </tr>\n",
       "    <tr>\n",
       "      <th>521</th>\n",
       "      <td>RAP.VAM.001.LIT.001.000</td>\n",
       "      <td>-47.654630</td>\n",
       "      <td>-15.679310</td>\n",
       "    </tr>\n",
       "    <tr>\n",
       "      <th>522</th>\n",
       "      <td>RAP.VAM.001.LIT.002.000</td>\n",
       "      <td>-47.654477</td>\n",
       "      <td>-15.679255</td>\n",
       "    </tr>\n",
       "  </tbody>\n",
       "</table>\n",
       "<p>523 rows × 3 columns</p>\n",
       "</div>"
      ],
      "text/plain": [
       "                          Nó       Long        lat\n",
       "0                        J10 -47.652522 -15.678607\n",
       "1                       J100 -47.658211 -15.680257\n",
       "2                      J1000 -47.647968 -15.671222\n",
       "3                      J1002 -47.648220 -15.672854\n",
       "4                      J1004 -47.646978 -15.673864\n",
       "..                       ...        ...        ...\n",
       "518                     J998 -47.651128 -15.672340\n",
       "519                 V8002_NU -47.653317 -15.676426\n",
       "520                 V8002_ND -47.653226 -15.676390\n",
       "521  RAP.VAM.001.LIT.001.000 -47.654630 -15.679310\n",
       "522  RAP.VAM.001.LIT.002.000 -47.654477 -15.679255\n",
       "\n",
       "[523 rows x 3 columns]"
      ]
     },
     "execution_count": 16,
     "metadata": {},
     "output_type": "execute_result"
    }
   ],
   "source": [
    "df = pd.read_excel(\"C:/Users/kaiorodrigues/Desktop/WNTR/1_Data/Materiais/Coordenada.xlsx\")\n",
    "df"
   ]
  },
  {
   "cell_type": "code",
   "execution_count": 17,
   "metadata": {},
   "outputs": [
    {
     "data": {
      "text/html": [
       "<div>\n",
       "<style scoped>\n",
       "    .dataframe tbody tr th:only-of-type {\n",
       "        vertical-align: middle;\n",
       "    }\n",
       "\n",
       "    .dataframe tbody tr th {\n",
       "        vertical-align: top;\n",
       "    }\n",
       "\n",
       "    .dataframe thead th {\n",
       "        text-align: right;\n",
       "    }\n",
       "</style>\n",
       "<table border=\"1\" class=\"dataframe\">\n",
       "  <thead>\n",
       "    <tr style=\"text-align: right;\">\n",
       "      <th></th>\n",
       "      <th>lat</th>\n",
       "      <th>Long</th>\n",
       "    </tr>\n",
       "  </thead>\n",
       "  <tbody>\n",
       "    <tr>\n",
       "      <th>0</th>\n",
       "      <td>-15.678607</td>\n",
       "      <td>-47.652522</td>\n",
       "    </tr>\n",
       "    <tr>\n",
       "      <th>1</th>\n",
       "      <td>-15.680257</td>\n",
       "      <td>-47.658211</td>\n",
       "    </tr>\n",
       "    <tr>\n",
       "      <th>2</th>\n",
       "      <td>-15.671222</td>\n",
       "      <td>-47.647968</td>\n",
       "    </tr>\n",
       "    <tr>\n",
       "      <th>3</th>\n",
       "      <td>-15.672854</td>\n",
       "      <td>-47.648220</td>\n",
       "    </tr>\n",
       "    <tr>\n",
       "      <th>4</th>\n",
       "      <td>-15.673864</td>\n",
       "      <td>-47.646978</td>\n",
       "    </tr>\n",
       "  </tbody>\n",
       "</table>\n",
       "</div>"
      ],
      "text/plain": [
       "         lat       Long\n",
       "0 -15.678607 -47.652522\n",
       "1 -15.680257 -47.658211\n",
       "2 -15.671222 -47.647968\n",
       "3 -15.672854 -47.648220\n",
       "4 -15.673864 -47.646978"
      ]
     },
     "execution_count": 17,
     "metadata": {},
     "output_type": "execute_result"
    }
   ],
   "source": [
    "x = df[[\"lat\", \"Long\"]]\n",
    "x.head()"
   ]
  },
  {
   "cell_type": "code",
   "execution_count": 18,
   "metadata": {},
   "outputs": [],
   "source": [
    "model = KMeans(n_clusters=5)\n",
    "y_kmeans = model.fit_predict(x)"
   ]
  },
  {
   "cell_type": "code",
   "execution_count": 19,
   "metadata": {},
   "outputs": [],
   "source": [
    "df['y'] = y_kmeans"
   ]
  },
  {
   "cell_type": "code",
   "execution_count": 20,
   "metadata": {},
   "outputs": [
    {
     "data": {
      "text/html": [
       "<div>\n",
       "<style scoped>\n",
       "    .dataframe tbody tr th:only-of-type {\n",
       "        vertical-align: middle;\n",
       "    }\n",
       "\n",
       "    .dataframe tbody tr th {\n",
       "        vertical-align: top;\n",
       "    }\n",
       "\n",
       "    .dataframe thead th {\n",
       "        text-align: right;\n",
       "    }\n",
       "</style>\n",
       "<table border=\"1\" class=\"dataframe\">\n",
       "  <thead>\n",
       "    <tr style=\"text-align: right;\">\n",
       "      <th></th>\n",
       "      <th>Nó</th>\n",
       "      <th>Long</th>\n",
       "      <th>lat</th>\n",
       "      <th>y</th>\n",
       "    </tr>\n",
       "  </thead>\n",
       "  <tbody>\n",
       "    <tr>\n",
       "      <th>0</th>\n",
       "      <td>J10</td>\n",
       "      <td>-47.652522</td>\n",
       "      <td>-15.678607</td>\n",
       "      <td>3</td>\n",
       "    </tr>\n",
       "    <tr>\n",
       "      <th>1</th>\n",
       "      <td>J100</td>\n",
       "      <td>-47.658211</td>\n",
       "      <td>-15.680257</td>\n",
       "      <td>2</td>\n",
       "    </tr>\n",
       "    <tr>\n",
       "      <th>2</th>\n",
       "      <td>J1000</td>\n",
       "      <td>-47.647968</td>\n",
       "      <td>-15.671222</td>\n",
       "      <td>1</td>\n",
       "    </tr>\n",
       "    <tr>\n",
       "      <th>3</th>\n",
       "      <td>J1002</td>\n",
       "      <td>-47.648220</td>\n",
       "      <td>-15.672854</td>\n",
       "      <td>1</td>\n",
       "    </tr>\n",
       "    <tr>\n",
       "      <th>4</th>\n",
       "      <td>J1004</td>\n",
       "      <td>-47.646978</td>\n",
       "      <td>-15.673864</td>\n",
       "      <td>1</td>\n",
       "    </tr>\n",
       "  </tbody>\n",
       "</table>\n",
       "</div>"
      ],
      "text/plain": [
       "      Nó       Long        lat  y\n",
       "0    J10 -47.652522 -15.678607  3\n",
       "1   J100 -47.658211 -15.680257  2\n",
       "2  J1000 -47.647968 -15.671222  1\n",
       "3  J1002 -47.648220 -15.672854  1\n",
       "4  J1004 -47.646978 -15.673864  1"
      ]
     },
     "execution_count": 20,
     "metadata": {},
     "output_type": "execute_result"
    }
   ],
   "source": [
    "df.head()"
   ]
  },
  {
   "cell_type": "code",
   "execution_count": 21,
   "metadata": {},
   "outputs": [
    {
     "data": {
      "text/plain": [
       "<matplotlib.collections.PathCollection at 0x24c5ff721c0>"
      ]
     },
     "execution_count": 21,
     "metadata": {},
     "output_type": "execute_result"
    },
    {
     "data": {
      "image/png": "[encoded data removed]",
      "text/plain": [
       "<Figure size 640x480 with 1 Axes>"
      ]
     },
     "metadata": {},
     "output_type": "display_data"
    }
   ],
   "source": [
    "plt.scatter(df['Long'], df['lat'], c=df['y'])"
   ]
  },
  {
   "cell_type": "code",
   "execution_count": 22,
   "metadata": {},
   "outputs": [
    {
     "data": {
      "text/plain": [
       "0.0019832169162474077"
      ]
     },
     "execution_count": 22,
     "metadata": {},
     "output_type": "execute_result"
    }
   ],
   "source": [
    "model.inertia_"
   ]
  },
  {
   "cell_type": "code",
   "execution_count": 23,
   "metadata": {},
   "outputs": [],
   "source": [
    "cluster1 = df[['lat', \"Long\"]][df['y'] == 0].values.tolist()\n",
    "cluster2 = df[['lat', \"Long\"]][df['y'] == 1].values.tolist()\n",
    "cluster3 = df[['lat', \"Long\"]][df['y'] == 2].values.tolist()\n",
    "cluster4 = df[['lat', \"Long\"]][df['y'] == 3].values.tolist()\n",
    "cluster5 = df[['lat', \"Long\"]][df['y'] == 4].values.tolist()"
   ]
  },
  {
   "cell_type": "code",
   "execution_count": 24,
   "metadata": {},
   "outputs": [],
   "source": [
    "df_no = df[['Nó' , 'y']]\n",
    "df_no = df_no.set_index('Nó',drop=True)\n",
    "df_no.index.name = None"
   ]
  },
  {
   "cell_type": "code",
   "execution_count": 25,
   "metadata": {},
   "outputs": [
    {
     "name": "stdout",
     "output_type": "stream",
     "text": [
      "J10                        3\n",
      "J100                       2\n",
      "J1000                      1\n",
      "J1002                      1\n",
      "J1004                      1\n",
      "                          ..\n",
      "J998                       1\n",
      "V8002_NU                   3\n",
      "V8002_ND                   3\n",
      "RAP.VAM.001.LIT.001.000    3\n",
      "RAP.VAM.001.LIT.002.000    3\n",
      "Name: y, Length: 523, dtype: int32\n",
      "<class 'pandas.core.series.Series'>\n"
     ]
    }
   ],
   "source": [
    "series = df_no['y']\n",
    "print(series)\n",
    "print(type(series))"
   ]
  },
  {
   "cell_type": "code",
   "execution_count": 26,
   "metadata": {},
   "outputs": [
    {
     "ename": "KeyError",
     "evalue": "'RAP.VAM.001.FIT.001.000.000'",
     "output_type": "error",
     "traceback": [
      "\u001b[1;31m---------------------------------------------------------------------------\u001b[0m",
      "\u001b[1;31mKeyError\u001b[0m                                  Traceback (most recent call last)",
      "\u001b[1;32m~\\AppData\\Roaming\\Python\\Python39\\site-packages\\wntr\\network\\base.py\u001b[0m in \u001b[0;36m__getitem__\u001b[1;34m(self, key)\u001b[0m\n\u001b[0;32m    609\u001b[0m         \u001b[1;32mtry\u001b[0m\u001b[1;33m:\u001b[0m\u001b[1;33m\u001b[0m\u001b[1;33m\u001b[0m\u001b[0m\n\u001b[1;32m--> 610\u001b[1;33m             \u001b[1;32mreturn\u001b[0m \u001b[0mself\u001b[0m\u001b[1;33m.\u001b[0m\u001b[0m_data\u001b[0m\u001b[1;33m[\u001b[0m\u001b[0mkey\u001b[0m\u001b[1;33m]\u001b[0m\u001b[1;33m\u001b[0m\u001b[1;33m\u001b[0m\u001b[0m\n\u001b[0m\u001b[0;32m    611\u001b[0m         \u001b[1;32mexcept\u001b[0m \u001b[0mKeyError\u001b[0m\u001b[1;33m:\u001b[0m\u001b[1;33m\u001b[0m\u001b[1;33m\u001b[0m\u001b[0m\n",
      "\u001b[1;31mKeyError\u001b[0m: 'RAP.VAM.001.FIT.001.000.000'",
      "\nDuring handling of the above exception, another exception occurred:\n",
      "\u001b[1;31mAttributeError\u001b[0m                            Traceback (most recent call last)",
      "\u001b[1;32m~\\AppData\\Roaming\\Python\\Python39\\site-packages\\wntr\\network\\base.py\u001b[0m in \u001b[0;36m__getitem__\u001b[1;34m(self, key)\u001b[0m\n\u001b[0;32m    612\u001b[0m             \u001b[1;32mtry\u001b[0m\u001b[1;33m:\u001b[0m\u001b[1;33m\u001b[0m\u001b[1;33m\u001b[0m\u001b[0m\n\u001b[1;32m--> 613\u001b[1;33m                 \u001b[1;32mreturn\u001b[0m \u001b[0mself\u001b[0m\u001b[1;33m.\u001b[0m\u001b[0m_data\u001b[0m\u001b[1;33m[\u001b[0m\u001b[0mkey\u001b[0m\u001b[1;33m.\u001b[0m\u001b[0mname\u001b[0m\u001b[1;33m]\u001b[0m\u001b[1;33m\u001b[0m\u001b[1;33m\u001b[0m\u001b[0m\n\u001b[0m\u001b[0;32m    614\u001b[0m             \u001b[1;32mexcept\u001b[0m\u001b[1;33m:\u001b[0m\u001b[1;33m\u001b[0m\u001b[1;33m\u001b[0m\u001b[0m\n",
      "\u001b[1;31mAttributeError\u001b[0m: 'str' object has no attribute 'name'",
      "\nDuring handling of the above exception, another exception occurred:\n",
      "\u001b[1;31mKeyError\u001b[0m                                  Traceback (most recent call last)",
      "\u001b[1;32m~\\AppData\\Local\\Temp\\ipykernel_27084\\1391688734.py\u001b[0m in \u001b[0;36m<module>\u001b[1;34m\u001b[0m\n\u001b[0;32m      1\u001b[0m \u001b[0mlonglat_map\u001b[0m \u001b[1;33m=\u001b[0m \u001b[1;33m{\u001b[0m\u001b[1;34m'J10'\u001b[0m\u001b[1;33m:\u001b[0m\u001b[1;33m(\u001b[0m\u001b[1;33m-\u001b[0m\u001b[1;36m47.652522\u001b[0m\u001b[1;33m,\u001b[0m\u001b[1;33m-\u001b[0m\u001b[1;36m15.678607\u001b[0m\u001b[1;33m)\u001b[0m\u001b[1;33m,\u001b[0m\u001b[1;34m'RAP.VAM.001.FIT.001.000.000'\u001b[0m\u001b[1;33m:\u001b[0m\u001b[1;33m(\u001b[0m\u001b[1;33m-\u001b[0m\u001b[1;36m47.654437\u001b[0m\u001b[1;33m,\u001b[0m\u001b[1;33m-\u001b[0m\u001b[1;36m15.679285\u001b[0m\u001b[1;33m)\u001b[0m\u001b[1;33m}\u001b[0m\u001b[1;33m\u001b[0m\u001b[1;33m\u001b[0m\u001b[0m\n\u001b[1;32m----> 2\u001b[1;33m \u001b[0mwn2\u001b[0m \u001b[1;33m=\u001b[0m \u001b[0mwntr\u001b[0m\u001b[1;33m.\u001b[0m\u001b[0mmorph\u001b[0m\u001b[1;33m.\u001b[0m\u001b[0mconvert_node_coordinates_to_longlat\u001b[0m\u001b[1;33m(\u001b[0m\u001b[0mwn\u001b[0m\u001b[1;33m,\u001b[0m \u001b[0mlonglat_map\u001b[0m\u001b[1;33m)\u001b[0m\u001b[1;33m\u001b[0m\u001b[1;33m\u001b[0m\u001b[0m\n\u001b[0m\u001b[0;32m      3\u001b[0m \u001b[0mlength\u001b[0m \u001b[1;33m=\u001b[0m \u001b[0mwn2\u001b[0m\u001b[1;33m.\u001b[0m\u001b[0mquery_link_attribute\u001b[0m\u001b[1;33m(\u001b[0m\u001b[1;34m'length'\u001b[0m\u001b[1;33m)\u001b[0m\u001b[1;33m\u001b[0m\u001b[1;33m\u001b[0m\u001b[0m\n\u001b[0;32m      4\u001b[0m \u001b[0mwntr\u001b[0m\u001b[1;33m.\u001b[0m\u001b[0mgraphics\u001b[0m\u001b[1;33m.\u001b[0m\u001b[0mplot_leaflet_network\u001b[0m\u001b[1;33m(\u001b[0m\u001b[0mwn2\u001b[0m\u001b[1;33m,\u001b[0m \u001b[0mnode_attribute\u001b[0m\u001b[1;33m=\u001b[0m\u001b[0mseries\u001b[0m\u001b[1;33m,\u001b[0m \u001b[0mnode_size\u001b[0m\u001b[1;33m=\u001b[0m\u001b[1;36m4\u001b[0m\u001b[1;33m,\u001b[0m\u001b[0mlink_width\u001b[0m\u001b[1;33m=\u001b[0m\u001b[1;36m1\u001b[0m\u001b[1;33m,\u001b[0m\u001b[0mnode_range\u001b[0m\u001b[1;33m=\u001b[0m\u001b[1;33m[\u001b[0m\u001b[1;36m0\u001b[0m\u001b[1;33m,\u001b[0m\u001b[1;36m5\u001b[0m\u001b[1;33m]\u001b[0m\u001b[1;33m,\u001b[0m \u001b[0mfilename\u001b[0m\u001b[1;33m=\u001b[0m\u001b[1;34m'length_nó.html'\u001b[0m\u001b[1;33m)\u001b[0m\u001b[1;33m\u001b[0m\u001b[1;33m\u001b[0m\u001b[0m\n",
      "\u001b[1;32m~\\AppData\\Roaming\\Python\\Python39\\site-packages\\wntr\\morph\\node.py\u001b[0m in \u001b[0;36mconvert_node_coordinates_to_longlat\u001b[1;34m(wn, longlat_map, return_copy)\u001b[0m\n\u001b[0;32m    235\u001b[0m     \"\"\"\n\u001b[0;32m    236\u001b[0m \u001b[1;33m\u001b[0m\u001b[0m\n\u001b[1;32m--> 237\u001b[1;33m     \u001b[0mwn2\u001b[0m \u001b[1;33m=\u001b[0m \u001b[0m_convert_with_map\u001b[0m\u001b[1;33m(\u001b[0m\u001b[0mwn\u001b[0m\u001b[1;33m,\u001b[0m \u001b[0mlonglat_map\u001b[0m\u001b[1;33m,\u001b[0m \u001b[1;34m'LONGLAT'\u001b[0m\u001b[1;33m,\u001b[0m \u001b[0mreturn_copy\u001b[0m\u001b[1;33m)\u001b[0m\u001b[1;33m\u001b[0m\u001b[1;33m\u001b[0m\u001b[0m\n\u001b[0m\u001b[0;32m    238\u001b[0m \u001b[1;33m\u001b[0m\u001b[0m\n\u001b[0;32m    239\u001b[0m     \u001b[1;32mreturn\u001b[0m \u001b[0mwn2\u001b[0m\u001b[1;33m\u001b[0m\u001b[1;33m\u001b[0m\u001b[0m\n",
      "\u001b[1;32m~\\AppData\\Roaming\\Python\\Python39\\site-packages\\wntr\\morph\\node.py\u001b[0m in \u001b[0;36m_convert_with_map\u001b[1;34m(wn, node_map, flag, return_copy)\u001b[0m\n\u001b[0;32m    258\u001b[0m     \u001b[0mB\u001b[0m \u001b[1;33m=\u001b[0m \u001b[1;33m[\u001b[0m\u001b[1;33m]\u001b[0m\u001b[1;33m\u001b[0m\u001b[1;33m\u001b[0m\u001b[0m\n\u001b[0;32m    259\u001b[0m     \u001b[1;32mfor\u001b[0m \u001b[0mnode_name\u001b[0m\u001b[1;33m,\u001b[0m \u001b[0mcoords\u001b[0m \u001b[1;32min\u001b[0m \u001b[0mnode_map\u001b[0m\u001b[1;33m.\u001b[0m\u001b[0mitems\u001b[0m\u001b[1;33m(\u001b[0m\u001b[1;33m)\u001b[0m\u001b[1;33m:\u001b[0m\u001b[1;33m\u001b[0m\u001b[1;33m\u001b[0m\u001b[0m\n\u001b[1;32m--> 260\u001b[1;33m         \u001b[0mA\u001b[0m\u001b[1;33m.\u001b[0m\u001b[0mappend\u001b[0m\u001b[1;33m(\u001b[0m\u001b[0mnp\u001b[0m\u001b[1;33m.\u001b[0m\u001b[0marray\u001b[0m\u001b[1;33m(\u001b[0m\u001b[0mwn2\u001b[0m\u001b[1;33m.\u001b[0m\u001b[0mget_node\u001b[0m\u001b[1;33m(\u001b[0m\u001b[0mnode_name\u001b[0m\u001b[1;33m)\u001b[0m\u001b[1;33m.\u001b[0m\u001b[0mcoordinates\u001b[0m\u001b[1;33m)\u001b[0m\u001b[1;33m)\u001b[0m\u001b[1;33m\u001b[0m\u001b[1;33m\u001b[0m\u001b[0m\n\u001b[0m\u001b[0;32m    261\u001b[0m         \u001b[1;32mif\u001b[0m \u001b[0mflag\u001b[0m \u001b[1;33m==\u001b[0m \u001b[1;34m'LONGLAT'\u001b[0m\u001b[1;33m:\u001b[0m\u001b[1;33m\u001b[0m\u001b[1;33m\u001b[0m\u001b[0m\n\u001b[0;32m    262\u001b[0m             \u001b[0mlongitude\u001b[0m \u001b[1;33m=\u001b[0m \u001b[0mcoords\u001b[0m\u001b[1;33m[\u001b[0m\u001b[1;36m0\u001b[0m\u001b[1;33m]\u001b[0m\u001b[1;33m\u001b[0m\u001b[1;33m\u001b[0m\u001b[0m\n",
      "\u001b[1;32m~\\AppData\\Roaming\\Python\\Python39\\site-packages\\wntr\\network\\model.py\u001b[0m in \u001b[0;36mget_node\u001b[1;34m(self, name)\u001b[0m\n\u001b[0;32m    761\u001b[0m \u001b[1;33m\u001b[0m\u001b[0m\n\u001b[0;32m    762\u001b[0m         \"\"\"\n\u001b[1;32m--> 763\u001b[1;33m         \u001b[1;32mreturn\u001b[0m \u001b[0mself\u001b[0m\u001b[1;33m.\u001b[0m\u001b[0m_node_reg\u001b[0m\u001b[1;33m[\u001b[0m\u001b[0mname\u001b[0m\u001b[1;33m]\u001b[0m\u001b[1;33m\u001b[0m\u001b[1;33m\u001b[0m\u001b[0m\n\u001b[0m\u001b[0;32m    764\u001b[0m \u001b[1;33m\u001b[0m\u001b[0m\n\u001b[0;32m    765\u001b[0m     \u001b[1;32mdef\u001b[0m \u001b[0mget_link\u001b[0m\u001b[1;33m(\u001b[0m\u001b[0mself\u001b[0m\u001b[1;33m,\u001b[0m \u001b[0mname\u001b[0m\u001b[1;33m)\u001b[0m\u001b[1;33m:\u001b[0m\u001b[1;33m\u001b[0m\u001b[1;33m\u001b[0m\u001b[0m\n",
      "\u001b[1;32m~\\AppData\\Roaming\\Python\\Python39\\site-packages\\wntr\\network\\base.py\u001b[0m in \u001b[0;36m__getitem__\u001b[1;34m(self, key)\u001b[0m\n\u001b[0;32m    613\u001b[0m                 \u001b[1;32mreturn\u001b[0m \u001b[0mself\u001b[0m\u001b[1;33m.\u001b[0m\u001b[0m_data\u001b[0m\u001b[1;33m[\u001b[0m\u001b[0mkey\u001b[0m\u001b[1;33m.\u001b[0m\u001b[0mname\u001b[0m\u001b[1;33m]\u001b[0m\u001b[1;33m\u001b[0m\u001b[1;33m\u001b[0m\u001b[0m\n\u001b[0;32m    614\u001b[0m             \u001b[1;32mexcept\u001b[0m\u001b[1;33m:\u001b[0m\u001b[1;33m\u001b[0m\u001b[1;33m\u001b[0m\u001b[0m\n\u001b[1;32m--> 615\u001b[1;33m                 \u001b[1;32mreturn\u001b[0m \u001b[0mself\u001b[0m\u001b[1;33m.\u001b[0m\u001b[0m_data\u001b[0m\u001b[1;33m[\u001b[0m\u001b[0mstr\u001b[0m\u001b[1;33m(\u001b[0m\u001b[0mkey\u001b[0m\u001b[1;33m)\u001b[0m\u001b[1;33m]\u001b[0m\u001b[1;33m\u001b[0m\u001b[1;33m\u001b[0m\u001b[0m\n\u001b[0m\u001b[0;32m    616\u001b[0m \u001b[1;33m\u001b[0m\u001b[0m\n\u001b[0;32m    617\u001b[0m \u001b[1;33m\u001b[0m\u001b[0m\n",
      "\u001b[1;31mKeyError\u001b[0m: 'RAP.VAM.001.FIT.001.000.000'"
     ]
    }
   ],
   "source": [
    "longlat_map = {'J10':(-47.652522,-15.678607),'RAP.VAM.001.FIT.001.000.000':(-47.654437,-15.679285)}\n",
    "wn2 = wntr.morph.convert_node_coordinates_to_longlat(wn, longlat_map)\n",
    "length = wn2.query_link_attribute('length')\n",
    "wntr.graphics.plot_leaflet_network(wn2, node_attribute=series, node_size=4,link_width=1,node_range=[0,5], filename='length_nó.html')"
   ]
  }
 ],
 "metadata": {
  "kernelspec": {
   "display_name": "base",
   "language": "python",
   "name": "python3"
  },
  "language_info": {
   "codemirror_mode": {
    "name": "ipython",
    "version": 3
   },
   "file_extension": ".py",
   "mimetype": "text/x-python",
   "name": "python",
   "nbconvert_exporter": "python",
   "pygments_lexer": "ipython3",
   "version": "3.9.13"
  },
  "orig_nbformat": 4
 },
 "nbformat": 4,
 "nbformat_minor": 2
}
