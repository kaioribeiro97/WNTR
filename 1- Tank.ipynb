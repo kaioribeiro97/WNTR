{
 "cells": [
  {
   "cell_type": "code",
   "execution_count": 1,
   "id": "e1772404",
   "metadata": {},
   "outputs": [],
   "source": [
    "import numpy as np\n",
    "from scipy.stats import lognorm\n",
    "import networkx as nx\n",
    "import geopandas as gpd\n",
    "import matplotlib.pylab as plt\n",
    "import warnings\n",
    "import wntr\n",
    "import folium\n",
    "from pyproj import Transformer\n",
    "import matplotlib.cm as cm\n",
    "import matplotlib.colors as colors\n",
    "import matplotlib.colors as mcolors\n",
    "import branca.colormap as bcm\n",
    "# Suppress warning messages that will be addressed in future WNTR releases\n",
    "warnings.filterwarnings(\"ignore\", message=\"Column names longer than 10 characters will be truncated when saved to \"\n",
    "            \"ESRI Shapefile.\")\n",
    "warnings.filterwarnings(\"ignore\", message=\"'crs' was not provided.  The output dataset will not have projection information defined and may not be usable in other systems.\")\n",
    "warnings.filterwarnings(\"ignore\", message=\"Normalized/laundered field name:\")\n",
    "warnings.filterwarnings(\"ignore\", message=\"Geometry is in a geographic CRS.\")"
   ]
  },
  {
   "cell_type": "code",
   "execution_count": null,
   "id": "36a03e86",
   "metadata": {},
   "outputs": [],
   "source": []
  },
  {
   "cell_type": "markdown",
   "id": "033cb9db",
   "metadata": {},
   "source": [
    "# Simulação Original"
   ]
  },
  {
   "cell_type": "code",
   "execution_count": 2,
   "id": "486f3003",
   "metadata": {},
   "outputs": [],
   "source": [
    "# Create a WaterNetworkModel from an EPANET INP file\n",
    "\n",
    "wn = wntr.network.WaterNetworkModel('PK_QD28_TESTE_DOS_NOS_DUPLICADOS (20).inp')\n",
    "nome_reservatorio = 'R1'         # Nome do reservatório\n",
    "base_head = 1159.99              # Carga hidráulica (ajuste conforme sua rede)\n",
    "coordinates = (181765.717, 8236835.008)             # Coordenadas (opcional, ajuste conforme necessário)\n",
    "# Parâmetros da tubulação\n",
    "nome_tubulacao = 'P_R1_N49'\n",
    "comprimento = 0.10                # Comprimento em metros (ajuste conforme necessário)\n",
    "diametro = 110                   # Diâmetro em mm (ajuste conforme necessário)\n",
    "rugosidade = 140                 # Rugosidade (ajuste conforme necessário)\n",
    "\n",
    "# Adiciona o reservatório à rede\n",
    "wn.add_reservoir(nome_reservatorio, base_head=base_head, coordinates=coordinates)\n",
    "# Adiciona a tubulação conectando o reservatório ao nó N49\n",
    "wn.add_pipe(nome_tubulacao, nome_reservatorio, 'N49', length=comprimento, diameter=diametro, roughness=rugosidade)\n",
    "\n",
    "sim = wntr.sim.EpanetSimulator(wn)\n",
    "results = sim.run_sim()\n",
    "\n",
    "# Extraia pressões do último instante simulado\n",
    "pressure = results.node['pressure'].iloc[-1]\n",
    "demanda = results.node['demand'].iloc[-1]\n",
    "\n",
    "# Converta as Coordenadas dos Nós para Latitude/Longitude\n",
    "from pyproj import Transformer\n",
    "\n",
    "transformer = Transformer.from_crs('EPSG:31983', 'EPSG:4326', always_xy=True)\n",
    "nodes_latlon = {}\n",
    "for node in wn.node_name_list:\n",
    "    x, y = wn.get_node(node).coordinates\n",
    "    lon, lat = transformer.transform(x, y)\n",
    "    nodes_latlon[node] = (lat, lon)\n",
    "\n",
    "# Normaliza as pressões para escala de cores\n",
    "press_values = list(pressure.values)\n",
    "# norm = colors.Normalize(vmin=min(press_values), vmax=max(press_values))\n",
    "# Supondo que press_values já é sua lista de pressões\n",
    "vmin = min(press_values)\n",
    "vmax = max(press_values)\n",
    "# Crie o mapa centralizado em um ponto da rede\n",
    "lat_centro, lon_centro = list(nodes_latlon.values())[0]\n",
    "m = folium.Map(location=[lat_centro, lon_centro], zoom_start=15)\n",
    "velocity = results.link['velocity']\n",
    "\n",
    "# Adicionar os trechos de redes\n",
    "for pipe_name in wn.pipe_name_list:\n",
    "    pipe = wn.get_link(pipe_name)\n",
    "    start_node = pipe.start_node_name\n",
    "    end_node = pipe.end_node_name\n",
    "    latlon_start = nodes_latlon[start_node]\n",
    "    latlon_end = nodes_latlon[end_node]\n",
    "    velocity_last = velocity[pipe_name].iloc[-1]\n",
    "    popup_text = f\"{pipe_name}: Velocidade = {velocity_last:.2f} m/s\"\n",
    "    folium.PolyLine(\n",
    "        locations=[latlon_start, latlon_end],\n",
    "        color='black',\n",
    "        weight=3,\n",
    "        opacity=0.7,\n",
    "        popup=popup_text\n",
    "    ).add_to(m)\n",
    "\n",
    "\n",
    "# Adicione cada nó com cor conforme a pressão\n",
    "\n",
    "vmin = min(press_values)\n",
    "vmax = max(press_values)\n",
    "cmap = plt.colormaps['YlOrBr']\n",
    "colors = [cmap(i / 10) for i in range(11)]\n",
    "hex_colors = [mcolors.rgb2hex(c) for c in colors]\n",
    "\n",
    "colormap = bcm.LinearColormap(hex_colors, vmin=vmin, vmax=vmax, caption='Pressão (m)')\n",
    "colormap.add_to(m)\n",
    "\n",
    "for node, (lat, lon) in nodes_latlon.items():\n",
    "    press = pressure[node]\n",
    "    deman = demanda[node]\n",
    "    color = colormap(press)\n",
    "    if node == nome_reservatorio:\n",
    "        folium.Marker(\n",
    "            location=[lat, lon],\n",
    "            popup=f'Reservatório {node}: {press:.2f} m - Demanda {deman:.5f} l/s',\n",
    "            icon=folium.Icon(color='blue', icon='tint', prefix='fa')\n",
    "        ).add_to(m)\n",
    "    else:\n",
    "        folium.CircleMarker(\n",
    "            location=[lat, lon],\n",
    "            radius=8,\n",
    "            color=color,\n",
    "            fill=True,\n",
    "            fill_color=color,\n",
    "            fill_opacity=0.9,\n",
    "            popup=f'{node}: {press:.2f} m - Demanda {deman:.5f} l/s'\n",
    "        ).add_to(m)\n",
    "m.save('index.html')\n",
    "m.save('rede_pressao_mapa.html')\n",
    "\n",
    "\n",
    "# Gere o mapa interativo e salve em um arquivo HTML\n",
    "# wntr.graphics.plot_leaflet_network(wn, filename='rede_mapa.html')\n",
    "\n"
   ]
  },
  {
   "cell_type": "markdown",
   "id": "35d06705",
   "metadata": {},
   "source": [
    "# Simulação Com Vazamento"
   ]
  },
  {
   "cell_type": "code",
   "execution_count": 3,
   "id": "82d35f8d",
   "metadata": {},
   "outputs": [],
   "source": [
    "import wntr\n",
    "import folium\n",
    "import matplotlib.pyplot as plt\n",
    "import matplotlib.colors as mcolors\n",
    "import branca.colormap as bcm\n",
    "from pyproj import Transformer\n",
    "\n",
    "# Carregue o modelo da rede\n",
    "wn = wntr.network.WaterNetworkModel('PK_QD28_TESTE_DOS_NOS_DUPLICADOS (20).inp')\n",
    "\n",
    "# Parâmetros do reservatório (ajuste conforme necessário)\n",
    "nome_reservatorio = 'R1'\n",
    "base_head = 1149.99\n",
    "coordinates = (181765.717, 8236835.008)\n",
    "\n",
    "# Adiciona o reservatório à rede\n",
    "wn.add_reservoir(nome_reservatorio, base_head=base_head, coordinates=coordinates)\n",
    "\n",
    "# Adiciona a tubulação conectando o reservatório ao nó N49 (ajuste conforme necessário)\n",
    "nome_tubulacao = 'P_R1_N49'\n",
    "comprimento = 0.10\n",
    "diametro = 0.11\n",
    "rugosidade = 140\n",
    "wn.add_pipe(nome_tubulacao, nome_reservatorio, 'N49', length=comprimento, diameter=diametro, roughness=rugosidade)\n",
    "\n",
    "# --- Simulação de vazamento no trecho P39 ---\n",
    "\n",
    "# Parâmetros do vazamento\n",
    "nome_trecho = 'P17'\n",
    "nome_no_inicio = wn.get_link(nome_trecho).start_node_name\n",
    "nome_no_fim = wn.get_link(nome_trecho).end_node_name\n",
    "comprimento_total = wn.get_link(nome_trecho).length\n",
    "diametro_trecho = wn.get_link(nome_trecho).diameter\n",
    "rugosidade_trecho = wn.get_link(nome_trecho).roughness\n",
    "\n",
    "# Remove o trecho original\n",
    "wn.remove_link(nome_trecho)\n",
    "\n",
    "# Crie um nó intermediário para o vazamento\n",
    "nome_vazamento = 'Leak_P17'\n",
    "# Coordenadas intermediárias (ajuste conforme necessário)\n",
    "x_inicio, y_inicio = wn.get_node(nome_no_inicio).coordinates\n",
    "x_fim, y_fim = wn.get_node(nome_no_fim).coordinates\n",
    "x_vaz, y_vaz = (x_inicio + x_fim) / 2, (y_inicio + y_fim) / 2\n",
    "\n",
    "# Adiciona o nó do vazamento com demanda elevada (simulando o rompimento)\n",
    "demanda_vazamento = 0.1  # m³/h ou L/s, ajuste conforme escala da sua rede\n",
    "wn.add_junction(nome_vazamento, base_demand=demanda_vazamento, demand_pattern=None, coordinates=(x_vaz, y_vaz))\n",
    "\n",
    "# Divide o trecho original em dois\n",
    "wn.add_pipe('P17_1', nome_no_inicio, nome_vazamento, length=comprimento_total/2, diameter=diametro_trecho, roughness=rugosidade_trecho)\n",
    "wn.add_pipe('P17_2', nome_vazamento, nome_no_fim, length=comprimento_total/2, diameter=diametro_trecho, roughness=rugosidade_trecho)\n",
    "\n",
    "#Mudando o diametro de toda a rede\n",
    "# Supondo que 'wn' é seu WaterNetworkModel já carregado\n",
    "# novo_diametro_mm = 60  # exemplo: 150 mm\n",
    "# novo_diametro_m = novo_diametro_mm / 1000.0\n",
    "\n",
    "# for pipe_name in wn.pipe_name_list:\n",
    "#     pipe = wn.get_link(pipe_name)\n",
    "#     pipe.diameter = novo_diametro_m\n",
    "\n",
    "\n",
    "# --- Simulação hidráulica ---\n",
    "sim = wntr.sim.EpanetSimulator(wn)\n",
    "results = sim.run_sim()\n",
    "\n",
    "# Extraia pressões do último instante simulado\n",
    "pressure = results.node['pressure'].iloc[-1]\n",
    "demanda = results.node['demand'].iloc[-1]\n",
    "# Converta as coordenadas dos nós para Latitude/Longitude\n",
    "transformer = Transformer.from_crs('EPSG:31983', 'EPSG:4326', always_xy=True)\n",
    "nodes_latlon = {}\n",
    "for node in wn.node_name_list:\n",
    "    x, y = wn.get_node(node).coordinates\n",
    "    lon, lat = transformer.transform(x, y)\n",
    "    nodes_latlon[node] = (lat, lon)\n",
    "\n",
    "# Normaliza as pressões para escala de cores\n",
    "press_values = list(pressure.values)\n",
    "vmin = min(press_values)\n",
    "vmax = max(press_values)\n",
    "cmap = plt.colormaps['inferno']\n",
    "colors = [cmap(i / 10) for i in range(11)]\n",
    "hex_colors = [mcolors.rgb2hex(c) for c in colors]\n",
    "colormap = bcm.LinearColormap(hex_colors, vmin=vmin, vmax=vmax, caption='Pressão (m)')\n",
    "\n",
    "# Crie o mapa centralizado em um ponto da rede\n",
    "lat_centro, lon_centro = list(nodes_latlon.values())[0]\n",
    "m = folium.Map(location=[lat_centro, lon_centro], zoom_start=15)\n",
    "colormap.add_to(m)\n",
    "\n",
    "velocity = results.link['velocity']\n",
    "\n",
    "# Adicionar os trechos de redes\n",
    "for pipe_name in wn.pipe_name_list:\n",
    "    pipe = wn.get_link(pipe_name)\n",
    "    start_node = pipe.start_node_name\n",
    "    end_node = pipe.end_node_name\n",
    "    latlon_start = nodes_latlon[start_node]\n",
    "    latlon_end = nodes_latlon[end_node]\n",
    "    velocity_last = velocity[pipe_name].iloc[-1]\n",
    "    popup_text = f\"{pipe_name}: Velocidade = {velocity_last:.2f} m/s\"\n",
    "    folium.PolyLine(\n",
    "        locations=[latlon_start, latlon_end],\n",
    "        color='black',\n",
    "        weight=3,\n",
    "        opacity=0.7,\n",
    "        popup=popup_text\n",
    "    ).add_to(m)\n",
    "\n",
    "# Adicione cada nó com cor conforme a pressão\n",
    "for node, (lat, lon) in nodes_latlon.items():\n",
    "    press = pressure[node]\n",
    "    deman = demanda[node]\n",
    "    color = colormap(press)\n",
    "    if node == nome_reservatorio:\n",
    "        folium.Marker(\n",
    "            location=[lat, lon],\n",
    "            popup=f'Reservatório {node}: {press:.2f} m - Demanda {deman:.2f} l/s',\n",
    "            icon=folium.Icon(color='blue', icon='tint', prefix='fa')\n",
    "        ).add_to(m)\n",
    "    elif node == nome_vazamento:\n",
    "        folium.Marker(\n",
    "            location=[lat, lon],\n",
    "            popup=f'Vazamento {node}: {press:.2f} m - Demanda {deman:.2f} l/s',\n",
    "            icon=folium.Icon(color='red', icon='exclamation-triangle', prefix='fa')\n",
    "        ).add_to(m)\n",
    "    else:\n",
    "        folium.CircleMarker(\n",
    "            location=[lat, lon],\n",
    "            radius=8,\n",
    "            color=color,\n",
    "            fill=True,\n",
    "            fill_color=color,\n",
    "            fill_opacity=0.9,\n",
    "            popup=f'{node}: {press:.2f} m  - Demanda {deman:.2f} l/s'\n",
    "        ).add_to(m)\n",
    "\n",
    "# Salve o mapa interativo\n",
    "m.save('rede_pressao_vazamento.html')\n"
   ]
  },
  {
   "cell_type": "code",
   "execution_count": 4,
   "id": "20fde4bd",
   "metadata": {},
   "outputs": [
    {
     "data": {
      "application/vnd.microsoft.datawrangler.viewer.v0+json": {
       "columns": [
        {
         "name": "index",
         "rawType": "int32",
         "type": "integer"
        },
        {
         "name": "P8",
         "rawType": "float32",
         "type": "float"
        },
        {
         "name": "P9",
         "rawType": "float32",
         "type": "float"
        },
        {
         "name": "P10",
         "rawType": "float32",
         "type": "float"
        },
        {
         "name": "P11",
         "rawType": "float32",
         "type": "float"
        },
        {
         "name": "P12",
         "rawType": "float32",
         "type": "float"
        },
        {
         "name": "P13",
         "rawType": "float32",
         "type": "float"
        },
        {
         "name": "P14",
         "rawType": "float32",
         "type": "float"
        },
        {
         "name": "P15",
         "rawType": "float32",
         "type": "float"
        },
        {
         "name": "P16",
         "rawType": "float32",
         "type": "float"
        },
        {
         "name": "P18",
         "rawType": "float32",
         "type": "float"
        },
        {
         "name": "P19",
         "rawType": "float32",
         "type": "float"
        },
        {
         "name": "P20",
         "rawType": "float32",
         "type": "float"
        },
        {
         "name": "P21",
         "rawType": "float32",
         "type": "float"
        },
        {
         "name": "P22",
         "rawType": "float32",
         "type": "float"
        },
        {
         "name": "P23",
         "rawType": "float32",
         "type": "float"
        },
        {
         "name": "P24",
         "rawType": "float32",
         "type": "float"
        },
        {
         "name": "P25",
         "rawType": "float32",
         "type": "float"
        },
        {
         "name": "P26",
         "rawType": "float32",
         "type": "float"
        },
        {
         "name": "P27",
         "rawType": "float32",
         "type": "float"
        },
        {
         "name": "P28",
         "rawType": "float32",
         "type": "float"
        },
        {
         "name": "P29",
         "rawType": "float32",
         "type": "float"
        },
        {
         "name": "P30",
         "rawType": "float32",
         "type": "float"
        },
        {
         "name": "P31",
         "rawType": "float32",
         "type": "float"
        },
        {
         "name": "P32",
         "rawType": "float32",
         "type": "float"
        },
        {
         "name": "P33",
         "rawType": "float32",
         "type": "float"
        },
        {
         "name": "P34",
         "rawType": "float32",
         "type": "float"
        },
        {
         "name": "P35",
         "rawType": "float32",
         "type": "float"
        },
        {
         "name": "P36",
         "rawType": "float32",
         "type": "float"
        },
        {
         "name": "P37",
         "rawType": "float32",
         "type": "float"
        },
        {
         "name": "P38",
         "rawType": "float32",
         "type": "float"
        },
        {
         "name": "P39",
         "rawType": "float32",
         "type": "float"
        },
        {
         "name": "P40",
         "rawType": "float32",
         "type": "float"
        },
        {
         "name": "P41",
         "rawType": "float32",
         "type": "float"
        },
        {
         "name": "P42",
         "rawType": "float32",
         "type": "float"
        },
        {
         "name": "P43",
         "rawType": "float32",
         "type": "float"
        },
        {
         "name": "P44",
         "rawType": "float32",
         "type": "float"
        },
        {
         "name": "P45",
         "rawType": "float32",
         "type": "float"
        },
        {
         "name": "P48",
         "rawType": "float32",
         "type": "float"
        },
        {
         "name": "P49",
         "rawType": "float32",
         "type": "float"
        },
        {
         "name": "P50",
         "rawType": "float32",
         "type": "float"
        },
        {
         "name": "P51",
         "rawType": "float32",
         "type": "float"
        },
        {
         "name": "P52",
         "rawType": "float32",
         "type": "float"
        },
        {
         "name": "P53",
         "rawType": "float32",
         "type": "float"
        },
        {
         "name": "P54",
         "rawType": "float32",
         "type": "float"
        },
        {
         "name": "P55",
         "rawType": "float32",
         "type": "float"
        },
        {
         "name": "P56",
         "rawType": "float32",
         "type": "float"
        },
        {
         "name": "P57",
         "rawType": "float32",
         "type": "float"
        },
        {
         "name": "P58",
         "rawType": "float32",
         "type": "float"
        },
        {
         "name": "P59",
         "rawType": "float32",
         "type": "float"
        },
        {
         "name": "P60",
         "rawType": "float32",
         "type": "float"
        },
        {
         "name": "P61",
         "rawType": "float32",
         "type": "float"
        },
        {
         "name": "P62",
         "rawType": "float32",
         "type": "float"
        },
        {
         "name": "P63",
         "rawType": "float32",
         "type": "float"
        },
        {
         "name": "P64",
         "rawType": "float32",
         "type": "float"
        },
        {
         "name": "P65",
         "rawType": "float32",
         "type": "float"
        },
        {
         "name": "P66",
         "rawType": "float32",
         "type": "float"
        },
        {
         "name": "P67",
         "rawType": "float32",
         "type": "float"
        },
        {
         "name": "P68",
         "rawType": "float32",
         "type": "float"
        },
        {
         "name": "P69",
         "rawType": "float32",
         "type": "float"
        },
        {
         "name": "P70",
         "rawType": "float32",
         "type": "float"
        },
        {
         "name": "P71",
         "rawType": "float32",
         "type": "float"
        },
        {
         "name": "P72",
         "rawType": "float32",
         "type": "float"
        },
        {
         "name": "P73",
         "rawType": "float32",
         "type": "float"
        },
        {
         "name": "P74",
         "rawType": "float32",
         "type": "float"
        },
        {
         "name": "P75",
         "rawType": "float32",
         "type": "float"
        },
        {
         "name": "P76",
         "rawType": "float32",
         "type": "float"
        },
        {
         "name": "P77",
         "rawType": "float32",
         "type": "float"
        },
        {
         "name": "P78",
         "rawType": "float32",
         "type": "float"
        },
        {
         "name": "P79",
         "rawType": "float32",
         "type": "float"
        },
        {
         "name": "P80",
         "rawType": "float32",
         "type": "float"
        },
        {
         "name": "P81",
         "rawType": "float32",
         "type": "float"
        },
        {
         "name": "P82",
         "rawType": "float32",
         "type": "float"
        },
        {
         "name": "P83",
         "rawType": "float32",
         "type": "float"
        },
        {
         "name": "P84",
         "rawType": "float32",
         "type": "float"
        },
        {
         "name": "P85",
         "rawType": "float32",
         "type": "float"
        },
        {
         "name": "P86",
         "rawType": "float32",
         "type": "float"
        },
        {
         "name": "P87",
         "rawType": "float32",
         "type": "float"
        },
        {
         "name": "P88",
         "rawType": "float32",
         "type": "float"
        },
        {
         "name": "P89",
         "rawType": "float32",
         "type": "float"
        },
        {
         "name": "P90",
         "rawType": "float32",
         "type": "float"
        },
        {
         "name": "P91",
         "rawType": "float32",
         "type": "float"
        },
        {
         "name": "P92",
         "rawType": "float32",
         "type": "float"
        },
        {
         "name": "P93",
         "rawType": "float32",
         "type": "float"
        },
        {
         "name": "P94",
         "rawType": "float32",
         "type": "float"
        },
        {
         "name": "P95",
         "rawType": "float32",
         "type": "float"
        },
        {
         "name": "P96",
         "rawType": "float32",
         "type": "float"
        },
        {
         "name": "P97",
         "rawType": "float32",
         "type": "float"
        },
        {
         "name": "P98",
         "rawType": "float32",
         "type": "float"
        },
        {
         "name": "P99",
         "rawType": "float32",
         "type": "float"
        },
        {
         "name": "P100",
         "rawType": "float32",
         "type": "float"
        },
        {
         "name": "P101",
         "rawType": "float32",
         "type": "float"
        },
        {
         "name": "P102",
         "rawType": "float32",
         "type": "float"
        },
        {
         "name": "P103",
         "rawType": "float32",
         "type": "float"
        },
        {
         "name": "P104",
         "rawType": "float32",
         "type": "float"
        },
        {
         "name": "P105",
         "rawType": "float32",
         "type": "float"
        },
        {
         "name": "P106",
         "rawType": "float32",
         "type": "float"
        },
        {
         "name": "P107",
         "rawType": "float32",
         "type": "float"
        },
        {
         "name": "P108",
         "rawType": "float32",
         "type": "float"
        },
        {
         "name": "P109",
         "rawType": "float32",
         "type": "float"
        },
        {
         "name": "P110",
         "rawType": "float32",
         "type": "float"
        },
        {
         "name": "P111",
         "rawType": "float32",
         "type": "float"
        },
        {
         "name": "P112",
         "rawType": "float32",
         "type": "float"
        },
        {
         "name": "P113",
         "rawType": "float32",
         "type": "float"
        },
        {
         "name": "P114",
         "rawType": "float32",
         "type": "float"
        },
        {
         "name": "P115",
         "rawType": "float32",
         "type": "float"
        },
        {
         "name": "P116",
         "rawType": "float32",
         "type": "float"
        },
        {
         "name": "P117",
         "rawType": "float32",
         "type": "float"
        },
        {
         "name": "P118",
         "rawType": "float32",
         "type": "float"
        },
        {
         "name": "P119",
         "rawType": "float32",
         "type": "float"
        },
        {
         "name": "P120",
         "rawType": "float32",
         "type": "float"
        },
        {
         "name": "P121",
         "rawType": "float32",
         "type": "float"
        },
        {
         "name": "P122",
         "rawType": "float32",
         "type": "float"
        },
        {
         "name": "P123",
         "rawType": "float32",
         "type": "float"
        },
        {
         "name": "P124",
         "rawType": "float32",
         "type": "float"
        },
        {
         "name": "P125",
         "rawType": "float32",
         "type": "float"
        },
        {
         "name": "P126",
         "rawType": "float32",
         "type": "float"
        },
        {
         "name": "P127",
         "rawType": "float32",
         "type": "float"
        },
        {
         "name": "P128",
         "rawType": "float32",
         "type": "float"
        },
        {
         "name": "P129",
         "rawType": "float32",
         "type": "float"
        },
        {
         "name": "P130",
         "rawType": "float32",
         "type": "float"
        },
        {
         "name": "P131",
         "rawType": "float32",
         "type": "float"
        },
        {
         "name": "P132",
         "rawType": "float32",
         "type": "float"
        },
        {
         "name": "P133",
         "rawType": "float32",
         "type": "float"
        },
        {
         "name": "P134",
         "rawType": "float32",
         "type": "float"
        },
        {
         "name": "P135",
         "rawType": "float32",
         "type": "float"
        },
        {
         "name": "P136",
         "rawType": "float32",
         "type": "float"
        },
        {
         "name": "P137",
         "rawType": "float32",
         "type": "float"
        },
        {
         "name": "P138",
         "rawType": "float32",
         "type": "float"
        },
        {
         "name": "P139",
         "rawType": "float32",
         "type": "float"
        },
        {
         "name": "P140",
         "rawType": "float32",
         "type": "float"
        },
        {
         "name": "P141",
         "rawType": "float32",
         "type": "float"
        },
        {
         "name": "P142",
         "rawType": "float32",
         "type": "float"
        },
        {
         "name": "P143",
         "rawType": "float32",
         "type": "float"
        },
        {
         "name": "P144",
         "rawType": "float32",
         "type": "float"
        },
        {
         "name": "P145",
         "rawType": "float32",
         "type": "float"
        },
        {
         "name": "P146",
         "rawType": "float32",
         "type": "float"
        },
        {
         "name": "P147",
         "rawType": "float32",
         "type": "float"
        },
        {
         "name": "P148",
         "rawType": "float32",
         "type": "float"
        },
        {
         "name": "P149",
         "rawType": "float32",
         "type": "float"
        },
        {
         "name": "P150",
         "rawType": "float32",
         "type": "float"
        },
        {
         "name": "P151",
         "rawType": "float32",
         "type": "float"
        },
        {
         "name": "P152",
         "rawType": "float32",
         "type": "float"
        },
        {
         "name": "P153",
         "rawType": "float32",
         "type": "float"
        },
        {
         "name": "P154",
         "rawType": "float32",
         "type": "float"
        },
        {
         "name": "P155",
         "rawType": "float32",
         "type": "float"
        },
        {
         "name": "P156",
         "rawType": "float32",
         "type": "float"
        },
        {
         "name": "P157",
         "rawType": "float32",
         "type": "float"
        },
        {
         "name": "P158",
         "rawType": "float32",
         "type": "float"
        },
        {
         "name": "P159",
         "rawType": "float32",
         "type": "float"
        },
        {
         "name": "P160",
         "rawType": "float32",
         "type": "float"
        },
        {
         "name": "P161",
         "rawType": "float32",
         "type": "float"
        },
        {
         "name": "P162",
         "rawType": "float32",
         "type": "float"
        },
        {
         "name": "P163",
         "rawType": "float32",
         "type": "float"
        },
        {
         "name": "P164",
         "rawType": "float32",
         "type": "float"
        },
        {
         "name": "P165",
         "rawType": "float32",
         "type": "float"
        },
        {
         "name": "P166",
         "rawType": "float32",
         "type": "float"
        },
        {
         "name": "P167",
         "rawType": "float32",
         "type": "float"
        },
        {
         "name": "P168",
         "rawType": "float32",
         "type": "float"
        },
        {
         "name": "P169",
         "rawType": "float32",
         "type": "float"
        },
        {
         "name": "P170",
         "rawType": "float32",
         "type": "float"
        },
        {
         "name": "P171",
         "rawType": "float32",
         "type": "float"
        },
        {
         "name": "P172",
         "rawType": "float32",
         "type": "float"
        },
        {
         "name": "P173",
         "rawType": "float32",
         "type": "float"
        },
        {
         "name": "P174",
         "rawType": "float32",
         "type": "float"
        },
        {
         "name": "P175",
         "rawType": "float32",
         "type": "float"
        },
        {
         "name": "P176",
         "rawType": "float32",
         "type": "float"
        },
        {
         "name": "P177",
         "rawType": "float32",
         "type": "float"
        },
        {
         "name": "P178",
         "rawType": "float32",
         "type": "float"
        },
        {
         "name": "P179",
         "rawType": "float32",
         "type": "float"
        },
        {
         "name": "P180",
         "rawType": "float32",
         "type": "float"
        },
        {
         "name": "P181",
         "rawType": "float32",
         "type": "float"
        },
        {
         "name": "P182",
         "rawType": "float32",
         "type": "float"
        },
        {
         "name": "P183",
         "rawType": "float32",
         "type": "float"
        },
        {
         "name": "P184",
         "rawType": "float32",
         "type": "float"
        },
        {
         "name": "P185",
         "rawType": "float32",
         "type": "float"
        },
        {
         "name": "P186",
         "rawType": "float32",
         "type": "float"
        },
        {
         "name": "P187",
         "rawType": "float32",
         "type": "float"
        },
        {
         "name": "P188",
         "rawType": "float32",
         "type": "float"
        },
        {
         "name": "P189",
         "rawType": "float32",
         "type": "float"
        },
        {
         "name": "P190",
         "rawType": "float32",
         "type": "float"
        },
        {
         "name": "P191",
         "rawType": "float32",
         "type": "float"
        },
        {
         "name": "P192",
         "rawType": "float32",
         "type": "float"
        },
        {
         "name": "P193",
         "rawType": "float32",
         "type": "float"
        },
        {
         "name": "P194",
         "rawType": "float32",
         "type": "float"
        },
        {
         "name": "P195",
         "rawType": "float32",
         "type": "float"
        },
        {
         "name": "P196",
         "rawType": "float32",
         "type": "float"
        },
        {
         "name": "P197",
         "rawType": "float32",
         "type": "float"
        },
        {
         "name": "P198",
         "rawType": "float32",
         "type": "float"
        },
        {
         "name": "P199",
         "rawType": "float32",
         "type": "float"
        },
        {
         "name": "P200",
         "rawType": "float32",
         "type": "float"
        },
        {
         "name": "P201",
         "rawType": "float32",
         "type": "float"
        },
        {
         "name": "P202",
         "rawType": "float32",
         "type": "float"
        },
        {
         "name": "P203",
         "rawType": "float32",
         "type": "float"
        },
        {
         "name": "P204",
         "rawType": "float32",
         "type": "float"
        },
        {
         "name": "P205",
         "rawType": "float32",
         "type": "float"
        },
        {
         "name": "P206",
         "rawType": "float32",
         "type": "float"
        },
        {
         "name": "P207",
         "rawType": "float32",
         "type": "float"
        },
        {
         "name": "P208",
         "rawType": "float32",
         "type": "float"
        },
        {
         "name": "P209",
         "rawType": "float32",
         "type": "float"
        },
        {
         "name": "P210",
         "rawType": "float32",
         "type": "float"
        },
        {
         "name": "P211",
         "rawType": "float32",
         "type": "float"
        },
        {
         "name": "P212",
         "rawType": "float32",
         "type": "float"
        },
        {
         "name": "P213",
         "rawType": "float32",
         "type": "float"
        },
        {
         "name": "P214",
         "rawType": "float32",
         "type": "float"
        },
        {
         "name": "P215",
         "rawType": "float32",
         "type": "float"
        },
        {
         "name": "P216",
         "rawType": "float32",
         "type": "float"
        },
        {
         "name": "P217",
         "rawType": "float32",
         "type": "float"
        },
        {
         "name": "P218",
         "rawType": "float32",
         "type": "float"
        },
        {
         "name": "P219",
         "rawType": "float32",
         "type": "float"
        },
        {
         "name": "P220",
         "rawType": "float32",
         "type": "float"
        },
        {
         "name": "P221",
         "rawType": "float32",
         "type": "float"
        },
        {
         "name": "P222",
         "rawType": "float32",
         "type": "float"
        },
        {
         "name": "P223",
         "rawType": "float32",
         "type": "float"
        },
        {
         "name": "P224",
         "rawType": "float32",
         "type": "float"
        },
        {
         "name": "P225",
         "rawType": "float32",
         "type": "float"
        },
        {
         "name": "P226",
         "rawType": "float32",
         "type": "float"
        },
        {
         "name": "P227",
         "rawType": "float32",
         "type": "float"
        },
        {
         "name": "P228",
         "rawType": "float32",
         "type": "float"
        },
        {
         "name": "P229",
         "rawType": "float32",
         "type": "float"
        },
        {
         "name": "P230",
         "rawType": "float32",
         "type": "float"
        },
        {
         "name": "P231",
         "rawType": "float32",
         "type": "float"
        },
        {
         "name": "P232",
         "rawType": "float32",
         "type": "float"
        },
        {
         "name": "P233",
         "rawType": "float32",
         "type": "float"
        },
        {
         "name": "P234",
         "rawType": "float32",
         "type": "float"
        },
        {
         "name": "P235",
         "rawType": "float32",
         "type": "float"
        },
        {
         "name": "P236",
         "rawType": "float32",
         "type": "float"
        },
        {
         "name": "P237",
         "rawType": "float32",
         "type": "float"
        },
        {
         "name": "P238",
         "rawType": "float32",
         "type": "float"
        },
        {
         "name": "P239",
         "rawType": "float32",
         "type": "float"
        },
        {
         "name": "P240",
         "rawType": "float32",
         "type": "float"
        },
        {
         "name": "P241",
         "rawType": "float32",
         "type": "float"
        },
        {
         "name": "P242",
         "rawType": "float32",
         "type": "float"
        },
        {
         "name": "P243",
         "rawType": "float32",
         "type": "float"
        },
        {
         "name": "P244",
         "rawType": "float32",
         "type": "float"
        },
        {
         "name": "P245",
         "rawType": "float32",
         "type": "float"
        },
        {
         "name": "P246",
         "rawType": "float32",
         "type": "float"
        },
        {
         "name": "P247",
         "rawType": "float32",
         "type": "float"
        },
        {
         "name": "P248",
         "rawType": "float32",
         "type": "float"
        },
        {
         "name": "P249",
         "rawType": "float32",
         "type": "float"
        },
        {
         "name": "P250",
         "rawType": "float32",
         "type": "float"
        },
        {
         "name": "P251",
         "rawType": "float32",
         "type": "float"
        },
        {
         "name": "P252",
         "rawType": "float32",
         "type": "float"
        },
        {
         "name": "P253",
         "rawType": "float32",
         "type": "float"
        },
        {
         "name": "P254",
         "rawType": "float32",
         "type": "float"
        },
        {
         "name": "P255",
         "rawType": "float32",
         "type": "float"
        },
        {
         "name": "P256",
         "rawType": "float32",
         "type": "float"
        },
        {
         "name": "P257",
         "rawType": "float32",
         "type": "float"
        },
        {
         "name": "P258",
         "rawType": "float32",
         "type": "float"
        },
        {
         "name": "P259",
         "rawType": "float32",
         "type": "float"
        },
        {
         "name": "P260",
         "rawType": "float32",
         "type": "float"
        },
        {
         "name": "P261",
         "rawType": "float32",
         "type": "float"
        },
        {
         "name": "P262",
         "rawType": "float32",
         "type": "float"
        },
        {
         "name": "P263",
         "rawType": "float32",
         "type": "float"
        },
        {
         "name": "P264",
         "rawType": "float32",
         "type": "float"
        },
        {
         "name": "P265",
         "rawType": "float32",
         "type": "float"
        },
        {
         "name": "P266",
         "rawType": "float32",
         "type": "float"
        },
        {
         "name": "P267",
         "rawType": "float32",
         "type": "float"
        },
        {
         "name": "P268",
         "rawType": "float32",
         "type": "float"
        },
        {
         "name": "P269",
         "rawType": "float32",
         "type": "float"
        },
        {
         "name": "P270",
         "rawType": "float32",
         "type": "float"
        },
        {
         "name": "P271",
         "rawType": "float32",
         "type": "float"
        },
        {
         "name": "P272",
         "rawType": "float32",
         "type": "float"
        },
        {
         "name": "P273",
         "rawType": "float32",
         "type": "float"
        },
        {
         "name": "P274",
         "rawType": "float32",
         "type": "float"
        },
        {
         "name": "P275",
         "rawType": "float32",
         "type": "float"
        },
        {
         "name": "P276",
         "rawType": "float32",
         "type": "float"
        },
        {
         "name": "P277",
         "rawType": "float32",
         "type": "float"
        },
        {
         "name": "P278",
         "rawType": "float32",
         "type": "float"
        },
        {
         "name": "P279",
         "rawType": "float32",
         "type": "float"
        },
        {
         "name": "P280",
         "rawType": "float32",
         "type": "float"
        },
        {
         "name": "P281",
         "rawType": "float32",
         "type": "float"
        },
        {
         "name": "P282",
         "rawType": "float32",
         "type": "float"
        },
        {
         "name": "P283",
         "rawType": "float32",
         "type": "float"
        },
        {
         "name": "P284",
         "rawType": "float32",
         "type": "float"
        },
        {
         "name": "P285",
         "rawType": "float32",
         "type": "float"
        },
        {
         "name": "P286",
         "rawType": "float32",
         "type": "float"
        },
        {
         "name": "P287",
         "rawType": "float32",
         "type": "float"
        },
        {
         "name": "P288",
         "rawType": "float32",
         "type": "float"
        },
        {
         "name": "P289",
         "rawType": "float32",
         "type": "float"
        },
        {
         "name": "P290",
         "rawType": "float32",
         "type": "float"
        },
        {
         "name": "P291",
         "rawType": "float32",
         "type": "float"
        },
        {
         "name": "P292",
         "rawType": "float32",
         "type": "float"
        },
        {
         "name": "P293",
         "rawType": "float32",
         "type": "float"
        },
        {
         "name": "P294",
         "rawType": "float32",
         "type": "float"
        },
        {
         "name": "P295",
         "rawType": "float32",
         "type": "float"
        },
        {
         "name": "P296",
         "rawType": "float32",
         "type": "float"
        },
        {
         "name": "P297",
         "rawType": "float32",
         "type": "float"
        },
        {
         "name": "P298",
         "rawType": "float32",
         "type": "float"
        },
        {
         "name": "P299",
         "rawType": "float32",
         "type": "float"
        },
        {
         "name": "P300",
         "rawType": "float32",
         "type": "float"
        },
        {
         "name": "P301",
         "rawType": "float32",
         "type": "float"
        },
        {
         "name": "P302",
         "rawType": "float32",
         "type": "float"
        },
        {
         "name": "P303",
         "rawType": "float32",
         "type": "float"
        },
        {
         "name": "P304",
         "rawType": "float32",
         "type": "float"
        },
        {
         "name": "P305",
         "rawType": "float32",
         "type": "float"
        },
        {
         "name": "P306",
         "rawType": "float32",
         "type": "float"
        },
        {
         "name": "P307",
         "rawType": "float32",
         "type": "float"
        },
        {
         "name": "P308",
         "rawType": "float32",
         "type": "float"
        },
        {
         "name": "P309",
         "rawType": "float32",
         "type": "float"
        },
        {
         "name": "P310",
         "rawType": "float32",
         "type": "float"
        },
        {
         "name": "P311",
         "rawType": "float32",
         "type": "float"
        },
        {
         "name": "P312",
         "rawType": "float32",
         "type": "float"
        },
        {
         "name": "P313",
         "rawType": "float32",
         "type": "float"
        },
        {
         "name": "P314",
         "rawType": "float32",
         "type": "float"
        },
        {
         "name": "P315",
         "rawType": "float32",
         "type": "float"
        },
        {
         "name": "P316",
         "rawType": "float32",
         "type": "float"
        },
        {
         "name": "P317",
         "rawType": "float32",
         "type": "float"
        },
        {
         "name": "P318",
         "rawType": "float32",
         "type": "float"
        },
        {
         "name": "P319",
         "rawType": "float32",
         "type": "float"
        },
        {
         "name": "P320",
         "rawType": "float32",
         "type": "float"
        },
        {
         "name": "P321",
         "rawType": "float32",
         "type": "float"
        },
        {
         "name": "P322",
         "rawType": "float32",
         "type": "float"
        },
        {
         "name": "P323",
         "rawType": "float32",
         "type": "float"
        },
        {
         "name": "P324",
         "rawType": "float32",
         "type": "float"
        },
        {
         "name": "P325",
         "rawType": "float32",
         "type": "float"
        },
        {
         "name": "P326",
         "rawType": "float32",
         "type": "float"
        },
        {
         "name": "P327",
         "rawType": "float32",
         "type": "float"
        },
        {
         "name": "P328",
         "rawType": "float32",
         "type": "float"
        },
        {
         "name": "P329",
         "rawType": "float32",
         "type": "float"
        },
        {
         "name": "P330",
         "rawType": "float32",
         "type": "float"
        },
        {
         "name": "P331",
         "rawType": "float32",
         "type": "float"
        },
        {
         "name": "P332",
         "rawType": "float32",
         "type": "float"
        },
        {
         "name": "P333",
         "rawType": "float32",
         "type": "float"
        },
        {
         "name": "P334",
         "rawType": "float32",
         "type": "float"
        },
        {
         "name": "P335",
         "rawType": "float32",
         "type": "float"
        },
        {
         "name": "P336",
         "rawType": "float32",
         "type": "float"
        },
        {
         "name": "P337",
         "rawType": "float32",
         "type": "float"
        },
        {
         "name": "P338",
         "rawType": "float32",
         "type": "float"
        },
        {
         "name": "P339",
         "rawType": "float32",
         "type": "float"
        },
        {
         "name": "P340",
         "rawType": "float32",
         "type": "float"
        },
        {
         "name": "P341",
         "rawType": "float32",
         "type": "float"
        },
        {
         "name": "P342",
         "rawType": "float32",
         "type": "float"
        },
        {
         "name": "P343",
         "rawType": "float32",
         "type": "float"
        },
        {
         "name": "P344",
         "rawType": "float32",
         "type": "float"
        },
        {
         "name": "P345",
         "rawType": "float32",
         "type": "float"
        },
        {
         "name": "P346",
         "rawType": "float32",
         "type": "float"
        },
        {
         "name": "P347",
         "rawType": "float32",
         "type": "float"
        },
        {
         "name": "P348",
         "rawType": "float32",
         "type": "float"
        },
        {
         "name": "P349",
         "rawType": "float32",
         "type": "float"
        },
        {
         "name": "P350",
         "rawType": "float32",
         "type": "float"
        },
        {
         "name": "P351",
         "rawType": "float32",
         "type": "float"
        },
        {
         "name": "P352",
         "rawType": "float32",
         "type": "float"
        },
        {
         "name": "P353",
         "rawType": "float32",
         "type": "float"
        },
        {
         "name": "P354",
         "rawType": "float32",
         "type": "float"
        },
        {
         "name": "P355",
         "rawType": "float32",
         "type": "float"
        },
        {
         "name": "P356",
         "rawType": "float32",
         "type": "float"
        },
        {
         "name": "P357",
         "rawType": "float32",
         "type": "float"
        },
        {
         "name": "P358",
         "rawType": "float32",
         "type": "float"
        },
        {
         "name": "P359",
         "rawType": "float32",
         "type": "float"
        },
        {
         "name": "P360",
         "rawType": "float32",
         "type": "float"
        },
        {
         "name": "P361",
         "rawType": "float32",
         "type": "float"
        },
        {
         "name": "P362",
         "rawType": "float32",
         "type": "float"
        },
        {
         "name": "P363",
         "rawType": "float32",
         "type": "float"
        },
        {
         "name": "P364",
         "rawType": "float32",
         "type": "float"
        },
        {
         "name": "P365",
         "rawType": "float32",
         "type": "float"
        },
        {
         "name": "P366",
         "rawType": "float32",
         "type": "float"
        },
        {
         "name": "P367",
         "rawType": "float32",
         "type": "float"
        },
        {
         "name": "P368",
         "rawType": "float32",
         "type": "float"
        },
        {
         "name": "P369",
         "rawType": "float32",
         "type": "float"
        },
        {
         "name": "P370",
         "rawType": "float32",
         "type": "float"
        },
        {
         "name": "P371",
         "rawType": "float32",
         "type": "float"
        },
        {
         "name": "P372",
         "rawType": "float32",
         "type": "float"
        },
        {
         "name": "P373",
         "rawType": "float32",
         "type": "float"
        },
        {
         "name": "P374",
         "rawType": "float32",
         "type": "float"
        },
        {
         "name": "P375",
         "rawType": "float32",
         "type": "float"
        },
        {
         "name": "P376",
         "rawType": "float32",
         "type": "float"
        },
        {
         "name": "P377",
         "rawType": "float32",
         "type": "float"
        },
        {
         "name": "P378",
         "rawType": "float32",
         "type": "float"
        },
        {
         "name": "P379",
         "rawType": "float32",
         "type": "float"
        },
        {
         "name": "P380",
         "rawType": "float32",
         "type": "float"
        },
        {
         "name": "P381",
         "rawType": "float32",
         "type": "float"
        },
        {
         "name": "P382",
         "rawType": "float32",
         "type": "float"
        },
        {
         "name": "P383",
         "rawType": "float32",
         "type": "float"
        },
        {
         "name": "P384",
         "rawType": "float32",
         "type": "float"
        },
        {
         "name": "P385",
         "rawType": "float32",
         "type": "float"
        },
        {
         "name": "P386",
         "rawType": "float32",
         "type": "float"
        },
        {
         "name": "P387",
         "rawType": "float32",
         "type": "float"
        },
        {
         "name": "P388",
         "rawType": "float32",
         "type": "float"
        },
        {
         "name": "P389",
         "rawType": "float32",
         "type": "float"
        },
        {
         "name": "P390",
         "rawType": "float32",
         "type": "float"
        },
        {
         "name": "P391",
         "rawType": "float32",
         "type": "float"
        },
        {
         "name": "P392",
         "rawType": "float32",
         "type": "float"
        },
        {
         "name": "P393",
         "rawType": "float32",
         "type": "float"
        },
        {
         "name": "P394",
         "rawType": "float32",
         "type": "float"
        },
        {
         "name": "P395",
         "rawType": "float32",
         "type": "float"
        },
        {
         "name": "P396",
         "rawType": "float32",
         "type": "float"
        },
        {
         "name": "P397",
         "rawType": "float32",
         "type": "float"
        },
        {
         "name": "P398",
         "rawType": "float32",
         "type": "float"
        },
        {
         "name": "P399",
         "rawType": "float32",
         "type": "float"
        },
        {
         "name": "P400",
         "rawType": "float32",
         "type": "float"
        },
        {
         "name": "P401",
         "rawType": "float32",
         "type": "float"
        },
        {
         "name": "P402",
         "rawType": "float32",
         "type": "float"
        },
        {
         "name": "P403",
         "rawType": "float32",
         "type": "float"
        },
        {
         "name": "P404",
         "rawType": "float32",
         "type": "float"
        },
        {
         "name": "P405",
         "rawType": "float32",
         "type": "float"
        },
        {
         "name": "P406",
         "rawType": "float32",
         "type": "float"
        },
        {
         "name": "P407",
         "rawType": "float32",
         "type": "float"
        },
        {
         "name": "P408",
         "rawType": "float32",
         "type": "float"
        },
        {
         "name": "P409",
         "rawType": "float32",
         "type": "float"
        },
        {
         "name": "P410",
         "rawType": "float32",
         "type": "float"
        },
        {
         "name": "P411",
         "rawType": "float32",
         "type": "float"
        },
        {
         "name": "P412",
         "rawType": "float32",
         "type": "float"
        },
        {
         "name": "P413",
         "rawType": "float32",
         "type": "float"
        },
        {
         "name": "P414",
         "rawType": "float32",
         "type": "float"
        },
        {
         "name": "P415",
         "rawType": "float32",
         "type": "float"
        },
        {
         "name": "P416",
         "rawType": "float32",
         "type": "float"
        },
        {
         "name": "P417",
         "rawType": "float32",
         "type": "float"
        },
        {
         "name": "P418",
         "rawType": "float32",
         "type": "float"
        },
        {
         "name": "P419",
         "rawType": "float32",
         "type": "float"
        },
        {
         "name": "P420",
         "rawType": "float32",
         "type": "float"
        },
        {
         "name": "P421",
         "rawType": "float32",
         "type": "float"
        },
        {
         "name": "P422",
         "rawType": "float32",
         "type": "float"
        },
        {
         "name": "P423",
         "rawType": "float32",
         "type": "float"
        },
        {
         "name": "P424",
         "rawType": "float32",
         "type": "float"
        },
        {
         "name": "P425",
         "rawType": "float32",
         "type": "float"
        },
        {
         "name": "P426",
         "rawType": "float32",
         "type": "float"
        },
        {
         "name": "P427",
         "rawType": "float32",
         "type": "float"
        },
        {
         "name": "P428",
         "rawType": "float32",
         "type": "float"
        },
        {
         "name": "P429",
         "rawType": "float32",
         "type": "float"
        },
        {
         "name": "P430",
         "rawType": "float32",
         "type": "float"
        },
        {
         "name": "P431",
         "rawType": "float32",
         "type": "float"
        },
        {
         "name": "P432",
         "rawType": "float32",
         "type": "float"
        },
        {
         "name": "P433",
         "rawType": "float32",
         "type": "float"
        },
        {
         "name": "P434",
         "rawType": "float32",
         "type": "float"
        },
        {
         "name": "P435",
         "rawType": "float32",
         "type": "float"
        },
        {
         "name": "P436",
         "rawType": "float32",
         "type": "float"
        },
        {
         "name": "P437",
         "rawType": "float32",
         "type": "float"
        },
        {
         "name": "P438",
         "rawType": "float32",
         "type": "float"
        },
        {
         "name": "P439",
         "rawType": "float32",
         "type": "float"
        },
        {
         "name": "P440",
         "rawType": "float32",
         "type": "float"
        },
        {
         "name": "P441",
         "rawType": "float32",
         "type": "float"
        },
        {
         "name": "P442",
         "rawType": "float32",
         "type": "float"
        },
        {
         "name": "P443",
         "rawType": "float32",
         "type": "float"
        },
        {
         "name": "P444",
         "rawType": "float32",
         "type": "float"
        },
        {
         "name": "P445",
         "rawType": "float32",
         "type": "float"
        },
        {
         "name": "P446",
         "rawType": "float32",
         "type": "float"
        },
        {
         "name": "P447",
         "rawType": "float32",
         "type": "float"
        },
        {
         "name": "P448",
         "rawType": "float32",
         "type": "float"
        },
        {
         "name": "P449",
         "rawType": "float32",
         "type": "float"
        },
        {
         "name": "P450",
         "rawType": "float32",
         "type": "float"
        },
        {
         "name": "P451",
         "rawType": "float32",
         "type": "float"
        },
        {
         "name": "P452",
         "rawType": "float32",
         "type": "float"
        },
        {
         "name": "P453",
         "rawType": "float32",
         "type": "float"
        },
        {
         "name": "P454",
         "rawType": "float32",
         "type": "float"
        },
        {
         "name": "P455",
         "rawType": "float32",
         "type": "float"
        },
        {
         "name": "P456",
         "rawType": "float32",
         "type": "float"
        },
        {
         "name": "P457",
         "rawType": "float32",
         "type": "float"
        },
        {
         "name": "P458",
         "rawType": "float32",
         "type": "float"
        },
        {
         "name": "P459",
         "rawType": "float32",
         "type": "float"
        },
        {
         "name": "P460",
         "rawType": "float32",
         "type": "float"
        },
        {
         "name": "P461",
         "rawType": "float32",
         "type": "float"
        },
        {
         "name": "P462",
         "rawType": "float32",
         "type": "float"
        },
        {
         "name": "P463",
         "rawType": "float32",
         "type": "float"
        },
        {
         "name": "P464",
         "rawType": "float32",
         "type": "float"
        },
        {
         "name": "P465",
         "rawType": "float32",
         "type": "float"
        },
        {
         "name": "P466",
         "rawType": "float32",
         "type": "float"
        },
        {
         "name": "P467",
         "rawType": "float32",
         "type": "float"
        },
        {
         "name": "P468",
         "rawType": "float32",
         "type": "float"
        },
        {
         "name": "P469",
         "rawType": "float32",
         "type": "float"
        },
        {
         "name": "P470",
         "rawType": "float32",
         "type": "float"
        },
        {
         "name": "P471",
         "rawType": "float32",
         "type": "float"
        },
        {
         "name": "P472",
         "rawType": "float32",
         "type": "float"
        },
        {
         "name": "P473",
         "rawType": "float32",
         "type": "float"
        },
        {
         "name": "P474",
         "rawType": "float32",
         "type": "float"
        },
        {
         "name": "P475",
         "rawType": "float32",
         "type": "float"
        },
        {
         "name": "P476",
         "rawType": "float32",
         "type": "float"
        },
        {
         "name": "P477",
         "rawType": "float32",
         "type": "float"
        },
        {
         "name": "P478",
         "rawType": "float32",
         "type": "float"
        },
        {
         "name": "P479",
         "rawType": "float32",
         "type": "float"
        },
        {
         "name": "P480",
         "rawType": "float32",
         "type": "float"
        },
        {
         "name": "P481",
         "rawType": "float32",
         "type": "float"
        },
        {
         "name": "P482",
         "rawType": "float32",
         "type": "float"
        },
        {
         "name": "P483",
         "rawType": "float32",
         "type": "float"
        },
        {
         "name": "P484",
         "rawType": "float32",
         "type": "float"
        },
        {
         "name": "P485",
         "rawType": "float32",
         "type": "float"
        },
        {
         "name": "P486",
         "rawType": "float32",
         "type": "float"
        },
        {
         "name": "P487",
         "rawType": "float32",
         "type": "float"
        },
        {
         "name": "P488",
         "rawType": "float32",
         "type": "float"
        },
        {
         "name": "P489",
         "rawType": "float32",
         "type": "float"
        },
        {
         "name": "P490",
         "rawType": "float32",
         "type": "float"
        },
        {
         "name": "P491",
         "rawType": "float32",
         "type": "float"
        },
        {
         "name": "P492",
         "rawType": "float32",
         "type": "float"
        },
        {
         "name": "P493",
         "rawType": "float32",
         "type": "float"
        },
        {
         "name": "P494",
         "rawType": "float32",
         "type": "float"
        },
        {
         "name": "P495",
         "rawType": "float32",
         "type": "float"
        },
        {
         "name": "P496",
         "rawType": "float32",
         "type": "float"
        },
        {
         "name": "P497",
         "rawType": "float32",
         "type": "float"
        },
        {
         "name": "P498",
         "rawType": "float32",
         "type": "float"
        },
        {
         "name": "P499",
         "rawType": "float32",
         "type": "float"
        },
        {
         "name": "P500",
         "rawType": "float32",
         "type": "float"
        },
        {
         "name": "P501",
         "rawType": "float32",
         "type": "float"
        },
        {
         "name": "P502",
         "rawType": "float32",
         "type": "float"
        },
        {
         "name": "P503",
         "rawType": "float32",
         "type": "float"
        },
        {
         "name": "P504",
         "rawType": "float32",
         "type": "float"
        },
        {
         "name": "P505",
         "rawType": "float32",
         "type": "float"
        },
        {
         "name": "P506",
         "rawType": "float32",
         "type": "float"
        },
        {
         "name": "P507",
         "rawType": "float32",
         "type": "float"
        },
        {
         "name": "P508",
         "rawType": "float32",
         "type": "float"
        },
        {
         "name": "P509",
         "rawType": "float32",
         "type": "float"
        },
        {
         "name": "P510",
         "rawType": "float32",
         "type": "float"
        },
        {
         "name": "P511",
         "rawType": "float32",
         "type": "float"
        },
        {
         "name": "P512",
         "rawType": "float32",
         "type": "float"
        },
        {
         "name": "P513",
         "rawType": "float32",
         "type": "float"
        },
        {
         "name": "P514",
         "rawType": "float32",
         "type": "float"
        },
        {
         "name": "P515",
         "rawType": "float32",
         "type": "float"
        },
        {
         "name": "P516",
         "rawType": "float32",
         "type": "float"
        },
        {
         "name": "P517",
         "rawType": "float32",
         "type": "float"
        },
        {
         "name": "P518",
         "rawType": "float32",
         "type": "float"
        },
        {
         "name": "P519",
         "rawType": "float32",
         "type": "float"
        },
        {
         "name": "P520",
         "rawType": "float32",
         "type": "float"
        },
        {
         "name": "P521",
         "rawType": "float32",
         "type": "float"
        },
        {
         "name": "P522",
         "rawType": "float32",
         "type": "float"
        },
        {
         "name": "P523",
         "rawType": "float32",
         "type": "float"
        },
        {
         "name": "P524",
         "rawType": "float32",
         "type": "float"
        },
        {
         "name": "P525",
         "rawType": "float32",
         "type": "float"
        },
        {
         "name": "P526",
         "rawType": "float32",
         "type": "float"
        },
        {
         "name": "P527",
         "rawType": "float32",
         "type": "float"
        },
        {
         "name": "P528",
         "rawType": "float32",
         "type": "float"
        },
        {
         "name": "P529",
         "rawType": "float32",
         "type": "float"
        },
        {
         "name": "P530",
         "rawType": "float32",
         "type": "float"
        },
        {
         "name": "P531",
         "rawType": "float32",
         "type": "float"
        },
        {
         "name": "P532",
         "rawType": "float32",
         "type": "float"
        },
        {
         "name": "P533",
         "rawType": "float32",
         "type": "float"
        },
        {
         "name": "P534",
         "rawType": "float32",
         "type": "float"
        },
        {
         "name": "P535",
         "rawType": "float32",
         "type": "float"
        },
        {
         "name": "P536",
         "rawType": "float32",
         "type": "float"
        },
        {
         "name": "P537",
         "rawType": "float32",
         "type": "float"
        },
        {
         "name": "P538",
         "rawType": "float32",
         "type": "float"
        },
        {
         "name": "P539",
         "rawType": "float32",
         "type": "float"
        },
        {
         "name": "P540",
         "rawType": "float32",
         "type": "float"
        },
        {
         "name": "P541",
         "rawType": "float32",
         "type": "float"
        },
        {
         "name": "P542",
         "rawType": "float32",
         "type": "float"
        },
        {
         "name": "P543",
         "rawType": "float32",
         "type": "float"
        },
        {
         "name": "P544",
         "rawType": "float32",
         "type": "float"
        },
        {
         "name": "P_R1_N49",
         "rawType": "float32",
         "type": "float"
        },
        {
         "name": "P17_1",
         "rawType": "float32",
         "type": "float"
        },
        {
         "name": "P17_2",
         "rawType": "float32",
         "type": "float"
        }
       ],
       "ref": "68daebab-66f5-4ccd-abc5-951cd497f96b",
       "rows": [
        [
         "0",
         "10.713434",
         "10.713434",
         "10.713434",
         "10.713434",
         "10.705353",
         "10.705353",
         "10.705353",
         "10.705353",
         "10.6978655",
         "0.17066026",
         "0.17066026",
         "0.17066026",
         "0.17066026",
         "0.1527314",
         "0.14165625",
         "0.13524939",
         "0.12549798",
         "0.12549798",
         "0.11695817",
         "0.11695817",
         "0.106513254",
         "0.106513254",
         "0.09744732",
         "0.0896711",
         "0.0896711",
         "0.07722896",
         "0.11536673",
         "0.11536673",
         "0.10289385",
         "0.087145604",
         "0.07712927",
         "0.06393803",
         "0.050106797",
         "0.038990486",
         "0.02590811",
         "0.0144759845",
         "1.8653376e-10",
         "11.074131",
         "0.32972273",
         "0.32972273",
         "0.32972273",
         "0.1562996",
         "0.14145632",
         "0.12654667",
         "0.1113792",
         "0.11094855",
         "0.08280398",
         "0.052152652",
         "0.052152652",
         "0.037019882",
         "0.02609976",
         "0.0056633367",
         "0.0056633367",
         "0.0293741",
         "0.042362567",
         "0.05236575",
         "0.06461911",
         "0.07995943",
         "0.09551807",
         "0.10891505",
         "0.120494924",
         "0.13111778",
         "0.1420355",
         "0.15669873",
         "0.13229261",
         "0.05089365",
         "0.039107908",
         "0.01596227",
         "0.011562125",
         "0.005413873",
         "0.028034339",
         "0.052897446",
         "0.055878196",
         "0.117412604",
         "0.046624906",
         "0.035175093",
         "0.012185585",
         "0.0050175167",
         "0.015492679",
         "0.020119928",
         "0.04175155",
         "0.06582452",
         "0.11793778",
         "0.030206027",
         "0.030206027",
         "0.030206027",
         "0.030206027",
         "0.030206027",
         "0.030206027",
         "0.0014632326",
         "0.0014632326",
         "0.0014632326",
         "0.019846672",
         "0.023130225",
         "0.023130225",
         "0.023130225",
         "0.023130225",
         "0.041175503",
         "0.07057597",
         "0.119976975",
         "0.051681235",
         "0.051681235",
         "0.051681235",
         "0.028005688",
         "0.028005688",
         "0.028005688",
         "0.015973918",
         "0.006958829",
         "0.0069588292",
         "0.006958829",
         "0.006958829",
         "0.021782074",
         "0.025311658",
         "0.025311658",
         "0.025311658",
         "0.025311658",
         "0.04057492",
         "0.04057492",
         "0.04057492",
         "0.04057492",
         "0.06829575",
         "0.003406568",
         "0.0062806997",
         "0.0062806997",
         "0.0062806997",
         "0.0062806997",
         "0.0062806997",
         "0.0062806997",
         "0.0062806997",
         "0.0062806997",
         "0.22262791",
         "0.14104943",
         "0.017166158",
         "0.027669707",
         "0.039119523",
         "0.05577379",
         "0.06768254",
         "0.07510128",
         "0.07510128",
         "0.2424568",
         "0.1606234",
         "0.07097972",
         "0.07887158",
         "0.07887158",
         "0.07887158",
         "0.07887158",
         "0.07887158",
         "0.07887158",
         "0.10825277",
         "0.04043025",
         "0.024920966",
         "0.017133195",
         "0.009832748",
         "0.013856994",
         "0.046966814",
         "0.06394281",
         "0.08637987",
         "0.036082365",
         "0.024632549",
         "0.013182736",
         "0.0017329208",
         "0.009716894",
         "0.021166708",
         "0.032616522",
         "0.044066336",
         "0.16165532",
         "0.08526102",
         "0.075476624",
         "0.06402681",
         "0.052577",
         "0.041127186",
         "0.02967737",
         "0.018227555",
         "0.0067777415",
         "0.004672073",
         "0.016121887",
         "0.027571702",
         "0.03665586",
         "0.03665586",
         "0.045678504",
         "0.057341225",
         "0.06901815",
         "0.07639429",
         "0.25490966",
         "0.1458068",
         "0.13042054",
         "0.113416135",
         "0.102666564",
         "0.08076052",
         "0.08076052",
         "0.08076052",
         "0.06239825",
         "0.0370904",
         "0.00894375",
         "0.00894375",
         "0.012654749",
         "0.02409037",
         "0.054574292",
         "0.054574292",
         "0.054574292",
         "0.07350432",
         "0.084234975",
         "0.084234975",
         "0.084234975",
         "0.09365505",
         "0.10357665",
         "0.10910285",
         "0.10274078",
         "0.03951993",
         "0.028070113",
         "0.028070113",
         "0.028070113",
         "0.028070113",
         "0.023017045",
         "0.023017045",
         "0.023017045",
         "0.023017045",
         "0.023017045",
         "0.023017045",
         "0.010237729",
         "0.010414504",
         "0.010414505",
         "0.010414504",
         "0.010414504",
         "0.010414504",
         "0.028871408",
         "0.028871408",
         "0.028871408",
         "0.028871408",
         "0.040321223",
         "0.051771034",
         "0.07912675",
         "0.031827483",
         "0.023188075",
         "0.016668297",
         "0.0020437664",
         "0.007636534",
         "0.01429352",
         "0.03056455",
         "0.04097821",
         "0.09692598",
         "0.04011111",
         "0.028661298",
         "0.017211484",
         "0.0057616686",
         "0.005688146",
         "0.022465428",
         "0.033915244",
         "0.045365058",
         "0.12134433",
         "0.05722329",
         "0.033519354",
         "0.021596406",
         "0.011580181",
         "0.014673938",
         "0.035203155",
         "0.041221414",
         "0.05267123",
         "0.123071276",
         "0.05729483",
         "0.027941698",
         "0.0010755309",
         "0.013746026",
         "0.03145538",
         "0.041883226",
         "0.05999003",
         "0.10597227",
         "0.04433939",
         "0.026142709",
         "0.012081205",
         "0.009057874",
         "0.000101981415",
         "0.021487571",
         "0.03692116",
         "0.054214153",
         "0.09159851",
         "0.036735084",
         "0.025285268",
         "0.013835454",
         "0.0023856396",
         "0.009064175",
         "0.02051399",
         "0.031963803",
         "0.043413617",
         "0.0840284",
         "0.037483435",
         "0.026033621",
         "0.0145838065",
         "0.003133992",
         "0.008315822",
         "0.019765638",
         "0.031215452",
         "0.042665266",
         "0.08636094",
         "0.03384221",
         "0.029489378",
         "0.007280538",
         "0.004169277",
         "0.007940157",
         "0.01938997",
         "0.030839786",
         "0.0422896",
         "0.11598848",
         "0.047584753",
         "0.03613494",
         "0.024685122",
         "0.013235309",
         "0.0017854943",
         "0.03405428",
         "0.045504097",
         "0.05695391",
         "10.730421",
         "10.723228",
         "10.713434",
         "0.08499834",
         "0.036921304",
         "0.025622893",
         "0.013789842",
         "0.010520482",
         "0.0079033",
         "0.02471372",
         "0.02960119",
         "0.042867832",
         "0.115737736",
         "0.04071963",
         "0.03544892",
         "0.020625671",
         "0.0069474056",
         "0.011154647",
         "0.024222573",
         "0.03500054",
         "0.06420702",
         "0.26455712",
         "0.2338307",
         "0.22119437",
         "0.18260245",
         "0.16707557",
         "0.15471919",
         "0.13221742",
         "0.13221742",
         "0.13221742",
         "0.116657816",
         "0.089163005",
         "0.054644212",
         "0.02387298",
         "0.008106667",
         "0.09548768",
         "0.036981147",
         "0.025531333",
         "0.014081517",
         "0.002631703",
         "0.008818112",
         "0.023991492",
         "0.035441305",
         "0.04705672",
         "0.08847111",
         "0.035924274",
         "0.026532587",
         "0.016487975",
         "0.005038161",
         "0.00783105",
         "0.019280864",
         "0.04567694",
         "0.04567694",
         "0.05460898",
         "0.043159164",
         "0.032210868",
         "0.011449814",
         "0.21185464",
         "0.09812677",
         "0.08667695",
         "0.07993007",
         "0.05183738",
         "0.06328719",
         "0.0745998",
         "0.092583574",
         "0.10403338",
         "0.1308685",
         "0.045146663",
         "0.03140689",
         "0.007963176",
         "0.0022044505",
         "0.01736362",
         "0.029532596",
         "0.03442007",
         "0.04116695",
         "0.07570599",
         "0.034096226",
         "0.022646412",
         "0.0111965975",
         "0.00025321642",
         "0.00726032",
         "0.018710135",
         "0.03015995",
         "0.03015995",
         "0.11522675",
         "0.042255063",
         "0.030805249",
         "0.02066601",
         "0.005781257",
         "0.014246443",
         "0.018750679",
         "0.038045023",
         "0.052958164",
         "0.10090976",
         "0.040318996",
         "0.028869182",
         "0.017419366",
         "0.0059695523",
         "0.014791503",
         "0.026241316",
         "0.03769113",
         "0.049140945",
         "0.1234214",
         "0.0459486",
         "0.034986112",
         "0.01834604",
         "0.007070636",
         "0.023876306",
         "0.033187564",
         "0.038775273",
         "0.052467734",
         "0.10712671",
         "0.053058673",
         "0.024803206",
         "0.008546369",
         "0.010856796",
         "0.024932494",
         "0.031026453",
         "0.041198827",
         "0.041198827",
         "0.091887124",
         "0.0363371",
         "0.024887286",
         "0.013437471",
         "0.0016990468",
         "0.009750768",
         "0.02120058",
         "0.032650396",
         "0.04410021",
         "0.14702123",
         "0.05093613",
         "0.031807378",
         "0.015030095",
         "0.004114921",
         "0.018127037",
         "0.030830652",
         "0.04562078",
         "0.061617393",
         "0.09866239",
         "0.04772958",
         "0.034297347",
         "0.020983392",
         "0.017837046",
         "0.015282237",
         "0.03234813",
         "0.041631",
         "0.046608366",
         "0.12457111",
         "0.04091951",
         "0.024922892",
         "0.010833002",
         "0.005992843",
         "0.014157872",
         "0.026814174",
         "0.030069338",
         "0.051667836",
         "0.07923081",
         "0.024913749",
         "0.024913749",
         "0.012763698",
         "6.0083632e-05",
         "0.007221437",
         "0.023984525",
         "0.023984525",
         "0.04194937",
         "0.104344726",
         "0.035688743",
         "0.020193633",
         "0.009169636",
         "0.0026302962",
         "0.0115488535",
         "0.020235576",
         "0.032522835",
         "0.041957106",
         "0.10940721",
         "0.050719395",
         "0.022251002",
         "0.0185369",
         "0.004323993",
         "0.017089985",
         "0.036672942",
         "0.050838534",
         "0.08793176",
         "0.037023608",
         "0.018765403",
         "0.0054230615",
         "0.005780724",
         "0.009352889",
         "0.019137278",
         "0.030833121",
         "0.04214573",
         "0.103483625",
         "0.03970597",
         "0.02798174",
         "0.019295016",
         "0.0036910851",
         "0.010739478",
         "0.025884455",
         "0.039349813",
         "0.05174589",
         "0.09042992",
         "0.03795963",
         "0.026509818",
         "0.023410786",
         "0.011960971",
         "0.0031840056",
         "0.01463382",
         "0.018328998",
         "0.023736915",
         "0.03565986",
         "0.046773754",
         "0.114498146",
         "0.04898972",
         "0.03753991",
         "0.026090095",
         "0.014640281",
         "0.0031904662",
         "0.008259349",
         "0.019709162",
         "0.031158978",
         "0.04260879",
         "0.054058608",
         "10.723228",
         "11.074131",
         "10.693244",
         "0.17066026"
        ]
       ],
       "shape": {
        "columns": 537,
        "rows": 1
       }
      },
      "text/html": [
       "<div>\n",
       "<style scoped>\n",
       "    .dataframe tbody tr th:only-of-type {\n",
       "        vertical-align: middle;\n",
       "    }\n",
       "\n",
       "    .dataframe tbody tr th {\n",
       "        vertical-align: top;\n",
       "    }\n",
       "\n",
       "    .dataframe thead th {\n",
       "        text-align: right;\n",
       "    }\n",
       "</style>\n",
       "<table border=\"1\" class=\"dataframe\">\n",
       "  <thead>\n",
       "    <tr style=\"text-align: right;\">\n",
       "      <th>name</th>\n",
       "      <th>P8</th>\n",
       "      <th>P9</th>\n",
       "      <th>P10</th>\n",
       "      <th>P11</th>\n",
       "      <th>P12</th>\n",
       "      <th>P13</th>\n",
       "      <th>P14</th>\n",
       "      <th>P15</th>\n",
       "      <th>P16</th>\n",
       "      <th>P18</th>\n",
       "      <th>...</th>\n",
       "      <th>P538</th>\n",
       "      <th>P539</th>\n",
       "      <th>P540</th>\n",
       "      <th>P541</th>\n",
       "      <th>P542</th>\n",
       "      <th>P543</th>\n",
       "      <th>P544</th>\n",
       "      <th>P_R1_N49</th>\n",
       "      <th>P17_1</th>\n",
       "      <th>P17_2</th>\n",
       "    </tr>\n",
       "  </thead>\n",
       "  <tbody>\n",
       "    <tr>\n",
       "      <th>0</th>\n",
       "      <td>10.713434</td>\n",
       "      <td>10.713434</td>\n",
       "      <td>10.713434</td>\n",
       "      <td>10.713434</td>\n",
       "      <td>10.705353</td>\n",
       "      <td>10.705353</td>\n",
       "      <td>10.705353</td>\n",
       "      <td>10.705353</td>\n",
       "      <td>10.697865</td>\n",
       "      <td>0.17066</td>\n",
       "      <td>...</td>\n",
       "      <td>0.00319</td>\n",
       "      <td>0.008259</td>\n",
       "      <td>0.019709</td>\n",
       "      <td>0.031159</td>\n",
       "      <td>0.042609</td>\n",
       "      <td>0.054059</td>\n",
       "      <td>10.723228</td>\n",
       "      <td>11.074131</td>\n",
       "      <td>10.693244</td>\n",
       "      <td>0.17066</td>\n",
       "    </tr>\n",
       "  </tbody>\n",
       "</table>\n",
       "<p>1 rows × 537 columns</p>\n",
       "</div>"
      ],
      "text/plain": [
       "name         P8         P9        P10        P11        P12        P13  \\\n",
       "0     10.713434  10.713434  10.713434  10.713434  10.705353  10.705353   \n",
       "\n",
       "name        P14        P15        P16      P18  ...     P538      P539  \\\n",
       "0     10.705353  10.705353  10.697865  0.17066  ...  0.00319  0.008259   \n",
       "\n",
       "name      P540      P541      P542      P543       P544   P_R1_N49      P17_1  \\\n",
       "0     0.019709  0.031159  0.042609  0.054059  10.723228  11.074131  10.693244   \n",
       "\n",
       "name    P17_2  \n",
       "0     0.17066  \n",
       "\n",
       "[1 rows x 537 columns]"
      ]
     },
     "execution_count": 4,
     "metadata": {},
     "output_type": "execute_result"
    }
   ],
   "source": [
    "results.link['velocity']"
   ]
  },
  {
   "cell_type": "code",
   "execution_count": 5,
   "id": "66d078fc",
   "metadata": {},
   "outputs": [
    {
     "name": "stdout",
     "output_type": "stream",
     "text": [
      "P8 None\n",
      "P9 None\n",
      "P10 None\n",
      "P11 None\n",
      "P12 None\n",
      "P13 None\n",
      "P14 None\n",
      "P15 None\n",
      "P16 None\n",
      "P18 None\n",
      "P19 None\n",
      "P20 None\n",
      "P21 None\n",
      "P22 None\n",
      "P23 None\n",
      "P24 None\n",
      "P25 None\n",
      "P26 None\n",
      "P27 None\n",
      "P28 None\n",
      "P29 None\n",
      "P30 None\n",
      "P31 None\n",
      "P32 None\n",
      "P33 None\n",
      "P34 None\n",
      "P35 None\n",
      "P36 None\n",
      "P37 None\n",
      "P38 None\n",
      "P39 None\n",
      "P40 None\n",
      "P41 None\n",
      "P42 None\n",
      "P43 None\n",
      "P44 None\n",
      "P45 None\n",
      "P48 None\n",
      "P49 None\n",
      "P50 None\n",
      "P51 None\n",
      "P52 None\n",
      "P53 None\n",
      "P54 None\n",
      "P55 None\n",
      "P56 None\n",
      "P57 None\n",
      "P58 None\n",
      "P59 None\n",
      "P60 None\n",
      "P61 None\n",
      "P62 None\n",
      "P63 None\n",
      "P64 None\n",
      "P65 None\n",
      "P66 None\n",
      "P67 None\n",
      "P68 None\n",
      "P69 None\n",
      "P70 None\n",
      "P71 None\n",
      "P72 None\n",
      "P73 None\n",
      "P74 None\n",
      "P75 None\n",
      "P76 None\n",
      "P77 None\n",
      "P78 None\n",
      "P79 None\n",
      "P80 None\n",
      "P81 None\n",
      "P82 None\n",
      "P83 None\n",
      "P84 None\n",
      "P85 None\n",
      "P86 None\n",
      "P87 None\n",
      "P88 None\n",
      "P89 None\n",
      "P90 None\n",
      "P91 None\n",
      "P92 None\n",
      "P93 None\n",
      "P94 None\n",
      "P95 None\n",
      "P96 None\n",
      "P97 None\n",
      "P98 None\n",
      "P99 None\n",
      "P100 None\n",
      "P101 None\n",
      "P102 None\n",
      "P103 None\n",
      "P104 None\n",
      "P105 None\n",
      "P106 None\n",
      "P107 None\n",
      "P108 None\n",
      "P109 None\n",
      "P110 None\n",
      "P111 None\n",
      "P112 None\n",
      "P113 None\n",
      "P114 None\n",
      "P115 None\n",
      "P116 None\n",
      "P117 None\n",
      "P118 None\n",
      "P119 None\n",
      "P120 None\n",
      "P121 None\n",
      "P122 None\n",
      "P123 None\n",
      "P124 None\n",
      "P125 None\n",
      "P126 None\n",
      "P127 None\n",
      "P128 None\n",
      "P129 None\n",
      "P130 None\n",
      "P131 None\n",
      "P132 None\n",
      "P133 None\n",
      "P134 None\n",
      "P135 None\n",
      "P136 None\n",
      "P137 None\n",
      "P138 None\n",
      "P139 None\n",
      "P140 None\n",
      "P141 None\n",
      "P142 None\n",
      "P143 None\n",
      "P144 None\n",
      "P145 None\n",
      "P146 None\n",
      "P147 None\n",
      "P148 None\n",
      "P149 None\n",
      "P150 None\n",
      "P151 None\n",
      "P152 None\n",
      "P153 None\n",
      "P154 None\n",
      "P155 None\n",
      "P156 None\n",
      "P157 None\n",
      "P158 None\n",
      "P159 None\n",
      "P160 None\n",
      "P161 None\n",
      "P162 None\n",
      "P163 None\n",
      "P164 None\n",
      "P165 None\n",
      "P166 None\n",
      "P167 None\n",
      "P168 None\n",
      "P169 None\n",
      "P170 None\n",
      "P171 None\n",
      "P172 None\n",
      "P173 None\n",
      "P174 None\n",
      "P175 None\n",
      "P176 None\n",
      "P177 None\n",
      "P178 None\n",
      "P179 None\n",
      "P180 None\n",
      "P181 None\n",
      "P182 None\n",
      "P183 None\n",
      "P184 None\n",
      "P185 None\n",
      "P186 None\n",
      "P187 None\n",
      "P188 None\n",
      "P189 None\n",
      "P190 None\n",
      "P191 None\n",
      "P192 None\n",
      "P193 None\n",
      "P194 None\n",
      "P195 None\n",
      "P196 None\n",
      "P197 None\n",
      "P198 None\n",
      "P199 None\n",
      "P200 None\n",
      "P201 None\n",
      "P202 None\n",
      "P203 None\n",
      "P204 None\n",
      "P205 None\n",
      "P206 None\n",
      "P207 None\n",
      "P208 None\n",
      "P209 None\n",
      "P210 None\n",
      "P211 None\n",
      "P212 None\n",
      "P213 None\n",
      "P214 None\n",
      "P215 None\n",
      "P216 None\n",
      "P217 None\n",
      "P218 None\n",
      "P219 None\n",
      "P220 None\n",
      "P221 None\n",
      "P222 None\n",
      "P223 None\n",
      "P224 None\n",
      "P225 None\n",
      "P226 None\n",
      "P227 None\n",
      "P228 None\n",
      "P229 None\n",
      "P230 None\n",
      "P231 None\n",
      "P232 None\n",
      "P233 None\n",
      "P234 None\n",
      "P235 None\n",
      "P236 None\n",
      "P237 None\n",
      "P238 None\n",
      "P239 None\n",
      "P240 None\n",
      "P241 None\n",
      "P242 None\n",
      "P243 None\n",
      "P244 None\n",
      "P245 None\n",
      "P246 None\n",
      "P247 None\n",
      "P248 None\n",
      "P249 None\n",
      "P250 None\n",
      "P251 None\n",
      "P252 None\n",
      "P253 None\n",
      "P254 None\n",
      "P255 None\n",
      "P256 None\n",
      "P257 None\n",
      "P258 None\n",
      "P259 None\n",
      "P260 None\n",
      "P261 None\n",
      "P262 None\n",
      "P263 None\n",
      "P264 None\n",
      "P265 None\n",
      "P266 None\n",
      "P267 None\n",
      "P268 None\n",
      "P269 None\n",
      "P270 None\n",
      "P271 None\n",
      "P272 None\n",
      "P273 None\n",
      "P274 None\n",
      "P275 None\n",
      "P276 None\n",
      "P277 None\n",
      "P278 None\n",
      "P279 None\n",
      "P280 None\n",
      "P281 None\n",
      "P282 None\n",
      "P283 None\n",
      "P284 None\n",
      "P285 None\n",
      "P286 None\n",
      "P287 None\n",
      "P288 None\n",
      "P289 None\n",
      "P290 None\n",
      "P291 None\n",
      "P292 None\n",
      "P293 None\n",
      "P294 None\n",
      "P295 None\n",
      "P296 None\n",
      "P297 None\n",
      "P298 None\n",
      "P299 None\n",
      "P300 None\n",
      "P301 None\n",
      "P302 None\n",
      "P303 None\n",
      "P304 None\n",
      "P305 None\n",
      "P306 None\n",
      "P307 None\n",
      "P308 None\n",
      "P309 None\n",
      "P310 None\n",
      "P311 None\n",
      "P312 None\n",
      "P313 None\n",
      "P314 None\n",
      "P315 None\n",
      "P316 None\n",
      "P317 None\n",
      "P318 None\n",
      "P319 None\n",
      "P320 None\n",
      "P321 None\n",
      "P322 None\n",
      "P323 None\n",
      "P324 None\n",
      "P325 None\n",
      "P326 None\n",
      "P327 None\n",
      "P328 None\n",
      "P329 None\n",
      "P330 None\n",
      "P331 None\n",
      "P332 None\n",
      "P333 None\n",
      "P334 None\n",
      "P335 None\n",
      "P336 None\n",
      "P337 None\n",
      "P338 None\n",
      "P339 None\n",
      "P340 None\n",
      "P341 None\n",
      "P342 None\n",
      "P343 None\n",
      "P344 None\n",
      "P345 None\n",
      "P346 None\n",
      "P347 None\n",
      "P348 None\n",
      "P349 None\n",
      "P350 None\n",
      "P351 None\n",
      "P352 None\n",
      "P353 None\n",
      "P354 None\n",
      "P355 None\n",
      "P356 None\n",
      "P357 None\n",
      "P358 None\n",
      "P359 None\n",
      "P360 None\n",
      "P361 None\n",
      "P362 None\n",
      "P363 None\n",
      "P364 None\n",
      "P365 None\n",
      "P366 None\n",
      "P367 None\n",
      "P368 None\n",
      "P369 None\n",
      "P370 None\n",
      "P371 None\n",
      "P372 None\n",
      "P373 None\n",
      "P374 None\n",
      "P375 None\n",
      "P376 None\n",
      "P377 None\n",
      "P378 None\n",
      "P379 None\n",
      "P380 None\n",
      "P381 None\n",
      "P382 None\n",
      "P383 None\n",
      "P384 None\n",
      "P385 None\n",
      "P386 None\n",
      "P387 None\n",
      "P388 None\n",
      "P389 None\n",
      "P390 None\n",
      "P391 None\n",
      "P392 None\n",
      "P393 None\n",
      "P394 None\n",
      "P395 None\n",
      "P396 None\n",
      "P397 None\n",
      "P398 None\n",
      "P399 None\n",
      "P400 None\n",
      "P401 None\n",
      "P402 None\n",
      "P403 None\n",
      "P404 None\n",
      "P405 None\n",
      "P406 None\n",
      "P407 None\n",
      "P408 None\n",
      "P409 None\n",
      "P410 None\n",
      "P411 None\n",
      "P412 None\n",
      "P413 None\n",
      "P414 None\n",
      "P415 None\n",
      "P416 None\n",
      "P417 None\n",
      "P418 None\n",
      "P419 None\n",
      "P420 None\n",
      "P421 None\n",
      "P422 None\n",
      "P423 None\n",
      "P424 None\n",
      "P425 None\n",
      "P426 None\n",
      "P427 None\n",
      "P428 None\n",
      "P429 None\n",
      "P430 None\n",
      "P431 None\n",
      "P432 None\n",
      "P433 None\n",
      "P434 None\n",
      "P435 None\n",
      "P436 None\n",
      "P437 None\n",
      "P438 None\n",
      "P439 None\n",
      "P440 None\n",
      "P441 None\n",
      "P442 None\n",
      "P443 None\n",
      "P444 None\n",
      "P445 None\n",
      "P446 None\n",
      "P447 None\n",
      "P448 None\n",
      "P449 None\n",
      "P450 None\n",
      "P451 None\n",
      "P452 None\n",
      "P453 None\n",
      "P454 None\n",
      "P455 None\n",
      "P456 None\n",
      "P457 None\n",
      "P458 None\n",
      "P459 None\n",
      "P460 None\n",
      "P461 None\n",
      "P462 None\n",
      "P463 None\n",
      "P464 None\n",
      "P465 None\n",
      "P466 None\n",
      "P467 None\n",
      "P468 None\n",
      "P469 None\n",
      "P470 None\n",
      "P471 None\n",
      "P472 None\n",
      "P473 None\n",
      "P474 None\n",
      "P475 None\n",
      "P476 None\n",
      "P477 None\n",
      "P478 None\n",
      "P479 None\n",
      "P480 None\n",
      "P481 None\n",
      "P482 None\n",
      "P483 None\n",
      "P484 None\n",
      "P485 None\n",
      "P486 None\n",
      "P487 None\n",
      "P488 None\n",
      "P489 None\n",
      "P490 None\n",
      "P491 None\n",
      "P492 None\n",
      "P493 None\n",
      "P494 None\n",
      "P495 None\n",
      "P496 None\n",
      "P497 None\n",
      "P498 None\n",
      "P499 None\n",
      "P500 None\n",
      "P501 None\n",
      "P502 None\n",
      "P503 None\n",
      "P504 None\n",
      "P505 None\n",
      "P506 None\n",
      "P507 None\n",
      "P508 None\n",
      "P509 None\n",
      "P510 None\n",
      "P511 None\n",
      "P512 None\n",
      "P513 None\n",
      "P514 None\n",
      "P515 None\n",
      "P516 None\n",
      "P517 None\n",
      "P518 None\n",
      "P519 None\n",
      "P520 None\n",
      "P521 None\n",
      "P522 None\n",
      "P523 None\n",
      "P524 None\n",
      "P525 None\n",
      "P526 None\n",
      "P527 None\n",
      "P528 None\n",
      "P529 None\n",
      "P530 None\n",
      "P531 None\n",
      "P532 None\n",
      "P533 None\n",
      "P534 None\n",
      "P535 None\n",
      "P536 None\n",
      "P537 None\n",
      "P538 None\n",
      "P539 None\n",
      "P540 None\n",
      "P541 None\n",
      "P542 None\n",
      "P543 None\n",
      "P544 None\n",
      "P_R1_N49 None\n",
      "P17_1 None\n",
      "P17_2 None\n"
     ]
    }
   ],
   "source": [
    "for pipe_name in wn.pipe_name_list:\n",
    "    print(pipe_name, wn.get_link(pipe_name).velocity)\n"
   ]
  },
  {
   "cell_type": "markdown",
   "id": "e923993d",
   "metadata": {},
   "source": [
    "# simulação com vrp"
   ]
  },
  {
   "cell_type": "code",
   "execution_count": 6,
   "id": "492645e6",
   "metadata": {},
   "outputs": [],
   "source": [
    "pipe = wn.get_link('P378')\n",
    "start_node = pipe.start_node_name\n",
    "end_node = pipe.end_node_name\n"
   ]
  },
  {
   "cell_type": "code",
   "execution_count": 7,
   "id": "b2199bc0",
   "metadata": {},
   "outputs": [
    {
     "data": {
      "text/plain": [
       "<Pipe 'P378' from 'N353' to 'N354', length=45.869007359, diameter=0.032, roughness=140.0, minor_loss=0.0, check_valve=False, status=Open>"
      ]
     },
     "execution_count": 7,
     "metadata": {},
     "output_type": "execute_result"
    }
   ],
   "source": [
    "pipe"
   ]
  },
  {
   "cell_type": "code",
   "execution_count": 8,
   "id": "e74bdd33",
   "metadata": {},
   "outputs": [],
   "source": [
    "from math import sqrt\n",
    "\n",
    "# Substitua pelos valores reais das coordenadas (x, y) dos nós\n",
    "coords = {\n",
    "    'N17': (182325.334803334, 8236241.429658412),\n",
    "    'N354': (181617.609217913, 8236027.916901818),\n",
    "    'N351': (181673.985346249, 8236280.518389829)\n",
    "}\n",
    "\n",
    "def distancia(p1, p2):\n",
    "    return sqrt((p1[0] - p2[0])**2 + (p1[1] - p2[1])**2)\n",
    "\n",
    "comprimento_1 = distancia(coords['N17'], coords['N354'])    # ≈ 15,13 m\n",
    "comprimento_2 = distancia(coords['N354'], coords['N351'])   # ≈ 22,36 m\n",
    "fator_escala = 188.12067746 / (comprimento_1 + comprimento_2)\n",
    "comprimento_1_ajustado = comprimento_1 * fator_escala\n",
    "comprimento_2_ajustado = comprimento_2 * fator_escala\n"
   ]
  },
  {
   "cell_type": "code",
   "execution_count": 9,
   "id": "c2d724fa",
   "metadata": {},
   "outputs": [],
   "source": [
    "# Create a WaterNetworkModel from an EPANET INP file\n",
    "import numpy as np\n",
    "from scipy.stats import lognorm\n",
    "import networkx as nx\n",
    "import geopandas as gpd\n",
    "import matplotlib.pylab as plt\n",
    "import warnings\n",
    "import wntr\n",
    "import folium\n",
    "from pyproj import Transformer\n",
    "import matplotlib.cm as cm\n",
    "import matplotlib.colors as colors\n",
    "import matplotlib.colors as mcolors\n",
    "import branca.colormap as bcm\n",
    "# Suppress warning messages that will be addressed in future WNTR releases\n",
    "warnings.filterwarnings(\"ignore\", message=\"Column names longer than 10 characters will be truncated when saved to \"\n",
    "            \"ESRI Shapefile.\")\n",
    "warnings.filterwarnings(\"ignore\", message=\"'crs' was not provided.  The output dataset will not have projection information defined and may not be usable in other systems.\")\n",
    "warnings.filterwarnings(\"ignore\", message=\"Normalized/laundered field name:\")\n",
    "warnings.filterwarnings(\"ignore\", message=\"Geometry is in a geographic CRS.\")\n",
    "wn = wntr.network.WaterNetworkModel('PK_QD28_TESTE_DOS_NOS_DUPLICADOS (20).inp')\n",
    "nome_reservatorio = 'R1'         # Nome do reservatório\n",
    "base_head = 1156.99              # Carga hidráulica (ajuste conforme sua rede)\n",
    "coordinates = (181765.717, 8236835.008)             # Coordenadas (opcional, ajuste conforme necessário)\n",
    "# Parâmetros da tubulação\n",
    "nome_tubulacao = 'P_R1_N49'\n",
    "comprimento = 0.10                # Comprimento em metros (ajuste conforme necessário)\n",
    "diametro = 110                   # Diâmetro em mm (ajuste conforme necessário)\n",
    "rugosidade = 140                 # Rugosidade (ajuste conforme necessário)\n",
    "\n",
    "# Adiciona o reservatório à rede\n",
    "wn.add_reservoir(nome_reservatorio, base_head=base_head, coordinates=coordinates)\n",
    "# Adiciona a tubulação conectando o reservatório ao nó N49\n",
    "wn.add_pipe(nome_tubulacao, nome_reservatorio, 'N49', length=comprimento, diameter=diametro, roughness=rugosidade)\n",
    "pipe = wn.get_link('P379')\n",
    "start_node = pipe.start_node_name\n",
    "end_node = pipe.end_node_name\n",
    "wn.remove_link('P379')\n",
    "\n",
    "wn.add_valve(\n",
    "    name='VRP_P379',\n",
    "    start_node_name=start_node,\n",
    "    end_node_name=end_node,\n",
    "    diameter=pipe.diameter,\n",
    "    valve_type='PRV',           # Tipo de válvula: PRV para redutora de pressão\n",
    "    minor_loss=10.0,             # Ajuste conforme necessário\n",
    "    initial_setting=20.0,       # Pressão de saída desejada em metros (exemplo)\n",
    "    initial_status='Active'       # Opened, Closed, Active\n",
    ")\n",
    "# Parâmetros\n",
    "rugosidade = 140\n",
    "diametro_mm = 32\n",
    "diametro_m = diametro_mm / 1000.0\n",
    "\n",
    "# Remova o trecho antigo\n",
    "wn.remove_link('P375')\n",
    "\n",
    "# Adicione os dois novos trechos\n",
    "wn.add_pipe('P375_1', 'N17', 'N354', length=comprimento_1_ajustado, diameter=diametro_m, roughness=rugosidade)\n",
    "wn.add_pipe('P375_2', 'N354', 'N351', length=comprimento_2_ajustado, diameter=diametro_m, roughness=rugosidade)\n",
    "\n",
    "pipe = wn.get_link('P375_1')\n",
    "start_node = pipe.start_node_name\n",
    "end_node = pipe.end_node_name\n",
    "wn.remove_link('P375_1')\n",
    "\n",
    "wn.add_valve(\n",
    "    name='VRP_P375_1',\n",
    "    start_node_name=start_node,\n",
    "    end_node_name=end_node,\n",
    "    diameter=pipe.diameter,\n",
    "    valve_type='PRV',           # Tipo de válvula: PRV para redutora de pressão\n",
    "    minor_loss=10.0,             # Ajuste conforme necessário\n",
    "    initial_setting=20.0,       # Pressão de saída desejada em metros (exemplo)\n",
    "    initial_status='Active'       # Opened, Closed, Active\n",
    ")\n",
    "\n",
    "pipe = wn.get_link('P366')\n",
    "start_node = pipe.start_node_name\n",
    "end_node = pipe.end_node_name\n",
    "wn.remove_link('P366')\n",
    "\n",
    "wn.add_valve(\n",
    "    name='VRP_P366',\n",
    "    start_node_name=start_node,\n",
    "    end_node_name=end_node,\n",
    "    diameter=pipe.diameter,\n",
    "    valve_type='PRV',           # Tipo de válvula: PRV para redutora de pressão\n",
    "    minor_loss=10.0,             # Ajuste conforme necessário\n",
    "    initial_setting=20.0,       # Pressão de saída desejada em metros (exemplo)\n",
    "    initial_status='Active'       # Opened, Closed, Active\n",
    ")\n",
    "\n",
    "\n",
    "sim = wntr.sim.EpanetSimulator(wn)\n",
    "results = sim.run_sim()\n",
    "\n",
    "# Extraia pressões do último instante simulado\n",
    "pressure = results.node['pressure'].iloc[-1]\n",
    "demanda = results.node['demand'].iloc[-1]\n",
    "flowrate = results.link['flowrate']\n",
    "flow_last = flowrate.iloc[-1]\n",
    "# Substitui valores negativos por zero\n",
    "pressure = pressure.clip(lower=0)\n",
    "\n",
    "# Converta as Coordenadas dos Nós para Latitude/Longitude\n",
    "from pyproj import Transformer\n",
    "\n",
    "transformer = Transformer.from_crs('EPSG:31983', 'EPSG:4326', always_xy=True)\n",
    "nodes_latlon = {}\n",
    "for node in wn.node_name_list:\n",
    "    x, y = wn.get_node(node).coordinates\n",
    "    lon, lat = transformer.transform(x, y)\n",
    "    nodes_latlon[node] = (lat, lon)\n",
    "\n",
    "# Normaliza as pressões para escala de cores\n",
    "press_values = list(pressure.values)\n",
    "# norm = colors.Normalize(vmin=min(press_values), vmax=max(press_values))\n",
    "# Supondo que press_values já é sua lista de pressões\n",
    "vmin = min(press_values)\n",
    "vmax = max(press_values)\n",
    "# Crie o mapa centralizado em um ponto da rede\n",
    "lat_centro, lon_centro = list(nodes_latlon.values())[0]\n",
    "m = folium.Map(location=[lat_centro, lon_centro], zoom_start=15)\n",
    "velocity = results.link['velocity']\n",
    "\n",
    "\n",
    "for valve_name in wn.valve_name_list:\n",
    "    valve = wn.get_link(valve_name)\n",
    "    start_node = valve.start_node_name\n",
    "    end_node = valve.end_node_name\n",
    "    latlon_start = nodes_latlon[start_node]\n",
    "    latlon_end = nodes_latlon[end_node]\n",
    "    folium.PolyLine(\n",
    "        locations=[latlon_start, latlon_end],\n",
    "        color='black',\n",
    "        weight=3,\n",
    "        opacity=0.8,\n",
    "        popup=f'Válvula {valve_name} ({valve.valve_type})'\n",
    "    ).add_to(m)\n",
    "\n",
    "# Adicionar os trechos de redes\n",
    "for pipe_name in wn.pipe_name_list:\n",
    "    pipe = wn.get_link(pipe_name)\n",
    "    start_node = pipe.start_node_name\n",
    "    end_node = pipe.end_node_name\n",
    "    latlon_start = nodes_latlon[start_node]\n",
    "    latlon_end = nodes_latlon[end_node]\n",
    "    velocity_last = velocity[pipe_name].iloc[-1]*3.6\n",
    "    flow_value = flow_last[pipe_name]*1000\n",
    "    popup_text = f\"{pipe_name}: Velocidade = {velocity_last:.2f} m/s - Vazão = {flow_value:.2f} l/s\"\n",
    "\n",
    "    folium.PolyLine(\n",
    "        locations=[latlon_start, latlon_end],\n",
    "        color='black',\n",
    "        weight=3,\n",
    "        opacity=0.7,\n",
    "        popup=popup_text\n",
    "    ).add_to(m)\n",
    "\n",
    "\n",
    "# Adicione cada nó com cor conforme a pressão\n",
    "\n",
    "vmin = min(press_values)\n",
    "vmax = max(press_values)\n",
    "cmap = plt.colormaps['YlOrBr']\n",
    "colors = [cmap(i / 10) for i in range(11)]\n",
    "hex_colors = [mcolors.rgb2hex(c) for c in colors]\n",
    "\n",
    "colormap = bcm.LinearColormap(hex_colors, vmin=vmin, vmax=vmax, caption='Pressão (m)')\n",
    "colormap.add_to(m)\n",
    "\n",
    "# Adiciona um ícone no ponto médio de cada VRP\n",
    "for valve_name in wn.valve_name_list:\n",
    "    valve = wn.get_link(valve_name)\n",
    "    start_node = valve.start_node_name\n",
    "    end_node = valve.end_node_name\n",
    "    latlon_start = nodes_latlon[start_node]\n",
    "    latlon_end = nodes_latlon[end_node]\n",
    "    # Calcula o ponto médio para posicionar o ícone\n",
    "    lat_valve = (latlon_start[0] + latlon_end[0]) / 2\n",
    "    lon_valve = (latlon_start[1] + latlon_end[1]) / 2\n",
    "    folium.Marker(\n",
    "        location=[lat_valve, lon_valve],\n",
    "        popup=f'VRP: {valve_name} ({valve.valve_type})',\n",
    "        icon=folium.CustomIcon('https://raw.githubusercontent.com/kaioribeiro97/WNTR/f0c8942f2398fb38053519aac3e8560e4f609220/imagens/1.svg',\n",
    "    icon_size=(40, 40),icon_anchor=(20, 40),\n",
    ")\n",
    "    ).add_to(m)\n",
    "\n",
    "\n",
    "for node, (lat, lon) in nodes_latlon.items():\n",
    "    press = pressure[node]\n",
    "    deman = demanda[node]\n",
    "    color = colormap(press)\n",
    "    if node == nome_reservatorio:\n",
    "        folium.Marker(\n",
    "            location=[lat, lon],\n",
    "            popup=f'Reservatório {node}: {press:.2f} m - Demanda {deman:.5f} l/s',\n",
    "            icon=folium.CustomIcon('https://raw.githubusercontent.com/kaioribeiro97/WNTR/f0c8942f2398fb38053519aac3e8560e4f609220/imagens/2.svg',\n",
    "    icon_size=(40, 40),icon_anchor=(20, 40),)\n",
    "        ).add_to(m)\n",
    "    else:\n",
    "        folium.CircleMarker(\n",
    "            location=[lat, lon],\n",
    "            radius=8,\n",
    "            color=color,\n",
    "            fill=True,\n",
    "            fill_color=color,\n",
    "            fill_opacity=0.9,\n",
    "            popup=f'{node}: {press:.2f} m - Demanda {deman:.5f} l/s'\n",
    "        ).add_to(m)\n",
    "\n",
    "m.save('rede_pressao_mapa_VRP.html')\n",
    "\n",
    "\n",
    "# Gere o mapa interativo e salve em um arquivo HTML\n",
    "# wntr.graphics.plot_leaflet_network(wn, filename='rede_mapa.html')\n",
    "\n"
   ]
  },
  {
   "cell_type": "code",
   "execution_count": 16,
   "id": "0e0e9396",
   "metadata": {},
   "outputs": [
    {
     "name": "stdout",
     "output_type": "stream",
     "text": [
      "Nó: Leak_P17 | Pressão: 1136.23 m\n",
      "Nó: N326 | Pressão: 48.29 m\n",
      "Nó: N18 | Pressão: 46.49 m\n",
      "Nó: N191 | Pressão: 46.47 m\n",
      "Nó: N192 | Pressão: 46.43 m\n",
      "Nó: N187 | Pressão: 46.40 m\n",
      "Nó: N19 | Pressão: 46.38 m\n",
      "Nó: N188 | Pressão: 46.10 m\n",
      "Nó: N64 | Pressão: 45.86 m\n",
      "Nó: N189 | Pressão: 45.84 m\n",
      "Nó: N186 | Pressão: 45.78 m\n",
      "Nó: N65 | Pressão: 45.63 m\n",
      "Nó: N190 | Pressão: 45.51 m\n",
      "Nó: N193 | Pressão: 45.34 m\n",
      "Nó: N185 | Pressão: 45.23 m\n",
      "Nó: N353 | Pressão: 44.45 m\n",
      "Nó: N207 | Pressão: 44.30 m\n",
      "Nó: N20 | Pressão: 44.17 m\n",
      "Nó: N194 | Pressão: 44.06 m\n",
      "Nó: N352 | Pressão: 43.84 m\n",
      "Nó: N17 | Pressão: 43.38 m\n",
      "Nó: N195 | Pressão: 43.20 m\n",
      "Nó: N203 | Pressão: 43.17 m\n",
      "Nó: N325 | Pressão: 42.93 m\n",
      "Nó: N350 | Pressão: 42.88 m\n",
      "Nó: N202 | Pressão: 42.74 m\n",
      "Nó: N206 | Pressão: 42.65 m\n",
      "Nó: N21 | Pressão: 42.64 m\n",
      "Nó: N176 | Pressão: 42.49 m\n",
      "Nó: N196 | Pressão: 42.41 m\n",
      "Nó: N177 | Pressão: 42.28 m\n",
      "Nó: N175 | Pressão: 42.22 m\n",
      "Nó: N174 | Pressão: 42.17 m\n",
      "Nó: N178 | Pressão: 42.16 m\n",
      "Nó: N327 | Pressão: 42.12 m\n",
      "Nó: N63 | Pressão: 42.01 m\n",
      "Nó: N180 | Pressão: 41.93 m\n",
      "Nó: N179 | Pressão: 41.92 m\n",
      "Nó: N173 | Pressão: 41.88 m\n",
      "Nó: N200 | Pressão: 41.85 m\n",
      "Nó: N201 | Pressão: 41.84 m\n",
      "Nó: N343 | Pressão: 41.71 m\n",
      "Nó: N172 | Pressão: 41.60 m\n",
      "Nó: N181 | Pressão: 41.55 m\n",
      "Nó: N197 | Pressão: 41.35 m\n",
      "Nó: N171 | Pressão: 41.34 m\n",
      "Nó: N16 | Pressão: 41.34 m\n",
      "Nó: N354 | Pressão: 41.29 m\n",
      "Nó: N182 | Pressão: 41.28 m\n",
      "Nó: N170 | Pressão: 41.27 m\n",
      "Nó: N169 | Pressão: 41.15 m\n",
      "Nó: N183 | Pressão: 41.08 m\n",
      "Nó: N168 | Pressão: 41.04 m\n",
      "Nó: N204 | Pressão: 40.97 m\n",
      "Nó: N199 | Pressão: 40.95 m\n",
      "Nó: N198 | Pressão: 40.94 m\n",
      "Nó: N205 | Pressão: 40.93 m\n",
      "Nó: N324 | Pressão: 40.71 m\n",
      "Nó: N184 | Pressão: 40.66 m\n",
      "Nó: N351 | Pressão: 40.65 m\n",
      "Nó: N212 | Pressão: 40.46 m\n",
      "Nó: N66 | Pressão: 40.43 m\n",
      "Nó: N213 | Pressão: 40.43 m\n",
      "Nó: N22 | Pressão: 40.28 m\n",
      "Nó: N211 | Pressão: 40.26 m\n",
      "Nó: N344 | Pressão: 40.19 m\n",
      "Nó: N215 | Pressão: 40.15 m\n",
      "Nó: N349 | Pressão: 40.14 m\n",
      "Nó: N208 | Pressão: 40.13 m\n",
      "Nó: N214 | Pressão: 40.08 m\n",
      "Nó: N216 | Pressão: 39.99 m\n",
      "Nó: N167 | Pressão: 39.93 m\n",
      "Nó: N209 | Pressão: 39.78 m\n",
      "Nó: N217 | Pressão: 39.73 m\n",
      "Nó: N160 | Pressão: 39.72 m\n",
      "Nó: N15 | Pressão: 39.71 m\n",
      "Nó: N210 | Pressão: 39.71 m\n",
      "Nó: N62 | Pressão: 39.61 m\n",
      "Nó: N230 | Pressão: 39.60 m\n",
      "Nó: N218 | Pressão: 39.59 m\n",
      "Nó: N166 | Pressão: 39.58 m\n",
      "Nó: N229 | Pressão: 39.47 m\n",
      "Nó: N228 | Pressão: 39.40 m\n",
      "Nó: N219 | Pressão: 39.34 m\n",
      "Nó: N348 | Pressão: 39.34 m\n",
      "Nó: N161 | Pressão: 39.33 m\n",
      "Nó: N227 | Pressão: 39.28 m\n",
      "Nó: N355 | Pressão: 39.12 m\n",
      "Nó: N220 | Pressão: 38.93 m\n",
      "Nó: N226 | Pressão: 38.92 m\n",
      "Nó: N225 | Pressão: 38.88 m\n",
      "Nó: N224 | Pressão: 38.78 m\n",
      "Nó: N223 | Pressão: 38.68 m\n",
      "Nó: N345 | Pressão: 38.57 m\n",
      "Nó: N165 | Pressão: 38.49 m\n",
      "Nó: N222 | Pressão: 38.42 m\n",
      "Nó: N221 | Pressão: 38.35 m\n",
      "Nó: N162 | Pressão: 38.33 m\n",
      "Nó: N347 | Pressão: 38.29 m\n",
      "Nó: N362 | Pressão: 38.28 m\n",
      "Nó: N164 | Pressão: 37.92 m\n",
      "Nó: N346 | Pressão: 37.74 m\n",
      "Nó: N234 | Pressão: 37.61 m\n",
      "Nó: N233 | Pressão: 37.46 m\n",
      "Nó: N356 | Pressão: 37.42 m\n",
      "Nó: N163 | Pressão: 37.25 m\n",
      "Nó: N231 | Pressão: 37.22 m\n",
      "Nó: N236 | Pressão: 37.00 m\n",
      "Nó: N237 | Pressão: 36.94 m\n",
      "Nó: N361 | Pressão: 36.87 m\n",
      "Nó: N232 | Pressão: 36.84 m\n",
      "Nó: N14 | Pressão: 36.80 m\n",
      "Nó: N67 | Pressão: 36.74 m\n",
      "Nó: N235 | Pressão: 36.65 m\n",
      "Nó: N159 | Pressão: 36.50 m\n",
      "Nó: N238 | Pressão: 36.39 m\n",
      "Nó: N158 | Pressão: 36.13 m\n",
      "Nó: N241 | Pressão: 36.06 m\n",
      "Nó: N153 | Pressão: 36.02 m\n",
      "Nó: N242 | Pressão: 35.92 m\n",
      "Nó: N61 | Pressão: 35.86 m\n",
      "Nó: N243 | Pressão: 35.74 m\n",
      "Nó: N357 | Pressão: 35.63 m\n",
      "Nó: N240 | Pressão: 35.55 m\n",
      "Nó: N157 | Pressão: 35.49 m\n",
      "Nó: N244 | Pressão: 35.33 m\n",
      "Nó: N360 | Pressão: 35.18 m\n",
      "Nó: N154 | Pressão: 35.17 m\n",
      "Nó: N245 | Pressão: 35.07 m\n",
      "Nó: N156 | Pressão: 35.01 m\n",
      "Nó: N239 | Pressão: 34.95 m\n",
      "Nó: N155 | Pressão: 34.66 m\n",
      "Nó: N68 | Pressão: 34.41 m\n",
      "Nó: N246 | Pressão: 34.36 m\n",
      "Nó: N23 | Pressão: 33.67 m\n",
      "Nó: N358 | Pressão: 33.51 m\n",
      "Nó: N249 | Pressão: 33.17 m\n",
      "Nó: N359 | Pressão: 32.96 m\n",
      "Nó: N251 | Pressão: 32.81 m\n",
      "Nó: N250 | Pressão: 32.76 m\n",
      "Nó: N252 | Pressão: 32.45 m\n",
      "Nó: N248 | Pressão: 32.15 m\n",
      "Nó: N60 | Pressão: 32.08 m\n",
      "Nó: N258 | Pressão: 31.94 m\n",
      "Nó: N363 | Pressão: 31.79 m\n",
      "Nó: N253 | Pressão: 31.76 m\n",
      "Nó: N259 | Pressão: 31.76 m\n",
      "Nó: N247 | Pressão: 31.66 m\n",
      "Nó: N323 | Pressão: 31.57 m\n",
      "Nó: N370 | Pressão: 31.34 m\n",
      "Nó: N69 | Pressão: 31.26 m\n",
      "Nó: N257 | Pressão: 31.26 m\n",
      "Nó: N254 | Pressão: 31.12 m\n",
      "Nó: N13 | Pressão: 31.00 m\n",
      "Nó: N24 | Pressão: 30.65 m\n",
      "Nó: N265 | Pressão: 30.62 m\n",
      "Nó: N59 | Pressão: 30.49 m\n",
      "Nó: N266 | Pressão: 30.48 m\n",
      "Nó: N364 | Pressão: 30.28 m\n",
      "Nó: N152 | Pressão: 30.28 m\n",
      "Nó: N260 | Pressão: 30.15 m\n",
      "Nó: N256 | Pressão: 30.14 m\n",
      "Nó: N329 | Pressão: 29.95 m\n",
      "Nó: N369 | Pressão: 29.85 m\n",
      "Nó: N145 | Pressão: 29.83 m\n",
      "Nó: N151 | Pressão: 29.77 m\n",
      "Nó: N255 | Pressão: 29.44 m\n",
      "Nó: N146 | Pressão: 29.38 m\n",
      "Nó: N150 | Pressão: 29.31 m\n",
      "Nó: N147 | Pressão: 29.22 m\n",
      "Nó: N261 | Pressão: 29.18 m\n",
      "Nó: N149 | Pressão: 29.10 m\n",
      "Nó: N264 | Pressão: 29.01 m\n",
      "Nó: N267 | Pressão: 28.94 m\n",
      "Nó: N273 | Pressão: 28.93 m\n",
      "Nó: N148 | Pressão: 28.85 m\n",
      "Nó: N274 | Pressão: 28.80 m\n",
      "Nó: N70 | Pressão: 28.79 m\n",
      "Nó: N365 | Pressão: 28.66 m\n",
      "Nó: N371 | Pressão: 28.61 m\n",
      "Nó: N330 | Pressão: 28.41 m\n",
      "Nó: N368 | Pressão: 28.14 m\n",
      "Nó: N328 | Pressão: 28.08 m\n",
      "Nó: N263 | Pressão: 27.97 m\n",
      "Nó: N378 | Pressão: 27.81 m\n",
      "Nó: N58 | Pressão: 27.81 m\n",
      "Nó: N268 | Pressão: 27.74 m\n",
      "Nó: N331 | Pressão: 27.44 m\n",
      "Nó: N272 | Pressão: 27.34 m\n",
      "Nó: N144 | Pressão: 27.25 m\n",
      "Nó: N137 | Pressão: 27.18 m\n",
      "Nó: N372 | Pressão: 27.02 m\n",
      "Nó: N366 | Pressão: 26.98 m\n",
      "Nó: N262 | Pressão: 26.90 m\n",
      "Nó: N143 | Pressão: 26.86 m\n",
      "Nó: N12 | Pressão: 26.85 m\n",
      "Nó: N275 | Pressão: 26.83 m\n",
      "Nó: N332 | Pressão: 26.82 m\n",
      "Nó: N269 | Pressão: 26.80 m\n",
      "Nó: N335 | Pressão: 26.73 m\n",
      "Nó: N138 | Pressão: 26.57 m\n",
      "Nó: N281 | Pressão: 26.53 m\n",
      "Nó: N142 | Pressão: 26.42 m\n",
      "Nó: N367 | Pressão: 26.41 m\n",
      "Nó: N341 | Pressão: 26.39 m\n",
      "Nó: N342 | Pressão: 26.33 m\n",
      "Nó: N336 | Pressão: 26.29 m\n",
      "Nó: N71 | Pressão: 26.19 m\n",
      "Nó: N25 | Pressão: 26.10 m\n",
      "Nó: N377 | Pressão: 26.06 m\n",
      "Nó: N282 | Pressão: 26.04 m\n",
      "Nó: N139 | Pressão: 26.03 m\n",
      "Nó: N337 | Pressão: 25.88 m\n",
      "Nó: N340 | Pressão: 25.82 m\n",
      "Nó: N271 | Pressão: 25.81 m\n",
      "Nó: N141 | Pressão: 25.68 m\n",
      "Nó: N276 | Pressão: 25.35 m\n",
      "Nó: N140 | Pressão: 25.31 m\n",
      "Nó: N333 | Pressão: 25.26 m\n",
      "Nó: N338 | Pressão: 25.23 m\n",
      "Nó: N379 | Pressão: 25.20 m\n",
      "Nó: N373 | Pressão: 25.20 m\n",
      "Nó: N339 | Pressão: 25.16 m\n",
      "Nó: N136 | Pressão: 24.98 m\n",
      "Nó: N280 | Pressão: 24.97 m\n",
      "Nó: N57 | Pressão: 24.88 m\n",
      "Nó: N270 | Pressão: 24.80 m\n",
      "Nó: N277 | Pressão: 24.68 m\n",
      "Nó: N376 | Pressão: 24.58 m\n",
      "Nó: N386 | Pressão: 24.55 m\n",
      "Nó: N283 | Pressão: 24.54 m\n",
      "Nó: N135 | Pressão: 24.45 m\n",
      "Nó: N129 | Pressão: 24.42 m\n",
      "Nó: N380 | Pressão: 24.01 m\n",
      "Nó: N289 | Pressão: 23.96 m\n",
      "Nó: N26 | Pressão: 23.89 m\n",
      "Nó: N134 | Pressão: 23.83 m\n",
      "Nó: N130 | Pressão: 23.80 m\n",
      "Nó: N72 | Pressão: 23.80 m\n",
      "Nó: N290 | Pressão: 23.64 m\n",
      "Nó: N131 | Pressão: 23.27 m\n",
      "Nó: N133 | Pressão: 23.20 m\n",
      "Nó: N385 | Pressão: 23.10 m\n",
      "Nó: N284 | Pressão: 22.85 m\n",
      "Nó: N288 | Pressão: 22.84 m\n",
      "Nó: N374 | Pressão: 22.78 m\n",
      "Nó: N279 | Pressão: 22.70 m\n",
      "Nó: N56 | Pressão: 22.54 m\n",
      "Nó: N132 | Pressão: 22.53 m\n",
      "Nó: N27 | Pressão: 22.50 m\n",
      "Nó: N278 | Pressão: 22.48 m\n",
      "Nó: N125 | Pressão: 22.43 m\n",
      "Nó: N297 | Pressão: 22.34 m\n",
      "Nó: N291 | Pressão: 22.30 m\n",
      "Nó: N126 | Pressão: 22.20 m\n",
      "Nó: N334 | Pressão: 22.19 m\n",
      "Nó: N128 | Pressão: 22.14 m\n",
      "Nó: N124 | Pressão: 22.08 m\n",
      "Nó: N127 | Pressão: 22.05 m\n",
      "Nó: N285 | Pressão: 21.98 m\n",
      "Nó: N384 | Pressão: 21.91 m\n",
      "Nó: N298 | Pressão: 21.89 m\n",
      "Nó: N108 | Pressão: 21.87 m\n",
      "Nó: N381 | Pressão: 21.80 m\n",
      "Nó: N28 | Pressão: 21.64 m\n",
      "Nó: N123 | Pressão: 21.60 m\n",
      "Nó: N387 | Pressão: 21.52 m\n",
      "Nó: N394 | Pressão: 21.42 m\n",
      "Nó: N287 | Pressão: 21.42 m\n",
      "Nó: N111 | Pressão: 21.39 m\n",
      "Nó: N110 | Pressão: 21.36 m\n",
      "Nó: N122 | Pressão: 21.36 m\n",
      "Nó: N112 | Pressão: 21.33 m\n",
      "Nó: N11 | Pressão: 21.33 m\n",
      "Nó: N121 | Pressão: 21.19 m\n",
      "Nó: N73 | Pressão: 21.19 m\n",
      "Nó: N375 | Pressão: 21.17 m\n",
      "Nó: N292 | Pressão: 21.14 m\n",
      "Nó: N322 | Pressão: 21.04 m\n",
      "Nó: N109 | Pressão: 21.03 m\n",
      "Nó: N382 | Pressão: 21.00 m\n",
      "Nó: N113 | Pressão: 20.94 m\n",
      "Nó: N388 | Pressão: 20.86 m\n",
      "Nó: N29 | Pressão: 20.84 m\n",
      "Nó: N120 | Pressão: 20.78 m\n",
      "Nó: N393 | Pressão: 20.74 m\n",
      "Nó: N296 | Pressão: 20.68 m\n",
      "Nó: N286 | Pressão: 20.52 m\n",
      "Nó: N119 | Pressão: 20.45 m\n",
      "Nó: N299 | Pressão: 20.45 m\n",
      "Nó: N383 | Pressão: 20.39 m\n",
      "Nó: N30 | Pressão: 20.34 m\n",
      "Nó: N293 | Pressão: 20.27 m\n",
      "Nó: N55 | Pressão: 20.20 m\n",
      "Nó: N118 | Pressão: 20.02 m\n",
      "Nó: N31 | Pressão: 19.74 m\n",
      "Nó: N389 | Pressão: 19.74 m\n",
      "Nó: N107 | Pressão: 19.73 m\n",
      "Nó: N117 | Pressão: 19.68 m\n",
      "Nó: N115 | Pressão: 19.68 m\n",
      "Nó: N392 | Pressão: 19.52 m\n",
      "Nó: N114 | Pressão: 19.47 m\n",
      "Nó: N32 | Pressão: 19.39 m\n",
      "Nó: N116 | Pressão: 19.39 m\n",
      "Nó: N92 | Pressão: 19.36 m\n",
      "Nó: N33 | Pressão: 19.33 m\n",
      "Nó: N74 | Pressão: 19.29 m\n",
      "Nó: N106 | Pressão: 19.27 m\n",
      "Nó: N93 | Pressão: 19.03 m\n",
      "Nó: N103 | Pressão: 18.91 m\n",
      "Nó: N395 | Pressão: 18.89 m\n",
      "Nó: N295 | Pressão: 18.87 m\n",
      "Nó: N402 | Pressão: 18.79 m\n",
      "Nó: N102 | Pressão: 18.78 m\n",
      "Nó: N300 | Pressão: 18.72 m\n",
      "Nó: N10 | Pressão: 18.62 m\n",
      "Nó: N96 | Pressão: 18.56 m\n",
      "Nó: N94 | Pressão: 18.40 m\n",
      "Nó: N97 | Pressão: 18.35 m\n",
      "Nó: N54 | Pressão: 18.26 m\n",
      "Nó: N34 | Pressão: 18.22 m\n",
      "Nó: N105 | Pressão: 18.19 m\n",
      "Nó: N390 | Pressão: 18.17 m\n",
      "Nó: N294 | Pressão: 18.15 m\n",
      "Nó: N396 | Pressão: 18.08 m\n",
      "Nó: N391 | Pressão: 18.05 m\n",
      "Nó: N321 | Pressão: 18.04 m\n",
      "Nó: N401 | Pressão: 18.02 m\n",
      "Nó: N101 | Pressão: 18.00 m\n",
      "Nó: N36 | Pressão: 17.98 m\n",
      "Nó: N35 | Pressão: 17.96 m\n",
      "Nó: N104 | Pressão: 17.88 m\n",
      "Nó: N301 | Pressão: 17.82 m\n",
      "Nó: N37 | Pressão: 17.74 m\n",
      "Nó: N98 | Pressão: 17.71 m\n",
      "Nó: N95 | Pressão: 17.70 m\n",
      "Nó: N100 | Pressão: 17.64 m\n",
      "Nó: N397 | Pressão: 17.42 m\n",
      "Nó: N91 | Pressão: 17.39 m\n",
      "Nó: N99 | Pressão: 17.33 m\n",
      "Nó: N84 | Pressão: 17.09 m\n",
      "Nó: N400 | Pressão: 17.05 m\n",
      "Nó: N75 | Pressão: 17.02 m\n",
      "Nó: N90 | Pressão: 16.88 m\n",
      "Nó: N9 | Pressão: 16.86 m\n",
      "Nó: N85 | Pressão: 16.47 m\n",
      "Nó: N410 | Pressão: 16.40 m\n",
      "Nó: N411 | Pressão: 16.34 m\n",
      "Nó: N403 | Pressão: 16.30 m\n",
      "Nó: N398 | Pressão: 16.27 m\n",
      "Nó: N399 | Pressão: 16.22 m\n",
      "Nó: N53 | Pressão: 16.21 m\n",
      "Nó: N418 | Pressão: 16.18 m\n",
      "Nó: N89 | Pressão: 16.15 m\n",
      "Nó: N427 | Pressão: 15.88 m\n",
      "Nó: N88 | Pressão: 15.88 m\n",
      "Nó: N86 | Pressão: 15.67 m\n",
      "Nó: N419 | Pressão: 15.55 m\n",
      "Nó: N434 | Pressão: 15.51 m\n",
      "Nó: N412 | Pressão: 15.50 m\n",
      "Nó: N87 | Pressão: 15.40 m\n",
      "Nó: N417 | Pressão: 15.34 m\n",
      "Nó: N426 | Pressão: 15.28 m\n",
      "Nó: N83 | Pressão: 15.22 m\n",
      "Nó: N76 | Pressão: 15.10 m\n",
      "Nó: N38 | Pressão: 15.07 m\n",
      "Nó: N404 | Pressão: 14.82 m\n",
      "Nó: N409 | Pressão: 14.79 m\n",
      "Nó: N8 | Pressão: 14.76 m\n",
      "Nó: N82 | Pressão: 14.71 m\n",
      "Nó: N77 | Pressão: 14.42 m\n",
      "Nó: N405 | Pressão: 14.36 m\n",
      "Nó: N408 | Pressão: 14.22 m\n",
      "Nó: N413 | Pressão: 14.06 m\n",
      "Nó: N416 | Pressão: 14.06 m\n",
      "Nó: N304 | Pressão: 13.91 m\n",
      "Nó: N81 | Pressão: 13.87 m\n",
      "Nó: N78 | Pressão: 13.78 m\n",
      "Nó: N320 | Pressão: 13.70 m\n",
      "Nó: N80 | Pressão: 13.54 m\n",
      "Nó: N406 | Pressão: 13.50 m\n",
      "Nó: N420 | Pressão: 13.47 m\n",
      "Nó: N428 | Pressão: 13.42 m\n",
      "Nó: N425 | Pressão: 13.36 m\n",
      "Nó: N407 | Pressão: 13.35 m\n",
      "Nó: N313 | Pressão: 13.15 m\n",
      "Nó: N433 | Pressão: 13.15 m\n",
      "Nó: N79 | Pressão: 13.11 m\n",
      "Nó: N442 | Pressão: 13.08 m\n",
      "Nó: N319 | Pressão: 12.95 m\n",
      "Nó: N435 | Pressão: 12.70 m\n",
      "Nó: N317 | Pressão: 12.50 m\n",
      "Nó: N414 | Pressão: 12.48 m\n",
      "Nó: N318 | Pressão: 12.45 m\n",
      "Nó: N415 | Pressão: 12.41 m\n",
      "Nó: N421 | Pressão: 12.37 m\n",
      "Nó: N424 | Pressão: 12.24 m\n",
      "Nó: N314 | Pressão: 12.22 m\n",
      "Nó: N315 | Pressão: 12.20 m\n",
      "Nó: N429 | Pressão: 12.10 m\n",
      "Nó: N316 | Pressão: 11.95 m\n",
      "Nó: N432 | Pressão: 11.67 m\n",
      "Nó: N39 | Pressão: 11.29 m\n",
      "Nó: N422 | Pressão: 11.18 m\n",
      "Nó: N430 | Pressão: 11.12 m\n",
      "Nó: N441 | Pressão: 11.00 m\n",
      "Nó: N423 | Pressão: 10.96 m\n",
      "Nó: N431 | Pressão: 10.95 m\n",
      "Nó: N436 | Pressão: 10.73 m\n",
      "Nó: N51 | Pressão: 10.34 m\n",
      "Nó: N303 | Pressão: 10.27 m\n",
      "Nó: N312 | Pressão: 10.26 m\n",
      "Nó: N311 | Pressão: 10.21 m\n",
      "Nó: N50 | Pressão: 10.19 m\n",
      "Nó: N302 | Pressão: 10.16 m\n",
      "Nó: N305 | Pressão: 10.02 m\n",
      "Nó: N49 | Pressão: 10.00 m\n",
      "Nó: N306 | Pressão: 9.89 m\n",
      "Nó: N440 | Pressão: 9.85 m\n",
      "Nó: N52 | Pressão: 9.79 m\n",
      "Nó: N310 | Pressão: 9.75 m\n",
      "Nó: N308 | Pressão: 9.68 m\n",
      "Nó: N309 | Pressão: 9.63 m\n",
      "Nó: N307 | Pressão: 9.54 m\n",
      "Nó: N437 | Pressão: 9.23 m\n",
      "Nó: N439 | Pressão: 8.85 m\n",
      "Nó: N450 | Pressão: 8.52 m\n",
      "Nó: N438 | Pressão: 8.30 m\n",
      "Nó: N443 | Pressão: 8.21 m\n",
      "Nó: N40 | Pressão: 7.83 m\n",
      "Nó: N449 | Pressão: 7.13 m\n",
      "Nó: N444 | Pressão: 6.83 m\n",
      "Nó: N448 | Pressão: 6.24 m\n",
      "Nó: N445 | Pressão: 6.19 m\n",
      "Nó: N458 | Pressão: 5.32 m\n",
      "Nó: N451 | Pressão: 5.28 m\n",
      "Nó: N41 | Pressão: 5.21 m\n",
      "Nó: N447 | Pressão: 4.57 m\n",
      "Nó: N457 | Pressão: 4.30 m\n",
      "Nó: N452 | Pressão: 4.28 m\n",
      "Nó: N446 | Pressão: 3.95 m\n",
      "Nó: N465 | Pressão: 3.66 m\n",
      "Nó: N459 | Pressão: 3.34 m\n",
      "Nó: N42 | Pressão: 3.29 m\n",
      "Nó: N453 | Pressão: 3.22 m\n",
      "Nó: N456 | Pressão: 3.21 m\n",
      "Nó: N454 | Pressão: 2.79 m\n",
      "Nó: N455 | Pressão: 2.77 m\n",
      "Nó: N460 | Pressão: 2.34 m\n",
      "Nó: N464 | Pressão: 2.05 m\n",
      "Nó: N43 | Pressão: 1.78 m\n",
      "Nó: N461 | Pressão: 1.77 m\n",
      "Nó: N463 | Pressão: 1.29 m\n",
      "Nó: N462 | Pressão: 0.89 m\n",
      "Nó: N466 | Pressão: 0.68 m\n",
      "Nó: N473 | Pressão: 0.55 m\n",
      "Nó: N44 | Pressão: 0.16 m\n",
      "Nó: R1 | Pressão: 0.00 m\n",
      "Nó: N472 | Pressão: -0.44 m\n",
      "Nó: N467 | Pressão: -0.48 m\n",
      "Nó: N474 | Pressão: -0.75 m\n",
      "Nó: N46 | Pressão: -0.77 m\n",
      "Nó: N481 | Pressão: -1.02 m\n",
      "Nó: N469 | Pressão: -1.02 m\n",
      "Nó: N470 | Pressão: -1.03 m\n",
      "Nó: N471 | Pressão: -1.05 m\n",
      "Nó: N468 | Pressão: -1.10 m\n",
      "Nó: N45 | Pressão: -1.19 m\n",
      "Nó: N480 | Pressão: -2.60 m\n",
      "Nó: N475 | Pressão: -2.64 m\n",
      "Nó: N476 | Pressão: -3.23 m\n",
      "Nó: N479 | Pressão: -3.39 m\n",
      "Nó: N477 | Pressão: -3.53 m\n",
      "Nó: N478 | Pressão: -3.59 m\n",
      "Nó: N482 | Pressão: -4.02 m\n",
      "Nó: N491 | Pressão: -4.30 m\n",
      "Nó: N483 | Pressão: -5.43 m\n",
      "Nó: N490 | Pressão: -5.82 m\n",
      "Nó: N486 | Pressão: -6.03 m\n",
      "Nó: N492 | Pressão: -6.04 m\n",
      "Nó: N484 | Pressão: -6.09 m\n",
      "Nó: N485 | Pressão: -6.17 m\n",
      "Nó: N487 | Pressão: -6.22 m\n",
      "Nó: N488 | Pressão: -6.33 m\n",
      "Nó: N489 | Pressão: -6.37 m\n",
      "Nó: N501 | Pressão: -7.28 m\n",
      "Nó: N493 | Pressão: -8.51 m\n",
      "Nó: N494 | Pressão: -8.87 m\n",
      "Nó: N500 | Pressão: -9.16 m\n",
      "Nó: N495 | Pressão: -9.22 m\n",
      "Nó: N496 | Pressão: -9.41 m\n",
      "Nó: N499 | Pressão: -9.77 m\n",
      "Nó: N498 | Pressão: -10.18 m\n",
      "Nó: N497 | Pressão: -10.21 m\n"
     ]
    }
   ],
   "source": [
    "# Listar pressões ordenadas\n",
    "for node, press in sorted(pressure.items(), key=lambda x: x[1], reverse=True):\n",
    "    print(f'Nó: {node} | Pressão: {press:.2f} m')\n"
   ]
  },
  {
   "cell_type": "code",
   "execution_count": 50,
   "id": "33a8468f",
   "metadata": {},
   "outputs": [],
   "source": [
    "import numpy as np\n",
    "from scipy.stats import lognorm\n",
    "import networkx as nx\n",
    "import geopandas as gpd\n",
    "import matplotlib.pylab as plt\n",
    "import warnings\n",
    "import wntr\n",
    "import folium\n",
    "from pyproj import Transformer\n",
    "# Create a WaterNetworkModel from an EPANET INP file\n",
    "\n",
    "wn = wntr.network.WaterNetworkModel('Sim_PKW_Q28.inp')\n",
    "nome_reservatorio = 'R1'         # Nome do reservatório\n",
    "base_head = 1153.95                # Carga hidráulica (ajuste conforme sua rede)\n",
    "coordinates = (-47.971286,-15.927268)             # Coordenadas (opcional, ajuste conforme necessário)\n",
    "# Parâmetros da tubulação\n",
    "nome_tubulacao = 'P_R1_N35'\n",
    "comprimento = 0.10                # Comprimento em metros (ajuste conforme necessário)\n",
    "diametro = 110                   # Diâmetro em mm (ajuste conforme necessário)\n",
    "rugosidade = 140                 # Rugosidade (ajuste conforme necessário)\n",
    "\n",
    "# Adiciona o reservatório à rede\n",
    "wn.add_reservoir(nome_reservatorio, base_head=base_head, coordinates=coordinates)\n",
    "# Adiciona a tubulação conectando o reservatório ao nó N35\n",
    "wn.add_pipe(nome_tubulacao, nome_reservatorio, 'N35', length=comprimento, diameter=diametro, roughness=rugosidade)\n"
   ]
  },
  {
   "cell_type": "markdown",
   "id": "7266a12d",
   "metadata": {},
   "source": [
    "---------------------------------------"
   ]
  },
  {
   "cell_type": "code",
   "execution_count": 31,
   "id": "20bba2f8",
   "metadata": {},
   "outputs": [],
   "source": [
    "import folium\n",
    "# Crie o mapa centralizado nas coordenadas do reservatório\n",
    "m = folium.Map(location=[coordinates[1], coordinates[0]], zoom_start=16)\n",
    "\n",
    "# Adicione o reservatório com um marcador especial (cor diferente)\n",
    "folium.Marker(\n",
    "    location=[coordinates[1], coordinates[0]],\n",
    "    popup=nome_reservatorio,\n",
    "    icon=folium.CustomIcon('https://cdn-icons-png.flaticon.com/512/5733/5733770.png',\n",
    "    icon_size=(20, 20),\n",
    ")\n",
    ").add_to(m)\n",
    "\n",
    "# Adicione os nós restantes da rede (exemplo para todos os nós)\n",
    "for node_name, node in wn.nodes():\n",
    "    if node_name != nome_reservatorio:\n",
    "        if hasattr(node, 'coordinates') and node.coordinates:\n",
    "            folium.CircleMarker(\n",
    "                location=[node.coordinates[1], node.coordinates[0]],\n",
    "                radius=4,\n",
    "                color='red',\n",
    "                fill=True,\n",
    "                fill_color='blue',\n",
    "                popup=node_name\n",
    "            ).add_to(m)\n",
    "\n",
    "# Adicione as tubulações (pipes) como linhas\n",
    "for pipe_name, pipe in wn.pipes():\n",
    "    start_node = wn.get_node(pipe.start_node_name)\n",
    "    end_node = wn.get_node(pipe.end_node_name)\n",
    "    if hasattr(start_node, 'coordinates') and hasattr(end_node, 'coordinates'):\n",
    "        folium.PolyLine(\n",
    "            locations=[\n",
    "                [start_node.coordinates[1], start_node.coordinates[0]],\n",
    "                [end_node.coordinates[1], end_node.coordinates[0]]\n",
    "            ],\n",
    "            color='gray',\n",
    "            weight=2,\n",
    "            popup=pipe_name\n",
    "        ).add_to(m)\n",
    "\n",
    "# Salve o mapa em HTML\n",
    "m.save('rede_mapa_personalizado.html')\n"
   ]
  }
 ],
 "metadata": {
  "kernelspec": {
   "display_name": "base",
   "language": "python",
   "name": "python3"
  },
  "language_info": {
   "codemirror_mode": {
    "name": "ipython",
    "version": 3
   },
   "file_extension": ".py",
   "mimetype": "text/x-python",
   "name": "python",
   "nbconvert_exporter": "python",
   "pygments_lexer": "ipython3",
   "version": "3.11.7"
  }
 },
 "nbformat": 4,
 "nbformat_minor": 5
}
